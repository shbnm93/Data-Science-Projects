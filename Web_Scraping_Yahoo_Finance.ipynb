{
  "nbformat": 4,
  "nbformat_minor": 0,
  "metadata": {
    "colab": {
      "provenance": [],
      "authorship_tag": "ABX9TyNDap/aWjmeL8gUg6eYtHxD",
      "include_colab_link": true
    },
    "kernelspec": {
      "name": "python3",
      "display_name": "Python 3"
    },
    "language_info": {
      "name": "python"
    }
  },
  "cells": [
    {
      "cell_type": "markdown",
      "metadata": {
        "id": "view-in-github",
        "colab_type": "text"
      },
      "source": [
        "<a href=\"https://colab.research.google.com/github/shbnm93/Data-Science-Projects/blob/main/Web_Scraping_Yahoo_Finance.ipynb\" target=\"_parent\"><img src=\"https://colab.research.google.com/assets/colab-badge.svg\" alt=\"Open In Colab\"/></a>"
      ]
    },
    {
      "cell_type": "code",
      "execution_count": 1,
      "metadata": {
        "colab": {
          "base_uri": "https://localhost:8080/"
        },
        "id": "AyFqmNjoy4p4",
        "outputId": "32ea9000-506f-4bad-f1c2-226b25a0ea38"
      },
      "outputs": [
        {
          "output_type": "stream",
          "name": "stdout",
          "text": [
            "1.0000 USD = 1.0839 EUR\n",
            "1.0000 EUR = 0.9226 USD\n"
          ]
        }
      ],
      "source": [
        "import requests\n",
        "from bs4 import BeautifulSoup\n",
        "import re\n",
        "\n",
        "def convert_currency(amount, from_currency=\"USD\", to_currency=\"EUR\"):\n",
        "  url = 'https://finance.yahoo.com/quote/EURUSD=X/'\n",
        "  response = requests.get(url)\n",
        "  soup = BeautifulSoup(response.text, 'html.parser')\n",
        "\n",
        "  rate_text = soup.find('fin-streamer', {'class':'Fw(b) Fz(36px) Mb(-4px) D(ib)'}).text\n",
        "  rate_match = re.search(r'\\d.\\d+', rate_text)\n",
        "  rate = float(rate_match.group(0))\n",
        "\n",
        "  if from_currency==\"USD\" and to_currency==\"EUR\":\n",
        "    converted_amount = amount * rate\n",
        "  elif from_currency==\"EUR\" and to_currency==\"USD\":\n",
        "    converted_amount = amount / rate\n",
        "  else:\n",
        "    print(\"Invalid currencies\")\n",
        "    return\n",
        "\n",
        "  print(f\"{amount:.4f} {from_currency} = {converted_amount:.4f} {to_currency}\")\n",
        "\n",
        "convert_currency(1, \"USD\", \"EUR\")\n",
        "convert_currency(1, \"EUR\", \"USD\")"
      ]
    }
  ]
}