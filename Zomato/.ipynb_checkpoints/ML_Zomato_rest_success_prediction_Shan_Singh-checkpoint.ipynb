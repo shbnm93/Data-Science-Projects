{
 "cells": [
  {
   "cell_type": "markdown",
   "id": "4b2667f9",
   "metadata": {},
   "source": [
    "## 1.. read data from Sqlite database "
   ]
  },
  {
   "cell_type": "code",
   "execution_count": 1,
   "id": "56dd7bd1",
   "metadata": {},
   "outputs": [],
   "source": [
    "## import necessary packages !\n",
    "\n",
    "import pandas as pd\n",
    "import numpy as np\n",
    "import matplotlib.pyplot as plt\n",
    "import seaborn as sns"
   ]
  },
  {
   "cell_type": "code",
   "execution_count": 2,
   "id": "44094c7c",
   "metadata": {},
   "outputs": [],
   "source": [
    "import sqlite3"
   ]
  },
  {
   "cell_type": "code",
   "execution_count": 3,
   "id": "afd76982",
   "metadata": {},
   "outputs": [],
   "source": [
    "#create a SQL connection to our SQLite database\n",
    "\n",
    "con = sqlite3.connect(r'C:\\Users\\Ali\\Desktop\\Data Science Projects\\Zomato/zomato_rawdata.sqlite')"
   ]
  },
  {
   "cell_type": "code",
   "execution_count": 4,
   "id": "1617d176",
   "metadata": {},
   "outputs": [],
   "source": [
    "## check online its table name on https://sqliteonline.com/\n",
    "\n",
    "df = pd.read_sql_query(\"SELECT * FROM USERS\" , con)"
   ]
  },
  {
   "cell_type": "code",
   "execution_count": 5,
   "id": "239a5043",
   "metadata": {},
   "outputs": [
    {
     "data": {
      "text/plain": [
       "(51717, 18)"
      ]
     },
     "execution_count": 5,
     "metadata": {},
     "output_type": "execute_result"
    }
   ],
   "source": [
    "df.shape ## dimensions of data"
   ]
  },
  {
   "cell_type": "code",
   "execution_count": 6,
   "id": "7ee51369",
   "metadata": {},
   "outputs": [
    {
     "data": {
      "text/html": [
       "<div>\n",
       "<style scoped>\n",
       "    .dataframe tbody tr th:only-of-type {\n",
       "        vertical-align: middle;\n",
       "    }\n",
       "\n",
       "    .dataframe tbody tr th {\n",
       "        vertical-align: top;\n",
       "    }\n",
       "\n",
       "    .dataframe thead th {\n",
       "        text-align: right;\n",
       "    }\n",
       "</style>\n",
       "<table border=\"1\" class=\"dataframe\">\n",
       "  <thead>\n",
       "    <tr style=\"text-align: right;\">\n",
       "      <th></th>\n",
       "      <th>index</th>\n",
       "      <th>url</th>\n",
       "      <th>address</th>\n",
       "      <th>name</th>\n",
       "      <th>online_order</th>\n",
       "      <th>book_table</th>\n",
       "      <th>rate</th>\n",
       "      <th>votes</th>\n",
       "      <th>phone</th>\n",
       "      <th>location</th>\n",
       "      <th>rest_type</th>\n",
       "      <th>dish_liked</th>\n",
       "      <th>cuisines</th>\n",
       "      <th>approx_cost(for two people)</th>\n",
       "      <th>reviews_list</th>\n",
       "      <th>menu_item</th>\n",
       "      <th>listed_in(type)</th>\n",
       "      <th>listed_in(city)</th>\n",
       "    </tr>\n",
       "  </thead>\n",
       "  <tbody>\n",
       "    <tr>\n",
       "      <th>0</th>\n",
       "      <td>0</td>\n",
       "      <td>https://www.zomato.com/bangalore/jalsa-banasha...</td>\n",
       "      <td>942, 21st Main Road, 2nd Stage, Banashankari, ...</td>\n",
       "      <td>Jalsa</td>\n",
       "      <td>Yes</td>\n",
       "      <td>Yes</td>\n",
       "      <td>4.1/5</td>\n",
       "      <td>775</td>\n",
       "      <td>080 42297555\\r\\n+91 9743772233</td>\n",
       "      <td>Banashankari</td>\n",
       "      <td>Casual Dining</td>\n",
       "      <td>Pasta, Lunch Buffet, Masala Papad, Paneer Laja...</td>\n",
       "      <td>North Indian, Mughlai, Chinese</td>\n",
       "      <td>800</td>\n",
       "      <td>[('Rated 4.0', 'RATED\\n  A beautiful place to ...</td>\n",
       "      <td>[]</td>\n",
       "      <td>Buffet</td>\n",
       "      <td>Banashankari</td>\n",
       "    </tr>\n",
       "    <tr>\n",
       "      <th>1</th>\n",
       "      <td>1</td>\n",
       "      <td>https://www.zomato.com/bangalore/spice-elephan...</td>\n",
       "      <td>2nd Floor, 80 Feet Road, Near Big Bazaar, 6th ...</td>\n",
       "      <td>Spice Elephant</td>\n",
       "      <td>Yes</td>\n",
       "      <td>No</td>\n",
       "      <td>4.1/5</td>\n",
       "      <td>787</td>\n",
       "      <td>080 41714161</td>\n",
       "      <td>Banashankari</td>\n",
       "      <td>Casual Dining</td>\n",
       "      <td>Momos, Lunch Buffet, Chocolate Nirvana, Thai G...</td>\n",
       "      <td>Chinese, North Indian, Thai</td>\n",
       "      <td>800</td>\n",
       "      <td>[('Rated 4.0', 'RATED\\n  Had been here for din...</td>\n",
       "      <td>[]</td>\n",
       "      <td>Buffet</td>\n",
       "      <td>Banashankari</td>\n",
       "    </tr>\n",
       "    <tr>\n",
       "      <th>2</th>\n",
       "      <td>2</td>\n",
       "      <td>https://www.zomato.com/SanchurroBangalore?cont...</td>\n",
       "      <td>1112, Next to KIMS Medical College, 17th Cross...</td>\n",
       "      <td>San Churro Cafe</td>\n",
       "      <td>Yes</td>\n",
       "      <td>No</td>\n",
       "      <td>3.8/5</td>\n",
       "      <td>918</td>\n",
       "      <td>+91 9663487993</td>\n",
       "      <td>Banashankari</td>\n",
       "      <td>Cafe, Casual Dining</td>\n",
       "      <td>Churros, Cannelloni, Minestrone Soup, Hot Choc...</td>\n",
       "      <td>Cafe, Mexican, Italian</td>\n",
       "      <td>800</td>\n",
       "      <td>[('Rated 3.0', \"RATED\\n  Ambience is not that ...</td>\n",
       "      <td>[]</td>\n",
       "      <td>Buffet</td>\n",
       "      <td>Banashankari</td>\n",
       "    </tr>\n",
       "    <tr>\n",
       "      <th>3</th>\n",
       "      <td>3</td>\n",
       "      <td>https://www.zomato.com/bangalore/addhuri-udupi...</td>\n",
       "      <td>1st Floor, Annakuteera, 3rd Stage, Banashankar...</td>\n",
       "      <td>Addhuri Udupi Bhojana</td>\n",
       "      <td>No</td>\n",
       "      <td>No</td>\n",
       "      <td>3.7/5</td>\n",
       "      <td>88</td>\n",
       "      <td>+91 9620009302</td>\n",
       "      <td>Banashankari</td>\n",
       "      <td>Quick Bites</td>\n",
       "      <td>Masala Dosa</td>\n",
       "      <td>South Indian, North Indian</td>\n",
       "      <td>300</td>\n",
       "      <td>[('Rated 4.0', \"RATED\\n  Great food and proper...</td>\n",
       "      <td>[]</td>\n",
       "      <td>Buffet</td>\n",
       "      <td>Banashankari</td>\n",
       "    </tr>\n",
       "    <tr>\n",
       "      <th>4</th>\n",
       "      <td>4</td>\n",
       "      <td>https://www.zomato.com/bangalore/grand-village...</td>\n",
       "      <td>10, 3rd Floor, Lakshmi Associates, Gandhi Baza...</td>\n",
       "      <td>Grand Village</td>\n",
       "      <td>No</td>\n",
       "      <td>No</td>\n",
       "      <td>3.8/5</td>\n",
       "      <td>166</td>\n",
       "      <td>+91 8026612447\\r\\n+91 9901210005</td>\n",
       "      <td>Basavanagudi</td>\n",
       "      <td>Casual Dining</td>\n",
       "      <td>Panipuri, Gol Gappe</td>\n",
       "      <td>North Indian, Rajasthani</td>\n",
       "      <td>600</td>\n",
       "      <td>[('Rated 4.0', 'RATED\\n  Very good restaurant ...</td>\n",
       "      <td>[]</td>\n",
       "      <td>Buffet</td>\n",
       "      <td>Banashankari</td>\n",
       "    </tr>\n",
       "  </tbody>\n",
       "</table>\n",
       "</div>"
      ],
      "text/plain": [
       "   index                                                url  \\\n",
       "0      0  https://www.zomato.com/bangalore/jalsa-banasha...   \n",
       "1      1  https://www.zomato.com/bangalore/spice-elephan...   \n",
       "2      2  https://www.zomato.com/SanchurroBangalore?cont...   \n",
       "3      3  https://www.zomato.com/bangalore/addhuri-udupi...   \n",
       "4      4  https://www.zomato.com/bangalore/grand-village...   \n",
       "\n",
       "                                             address                   name  \\\n",
       "0  942, 21st Main Road, 2nd Stage, Banashankari, ...                  Jalsa   \n",
       "1  2nd Floor, 80 Feet Road, Near Big Bazaar, 6th ...         Spice Elephant   \n",
       "2  1112, Next to KIMS Medical College, 17th Cross...        San Churro Cafe   \n",
       "3  1st Floor, Annakuteera, 3rd Stage, Banashankar...  Addhuri Udupi Bhojana   \n",
       "4  10, 3rd Floor, Lakshmi Associates, Gandhi Baza...          Grand Village   \n",
       "\n",
       "  online_order book_table   rate  votes                             phone  \\\n",
       "0          Yes        Yes  4.1/5    775    080 42297555\\r\\n+91 9743772233   \n",
       "1          Yes         No  4.1/5    787                      080 41714161   \n",
       "2          Yes         No  3.8/5    918                    +91 9663487993   \n",
       "3           No         No  3.7/5     88                    +91 9620009302   \n",
       "4           No         No  3.8/5    166  +91 8026612447\\r\\n+91 9901210005   \n",
       "\n",
       "       location            rest_type  \\\n",
       "0  Banashankari        Casual Dining   \n",
       "1  Banashankari        Casual Dining   \n",
       "2  Banashankari  Cafe, Casual Dining   \n",
       "3  Banashankari          Quick Bites   \n",
       "4  Basavanagudi        Casual Dining   \n",
       "\n",
       "                                          dish_liked  \\\n",
       "0  Pasta, Lunch Buffet, Masala Papad, Paneer Laja...   \n",
       "1  Momos, Lunch Buffet, Chocolate Nirvana, Thai G...   \n",
       "2  Churros, Cannelloni, Minestrone Soup, Hot Choc...   \n",
       "3                                        Masala Dosa   \n",
       "4                                Panipuri, Gol Gappe   \n",
       "\n",
       "                         cuisines approx_cost(for two people)  \\\n",
       "0  North Indian, Mughlai, Chinese                         800   \n",
       "1     Chinese, North Indian, Thai                         800   \n",
       "2          Cafe, Mexican, Italian                         800   \n",
       "3      South Indian, North Indian                         300   \n",
       "4        North Indian, Rajasthani                         600   \n",
       "\n",
       "                                        reviews_list menu_item  \\\n",
       "0  [('Rated 4.0', 'RATED\\n  A beautiful place to ...        []   \n",
       "1  [('Rated 4.0', 'RATED\\n  Had been here for din...        []   \n",
       "2  [('Rated 3.0', \"RATED\\n  Ambience is not that ...        []   \n",
       "3  [('Rated 4.0', \"RATED\\n  Great food and proper...        []   \n",
       "4  [('Rated 4.0', 'RATED\\n  Very good restaurant ...        []   \n",
       "\n",
       "  listed_in(type) listed_in(city)  \n",
       "0          Buffet    Banashankari  \n",
       "1          Buffet    Banashankari  \n",
       "2          Buffet    Banashankari  \n",
       "3          Buffet    Banashankari  \n",
       "4          Buffet    Banashankari  "
      ]
     },
     "execution_count": 6,
     "metadata": {},
     "output_type": "execute_result"
    }
   ],
   "source": [
    "df.head()"
   ]
  },
  {
   "cell_type": "markdown",
   "id": "1bdde13a",
   "metadata": {},
   "source": [
    "## 2.. Do data cleaning/Data preparation !"
   ]
  },
  {
   "cell_type": "code",
   "execution_count": 7,
   "id": "78991a26",
   "metadata": {},
   "outputs": [
    {
     "data": {
      "text/plain": [
       "index                              0\n",
       "url                                0\n",
       "address                            0\n",
       "name                               0\n",
       "online_order                       0\n",
       "book_table                         0\n",
       "rate                            7775\n",
       "votes                              0\n",
       "phone                           1208\n",
       "location                          21\n",
       "rest_type                        227\n",
       "dish_liked                     28078\n",
       "cuisines                          45\n",
       "approx_cost(for two people)      346\n",
       "reviews_list                       0\n",
       "menu_item                          0\n",
       "listed_in(type)                    0\n",
       "listed_in(city)                    0\n",
       "dtype: int64"
      ]
     },
     "execution_count": 7,
     "metadata": {},
     "output_type": "execute_result"
    }
   ],
   "source": [
    "df.isnull().sum() ## returns total missing values in every column"
   ]
  },
  {
   "cell_type": "code",
   "execution_count": 8,
   "id": "fddbf9be",
   "metadata": {},
   "outputs": [
    {
     "data": {
      "text/plain": [
       "index                           int64\n",
       "url                            object\n",
       "address                        object\n",
       "name                           object\n",
       "online_order                   object\n",
       "book_table                     object\n",
       "rate                           object\n",
       "votes                           int64\n",
       "phone                          object\n",
       "location                       object\n",
       "rest_type                      object\n",
       "dish_liked                     object\n",
       "cuisines                       object\n",
       "approx_cost(for two people)    object\n",
       "reviews_list                   object\n",
       "menu_item                      object\n",
       "listed_in(type)                object\n",
       "listed_in(city)                object\n",
       "dtype: object"
      ]
     },
     "execution_count": 8,
     "metadata": {},
     "output_type": "execute_result"
    }
   ],
   "source": [
    "df.dtypes ## tells data-types of every feature !"
   ]
  },
  {
   "cell_type": "markdown",
   "id": "76accb16",
   "metadata": {},
   "source": [
    "## data cleaning on \"approx_cost(for two people)\".."
   ]
  },
  {
   "cell_type": "code",
   "execution_count": 9,
   "id": "11a661c7",
   "metadata": {},
   "outputs": [
    {
     "data": {
      "text/plain": [
       "array(['800', '300', '600', '700', '550', '500', '450', '650', '400',\n",
       "       '900', '200', '750', '150', '850', '100', '1,200', '350', '250',\n",
       "       '950', '1,000', '1,500', '1,300', '199', '80', '1,100', '160',\n",
       "       '1,600', '230', '130', '50', '190', '1,700', None, '1,400', '180',\n",
       "       '1,350', '2,200', '2,000', '1,800', '1,900', '330', '2,500',\n",
       "       '2,100', '3,000', '2,800', '3,400', '40', '1,250', '3,500',\n",
       "       '4,000', '2,400', '2,600', '120', '1,450', '469', '70', '3,200',\n",
       "       '60', '560', '240', '360', '6,000', '1,050', '2,300', '4,100',\n",
       "       '5,000', '3,700', '1,650', '2,700', '4,500', '140'], dtype=object)"
      ]
     },
     "execution_count": 9,
     "metadata": {},
     "output_type": "execute_result"
    }
   ],
   "source": [
    "df['approx_cost(for two people)'].unique() ## getting all the uniques values in \"approx_cost(for two people)\" feature"
   ]
  },
  {
   "cell_type": "code",
   "execution_count": 10,
   "id": "0d99a36b",
   "metadata": {},
   "outputs": [],
   "source": [
    "df['approx_cost(for two people)'] = df['approx_cost(for two people)'].str.replace(',' , '')   ## replace comma "
   ]
  },
  {
   "cell_type": "code",
   "execution_count": 11,
   "id": "e1bd3aae",
   "metadata": {},
   "outputs": [
    {
     "data": {
      "text/plain": [
       "array(['800', '300', '600', '700', '550', '500', '450', '650', '400',\n",
       "       '900', '200', '750', '150', '850', '100', '1200', '350', '250',\n",
       "       '950', '1000', '1500', '1300', '199', '80', '1100', '160', '1600',\n",
       "       '230', '130', '50', '190', '1700', None, '1400', '180', '1350',\n",
       "       '2200', '2000', '1800', '1900', '330', '2500', '2100', '3000',\n",
       "       '2800', '3400', '40', '1250', '3500', '4000', '2400', '2600',\n",
       "       '120', '1450', '469', '70', '3200', '60', '560', '240', '360',\n",
       "       '6000', '1050', '2300', '4100', '5000', '3700', '1650', '2700',\n",
       "       '4500', '140'], dtype=object)"
      ]
     },
     "execution_count": 11,
     "metadata": {},
     "output_type": "execute_result"
    }
   ],
   "source": [
    "df['approx_cost(for two people)'].unique()"
   ]
  },
  {
   "cell_type": "code",
   "execution_count": 12,
   "id": "0813f96a",
   "metadata": {},
   "outputs": [],
   "source": [
    "df['approx_cost(for two people)'] = df['approx_cost(for two people)'].astype(float)   ## convert its data-type into float "
   ]
  },
  {
   "cell_type": "code",
   "execution_count": 13,
   "id": "39d4f81e",
   "metadata": {},
   "outputs": [
    {
     "data": {
      "text/plain": [
       "dtype('float64')"
      ]
     },
     "execution_count": 13,
     "metadata": {},
     "output_type": "execute_result"
    }
   ],
   "source": [
    "df['approx_cost(for two people)'].dtype"
   ]
  },
  {
   "cell_type": "code",
   "execution_count": 14,
   "id": "d1244b4f",
   "metadata": {},
   "outputs": [
    {
     "data": {
      "text/html": [
       "<div>\n",
       "<style scoped>\n",
       "    .dataframe tbody tr th:only-of-type {\n",
       "        vertical-align: middle;\n",
       "    }\n",
       "\n",
       "    .dataframe tbody tr th {\n",
       "        vertical-align: top;\n",
       "    }\n",
       "\n",
       "    .dataframe thead th {\n",
       "        text-align: right;\n",
       "    }\n",
       "</style>\n",
       "<table border=\"1\" class=\"dataframe\">\n",
       "  <thead>\n",
       "    <tr style=\"text-align: right;\">\n",
       "      <th></th>\n",
       "      <th>index</th>\n",
       "      <th>url</th>\n",
       "      <th>address</th>\n",
       "      <th>name</th>\n",
       "      <th>online_order</th>\n",
       "      <th>book_table</th>\n",
       "      <th>rate</th>\n",
       "      <th>votes</th>\n",
       "      <th>phone</th>\n",
       "      <th>location</th>\n",
       "      <th>rest_type</th>\n",
       "      <th>dish_liked</th>\n",
       "      <th>cuisines</th>\n",
       "      <th>approx_cost(for two people)</th>\n",
       "      <th>reviews_list</th>\n",
       "      <th>menu_item</th>\n",
       "      <th>listed_in(type)</th>\n",
       "      <th>listed_in(city)</th>\n",
       "    </tr>\n",
       "  </thead>\n",
       "  <tbody>\n",
       "    <tr>\n",
       "      <th>0</th>\n",
       "      <td>0</td>\n",
       "      <td>https://www.zomato.com/bangalore/jalsa-banasha...</td>\n",
       "      <td>942, 21st Main Road, 2nd Stage, Banashankari, ...</td>\n",
       "      <td>Jalsa</td>\n",
       "      <td>Yes</td>\n",
       "      <td>Yes</td>\n",
       "      <td>4.1/5</td>\n",
       "      <td>775</td>\n",
       "      <td>080 42297555\\r\\n+91 9743772233</td>\n",
       "      <td>Banashankari</td>\n",
       "      <td>Casual Dining</td>\n",
       "      <td>Pasta, Lunch Buffet, Masala Papad, Paneer Laja...</td>\n",
       "      <td>North Indian, Mughlai, Chinese</td>\n",
       "      <td>800.0</td>\n",
       "      <td>[('Rated 4.0', 'RATED\\n  A beautiful place to ...</td>\n",
       "      <td>[]</td>\n",
       "      <td>Buffet</td>\n",
       "      <td>Banashankari</td>\n",
       "    </tr>\n",
       "    <tr>\n",
       "      <th>1</th>\n",
       "      <td>1</td>\n",
       "      <td>https://www.zomato.com/bangalore/spice-elephan...</td>\n",
       "      <td>2nd Floor, 80 Feet Road, Near Big Bazaar, 6th ...</td>\n",
       "      <td>Spice Elephant</td>\n",
       "      <td>Yes</td>\n",
       "      <td>No</td>\n",
       "      <td>4.1/5</td>\n",
       "      <td>787</td>\n",
       "      <td>080 41714161</td>\n",
       "      <td>Banashankari</td>\n",
       "      <td>Casual Dining</td>\n",
       "      <td>Momos, Lunch Buffet, Chocolate Nirvana, Thai G...</td>\n",
       "      <td>Chinese, North Indian, Thai</td>\n",
       "      <td>800.0</td>\n",
       "      <td>[('Rated 4.0', 'RATED\\n  Had been here for din...</td>\n",
       "      <td>[]</td>\n",
       "      <td>Buffet</td>\n",
       "      <td>Banashankari</td>\n",
       "    </tr>\n",
       "    <tr>\n",
       "      <th>2</th>\n",
       "      <td>2</td>\n",
       "      <td>https://www.zomato.com/SanchurroBangalore?cont...</td>\n",
       "      <td>1112, Next to KIMS Medical College, 17th Cross...</td>\n",
       "      <td>San Churro Cafe</td>\n",
       "      <td>Yes</td>\n",
       "      <td>No</td>\n",
       "      <td>3.8/5</td>\n",
       "      <td>918</td>\n",
       "      <td>+91 9663487993</td>\n",
       "      <td>Banashankari</td>\n",
       "      <td>Cafe, Casual Dining</td>\n",
       "      <td>Churros, Cannelloni, Minestrone Soup, Hot Choc...</td>\n",
       "      <td>Cafe, Mexican, Italian</td>\n",
       "      <td>800.0</td>\n",
       "      <td>[('Rated 3.0', \"RATED\\n  Ambience is not that ...</td>\n",
       "      <td>[]</td>\n",
       "      <td>Buffet</td>\n",
       "      <td>Banashankari</td>\n",
       "    </tr>\n",
       "    <tr>\n",
       "      <th>3</th>\n",
       "      <td>3</td>\n",
       "      <td>https://www.zomato.com/bangalore/addhuri-udupi...</td>\n",
       "      <td>1st Floor, Annakuteera, 3rd Stage, Banashankar...</td>\n",
       "      <td>Addhuri Udupi Bhojana</td>\n",
       "      <td>No</td>\n",
       "      <td>No</td>\n",
       "      <td>3.7/5</td>\n",
       "      <td>88</td>\n",
       "      <td>+91 9620009302</td>\n",
       "      <td>Banashankari</td>\n",
       "      <td>Quick Bites</td>\n",
       "      <td>Masala Dosa</td>\n",
       "      <td>South Indian, North Indian</td>\n",
       "      <td>300.0</td>\n",
       "      <td>[('Rated 4.0', \"RATED\\n  Great food and proper...</td>\n",
       "      <td>[]</td>\n",
       "      <td>Buffet</td>\n",
       "      <td>Banashankari</td>\n",
       "    </tr>\n",
       "    <tr>\n",
       "      <th>4</th>\n",
       "      <td>4</td>\n",
       "      <td>https://www.zomato.com/bangalore/grand-village...</td>\n",
       "      <td>10, 3rd Floor, Lakshmi Associates, Gandhi Baza...</td>\n",
       "      <td>Grand Village</td>\n",
       "      <td>No</td>\n",
       "      <td>No</td>\n",
       "      <td>3.8/5</td>\n",
       "      <td>166</td>\n",
       "      <td>+91 8026612447\\r\\n+91 9901210005</td>\n",
       "      <td>Basavanagudi</td>\n",
       "      <td>Casual Dining</td>\n",
       "      <td>Panipuri, Gol Gappe</td>\n",
       "      <td>North Indian, Rajasthani</td>\n",
       "      <td>600.0</td>\n",
       "      <td>[('Rated 4.0', 'RATED\\n  Very good restaurant ...</td>\n",
       "      <td>[]</td>\n",
       "      <td>Buffet</td>\n",
       "      <td>Banashankari</td>\n",
       "    </tr>\n",
       "  </tbody>\n",
       "</table>\n",
       "</div>"
      ],
      "text/plain": [
       "   index                                                url  \\\n",
       "0      0  https://www.zomato.com/bangalore/jalsa-banasha...   \n",
       "1      1  https://www.zomato.com/bangalore/spice-elephan...   \n",
       "2      2  https://www.zomato.com/SanchurroBangalore?cont...   \n",
       "3      3  https://www.zomato.com/bangalore/addhuri-udupi...   \n",
       "4      4  https://www.zomato.com/bangalore/grand-village...   \n",
       "\n",
       "                                             address                   name  \\\n",
       "0  942, 21st Main Road, 2nd Stage, Banashankari, ...                  Jalsa   \n",
       "1  2nd Floor, 80 Feet Road, Near Big Bazaar, 6th ...         Spice Elephant   \n",
       "2  1112, Next to KIMS Medical College, 17th Cross...        San Churro Cafe   \n",
       "3  1st Floor, Annakuteera, 3rd Stage, Banashankar...  Addhuri Udupi Bhojana   \n",
       "4  10, 3rd Floor, Lakshmi Associates, Gandhi Baza...          Grand Village   \n",
       "\n",
       "  online_order book_table   rate  votes                             phone  \\\n",
       "0          Yes        Yes  4.1/5    775    080 42297555\\r\\n+91 9743772233   \n",
       "1          Yes         No  4.1/5    787                      080 41714161   \n",
       "2          Yes         No  3.8/5    918                    +91 9663487993   \n",
       "3           No         No  3.7/5     88                    +91 9620009302   \n",
       "4           No         No  3.8/5    166  +91 8026612447\\r\\n+91 9901210005   \n",
       "\n",
       "       location            rest_type  \\\n",
       "0  Banashankari        Casual Dining   \n",
       "1  Banashankari        Casual Dining   \n",
       "2  Banashankari  Cafe, Casual Dining   \n",
       "3  Banashankari          Quick Bites   \n",
       "4  Basavanagudi        Casual Dining   \n",
       "\n",
       "                                          dish_liked  \\\n",
       "0  Pasta, Lunch Buffet, Masala Papad, Paneer Laja...   \n",
       "1  Momos, Lunch Buffet, Chocolate Nirvana, Thai G...   \n",
       "2  Churros, Cannelloni, Minestrone Soup, Hot Choc...   \n",
       "3                                        Masala Dosa   \n",
       "4                                Panipuri, Gol Gappe   \n",
       "\n",
       "                         cuisines  approx_cost(for two people)  \\\n",
       "0  North Indian, Mughlai, Chinese                        800.0   \n",
       "1     Chinese, North Indian, Thai                        800.0   \n",
       "2          Cafe, Mexican, Italian                        800.0   \n",
       "3      South Indian, North Indian                        300.0   \n",
       "4        North Indian, Rajasthani                        600.0   \n",
       "\n",
       "                                        reviews_list menu_item  \\\n",
       "0  [('Rated 4.0', 'RATED\\n  A beautiful place to ...        []   \n",
       "1  [('Rated 4.0', 'RATED\\n  Had been here for din...        []   \n",
       "2  [('Rated 3.0', \"RATED\\n  Ambience is not that ...        []   \n",
       "3  [('Rated 4.0', \"RATED\\n  Great food and proper...        []   \n",
       "4  [('Rated 4.0', 'RATED\\n  Very good restaurant ...        []   \n",
       "\n",
       "  listed_in(type) listed_in(city)  \n",
       "0          Buffet    Banashankari  \n",
       "1          Buffet    Banashankari  \n",
       "2          Buffet    Banashankari  \n",
       "3          Buffet    Banashankari  \n",
       "4          Buffet    Banashankari  "
      ]
     },
     "execution_count": 14,
     "metadata": {},
     "output_type": "execute_result"
    }
   ],
   "source": [
    "df.head()"
   ]
  },
  {
   "cell_type": "markdown",
   "id": "473a32fa",
   "metadata": {},
   "source": [
    "## data cleaning on \"rate\".."
   ]
  },
  {
   "cell_type": "code",
   "execution_count": 15,
   "id": "7b38afe7",
   "metadata": {},
   "outputs": [
    {
     "data": {
      "text/plain": [
       "0         4.1/5\n",
       "1         4.1/5\n",
       "2         3.8/5\n",
       "3         3.7/5\n",
       "4         3.8/5\n",
       "          ...  \n",
       "51712    3.6 /5\n",
       "51713      None\n",
       "51714      None\n",
       "51715    4.3 /5\n",
       "51716    3.4 /5\n",
       "Name: rate, Length: 51717, dtype: object"
      ]
     },
     "execution_count": 15,
     "metadata": {},
     "output_type": "execute_result"
    }
   ],
   "source": [
    "df['rate']"
   ]
  },
  {
   "cell_type": "code",
   "execution_count": 16,
   "id": "b0c83c34",
   "metadata": {},
   "outputs": [
    {
     "data": {
      "text/plain": [
       "array(['4.1/5', '3.8/5', '3.7/5', '3.6/5', '4.6/5', '4.0/5', '4.2/5',\n",
       "       '3.9/5', '3.1/5', '3.0/5', '3.2/5', '3.3/5', '2.8/5', '4.4/5',\n",
       "       '4.3/5', 'NEW', '2.9/5', '3.5/5', None, '2.6/5', '3.8 /5', '3.4/5',\n",
       "       '4.5/5', '2.5/5', '2.7/5', '4.7/5', '2.4/5', '2.2/5', '2.3/5',\n",
       "       '3.4 /5', '-', '3.6 /5', '4.8/5', '3.9 /5', '4.2 /5', '4.0 /5',\n",
       "       '4.1 /5', '3.7 /5', '3.1 /5', '2.9 /5', '3.3 /5', '2.8 /5',\n",
       "       '3.5 /5', '2.7 /5', '2.5 /5', '3.2 /5', '2.6 /5', '4.5 /5',\n",
       "       '4.3 /5', '4.4 /5', '4.9/5', '2.1/5', '2.0/5', '1.8/5', '4.6 /5',\n",
       "       '4.9 /5', '3.0 /5', '4.8 /5', '2.3 /5', '4.7 /5', '2.4 /5',\n",
       "       '2.1 /5', '2.2 /5', '2.0 /5', '1.8 /5'], dtype=object)"
      ]
     },
     "execution_count": 16,
     "metadata": {},
     "output_type": "execute_result"
    }
   ],
   "source": [
    "df['rate'].unique()"
   ]
  },
  {
   "cell_type": "code",
   "execution_count": 17,
   "id": "ddca4903",
   "metadata": {},
   "outputs": [],
   "source": [
    "df['rate'] = df['rate'].str.replace('/5' , '') ## replaceor remove \"/5\""
   ]
  },
  {
   "cell_type": "code",
   "execution_count": 18,
   "id": "833c7a11",
   "metadata": {},
   "outputs": [
    {
     "data": {
      "text/plain": [
       "array(['4.1', '3.8', '3.7', '3.6', '4.6', '4.0', '4.2', '3.9', '3.1',\n",
       "       '3.0', '3.2', '3.3', '2.8', '4.4', '4.3', 'NEW', '2.9', '3.5',\n",
       "       None, '2.6', '3.8 ', '3.4', '4.5', '2.5', '2.7', '4.7', '2.4',\n",
       "       '2.2', '2.3', '3.4 ', '-', '3.6 ', '4.8', '3.9 ', '4.2 ', '4.0 ',\n",
       "       '4.1 ', '3.7 ', '3.1 ', '2.9 ', '3.3 ', '2.8 ', '3.5 ', '2.7 ',\n",
       "       '2.5 ', '3.2 ', '2.6 ', '4.5 ', '4.3 ', '4.4 ', '4.9', '2.1',\n",
       "       '2.0', '1.8', '4.6 ', '4.9 ', '3.0 ', '4.8 ', '2.3 ', '4.7 ',\n",
       "       '2.4 ', '2.1 ', '2.2 ', '2.0 ', '1.8 '], dtype=object)"
      ]
     },
     "execution_count": 18,
     "metadata": {},
     "output_type": "execute_result"
    }
   ],
   "source": [
    "df['rate'].unique()"
   ]
  },
  {
   "cell_type": "raw",
   "id": "e533b2ce",
   "metadata": {},
   "source": [
    "'''\n",
    "We will notice that None is not enclosed in string , so lets convert each of the sub-category into string using astype(str)\n",
    "so that later-on , we can do some manipulations easily ..\n",
    "\n",
    "'''"
   ]
  },
  {
   "cell_type": "code",
   "execution_count": 19,
   "id": "76651896",
   "metadata": {},
   "outputs": [],
   "source": [
    "df['rate'] = df['rate'].astype(str)  ## convert its data-type into string .."
   ]
  },
  {
   "cell_type": "code",
   "execution_count": 20,
   "id": "f4043aad",
   "metadata": {},
   "outputs": [
    {
     "data": {
      "text/plain": [
       "array(['4.1', '3.8', '3.7', '3.6', '4.6', '4.0', '4.2', '3.9', '3.1',\n",
       "       '3.0', '3.2', '3.3', '2.8', '4.4', '4.3', 'NEW', '2.9', '3.5',\n",
       "       'None', '2.6', '3.8 ', '3.4', '4.5', '2.5', '2.7', '4.7', '2.4',\n",
       "       '2.2', '2.3', '3.4 ', '-', '3.6 ', '4.8', '3.9 ', '4.2 ', '4.0 ',\n",
       "       '4.1 ', '3.7 ', '3.1 ', '2.9 ', '3.3 ', '2.8 ', '3.5 ', '2.7 ',\n",
       "       '2.5 ', '3.2 ', '2.6 ', '4.5 ', '4.3 ', '4.4 ', '4.9', '2.1',\n",
       "       '2.0', '1.8', '4.6 ', '4.9 ', '3.0 ', '4.8 ', '2.3 ', '4.7 ',\n",
       "       '2.4 ', '2.1 ', '2.2 ', '2.0 ', '1.8 '], dtype=object)"
      ]
     },
     "execution_count": 20,
     "metadata": {},
     "output_type": "execute_result"
    }
   ],
   "source": [
    "df['rate'].unique()"
   ]
  },
  {
   "cell_type": "code",
   "execution_count": 21,
   "id": "2d45d2ee",
   "metadata": {},
   "outputs": [],
   "source": [
    "df['rate'].replace('NEW' , np.nan , inplace=True)\n",
    "df['rate'].replace('None' , np.nan , inplace=True)\n",
    "df['rate'].replace('-' , np.nan , inplace=True)"
   ]
  },
  {
   "cell_type": "code",
   "execution_count": 22,
   "id": "75c909fa",
   "metadata": {},
   "outputs": [
    {
     "data": {
      "text/plain": [
       "10052"
      ]
     },
     "execution_count": 22,
     "metadata": {},
     "output_type": "execute_result"
    }
   ],
   "source": [
    "df['rate'].isnull().sum()"
   ]
  },
  {
   "cell_type": "code",
   "execution_count": 23,
   "id": "b0d1f781",
   "metadata": {},
   "outputs": [
    {
     "data": {
      "text/plain": [
       "0         4.1\n",
       "1         4.1\n",
       "2         3.8\n",
       "3         3.7\n",
       "4         3.8\n",
       "         ... \n",
       "51712    3.6 \n",
       "51713     NaN\n",
       "51714     NaN\n",
       "51715    4.3 \n",
       "51716    3.4 \n",
       "Name: rate, Length: 51717, dtype: object"
      ]
     },
     "execution_count": 23,
     "metadata": {},
     "output_type": "execute_result"
    }
   ],
   "source": [
    "df['rate']"
   ]
  },
  {
   "cell_type": "code",
   "execution_count": 24,
   "id": "6eda0ad9",
   "metadata": {},
   "outputs": [
    {
     "data": {
      "text/plain": [
       "'\\nNaN in short for Not a number. It is used to represent entries that are undefined. \\nIt is also used for representing missing values in a dataset.\\n\\n'"
      ]
     },
     "execution_count": 24,
     "metadata": {},
     "output_type": "execute_result"
    }
   ],
   "source": [
    "'''\n",
    "NaN in short for Not a number. It is used to represent entries that are undefined. \n",
    "It is also used for representing missing values in a dataset.\n",
    "\n",
    "'''"
   ]
  },
  {
   "cell_type": "code",
   "execution_count": 25,
   "id": "bf7be103",
   "metadata": {},
   "outputs": [],
   "source": [
    "df['rate'] = df['rate'].astype(float)"
   ]
  },
  {
   "cell_type": "code",
   "execution_count": 26,
   "id": "1d2c70f0",
   "metadata": {},
   "outputs": [
    {
     "data": {
      "text/plain": [
       "0        4.1\n",
       "1        4.1\n",
       "2        3.8\n",
       "3        3.7\n",
       "4        3.8\n",
       "        ... \n",
       "51712    3.6\n",
       "51713    NaN\n",
       "51714    NaN\n",
       "51715    4.3\n",
       "51716    3.4\n",
       "Name: rate, Length: 51717, dtype: float64"
      ]
     },
     "execution_count": 26,
     "metadata": {},
     "output_type": "execute_result"
    }
   ],
   "source": [
    "df['rate']"
   ]
  },
  {
   "cell_type": "markdown",
   "id": "4b4416c1",
   "metadata": {},
   "source": [
    "## 3.. Analysing most famous dishes of most famous restaurants .."
   ]
  },
  {
   "cell_type": "raw",
   "id": "24d442f0",
   "metadata": {},
   "source": [
    "'''\n",
    "We will consider those restaurants as most famous restaurants which have delivered max number of Orders\n",
    "\n",
    "'''"
   ]
  },
  {
   "cell_type": "code",
   "execution_count": 27,
   "id": "71dd9cdd",
   "metadata": {},
   "outputs": [
    {
     "data": {
      "text/plain": [
       "rest_type\n",
       "Quick Bites                   19132\n",
       "Casual Dining                 10330\n",
       "Cafe                           3732\n",
       "Delivery                       2604\n",
       "Dessert Parlor                 2263\n",
       "                              ...  \n",
       "Dessert Parlor, Kiosk             2\n",
       "Food Court, Beverage Shop         2\n",
       "Dessert Parlor, Food Court        2\n",
       "Sweet Shop, Dessert Parlor        1\n",
       "Quick Bites, Kiosk                1\n",
       "Name: count, Length: 93, dtype: int64"
      ]
     },
     "execution_count": 27,
     "metadata": {},
     "output_type": "execute_result"
    }
   ],
   "source": [
    "df['rest_type'].value_counts()"
   ]
  },
  {
   "cell_type": "code",
   "execution_count": 28,
   "id": "3511c370",
   "metadata": {},
   "outputs": [
    {
     "data": {
      "text/plain": [
       "227"
      ]
     },
     "execution_count": 28,
     "metadata": {},
     "output_type": "execute_result"
    }
   ],
   "source": [
    "df['rest_type'].isnull().sum()"
   ]
  },
  {
   "cell_type": "code",
   "execution_count": 29,
   "id": "c505fa5b",
   "metadata": {},
   "outputs": [],
   "source": [
    "data = df.dropna(subset=['rest_type']) ## delete missing values of 'rest_type' feature .."
   ]
  },
  {
   "cell_type": "code",
   "execution_count": 30,
   "id": "0ce11ee9",
   "metadata": {},
   "outputs": [
    {
     "data": {
      "text/plain": [
       "(51490, 18)"
      ]
     },
     "execution_count": 30,
     "metadata": {},
     "output_type": "execute_result"
    }
   ],
   "source": [
    "data.shape"
   ]
  },
  {
   "cell_type": "code",
   "execution_count": 31,
   "id": "6bbb314f",
   "metadata": {},
   "outputs": [
    {
     "data": {
      "text/plain": [
       "0        False\n",
       "1        False\n",
       "2        False\n",
       "3         True\n",
       "4        False\n",
       "         ...  \n",
       "51712    False\n",
       "51713    False\n",
       "51714    False\n",
       "51715    False\n",
       "51716    False\n",
       "Name: rest_type, Length: 51490, dtype: bool"
      ]
     },
     "execution_count": 31,
     "metadata": {},
     "output_type": "execute_result"
    }
   ],
   "source": [
    "data['rest_type'].str.contains('Quick Bites')"
   ]
  },
  {
   "cell_type": "code",
   "execution_count": 32,
   "id": "72582d88",
   "metadata": {},
   "outputs": [],
   "source": [
    "data_qb = data[data['rest_type'].str.contains('Quick Bites')] ## getting dataframe of only 'Quick Bites' dataframe .."
   ]
  },
  {
   "cell_type": "code",
   "execution_count": 33,
   "id": "2f957d73",
   "metadata": {},
   "outputs": [
    {
     "data": {
      "text/plain": [
       "(20639, 18)"
      ]
     },
     "execution_count": 33,
     "metadata": {},
     "output_type": "execute_result"
    }
   ],
   "source": [
    "data_qb.shape"
   ]
  },
  {
   "cell_type": "code",
   "execution_count": 34,
   "id": "677a4c7f",
   "metadata": {},
   "outputs": [
    {
     "data": {
      "text/plain": [
       "3                                              Masala Dosa\n",
       "23                                         Pasta, Iced Tea\n",
       "26                                                    None\n",
       "31       Burgers, Lassi, Chicken Grill, Naan, Momos, Ch...\n",
       "34       Rolls, Veggie Wrap, Chocolate Fantasy, Rice Bo...\n",
       "                               ...                        \n",
       "51641                                                 None\n",
       "51642                                                 None\n",
       "51643                                                 None\n",
       "51644                                                 None\n",
       "51645                                              Burgers\n",
       "Name: dish_liked, Length: 20639, dtype: object"
      ]
     },
     "execution_count": 34,
     "metadata": {},
     "output_type": "execute_result"
    }
   ],
   "source": [
    "data_qb['dish_liked']"
   ]
  },
  {
   "cell_type": "code",
   "execution_count": 35,
   "id": "c51f4877",
   "metadata": {},
   "outputs": [
    {
     "data": {
      "text/plain": [
       "3                                              masala dosa\n",
       "23                                         pasta, iced tea\n",
       "26                                                    None\n",
       "31       burgers, lassi, chicken grill, naan, momos, ch...\n",
       "34       rolls, veggie wrap, chocolate fantasy, rice bo...\n",
       "                               ...                        \n",
       "51641                                                 None\n",
       "51642                                                 None\n",
       "51643                                                 None\n",
       "51644                                                 None\n",
       "51645                                              burgers\n",
       "Name: dish_liked, Length: 20639, dtype: object"
      ]
     },
     "execution_count": 35,
     "metadata": {},
     "output_type": "execute_result"
    }
   ],
   "source": [
    "data_qb['dish_liked'].str.lower()"
   ]
  },
  {
   "cell_type": "code",
   "execution_count": 32,
   "id": "ebca52fa",
   "metadata": {},
   "outputs": [],
   "source": [
    "all_dishes = data_qb['dish_liked'].str.lower().str.cat()\n",
    "\n",
    "## Storing all liked_dishes in a string so that later-on , we can plot it using wordcloud or Plots/charts .."
   ]
  },
  {
   "cell_type": "code",
   "execution_count": null,
   "id": "02577c3f",
   "metadata": {},
   "outputs": [],
   "source": []
  },
  {
   "cell_type": "code",
   "execution_count": 33,
   "id": "3d9e86cf",
   "metadata": {},
   "outputs": [],
   "source": [
    "!pip install wordcloud"
   ]
  },
  {
   "cell_type": "code",
   "execution_count": 34,
   "id": "e59ea7d6",
   "metadata": {},
   "outputs": [],
   "source": [
    "import wordcloud"
   ]
  },
  {
   "cell_type": "code",
   "execution_count": 35,
   "id": "80ed8b39",
   "metadata": {},
   "outputs": [],
   "source": [
    "from wordcloud import WordCloud"
   ]
  },
  {
   "cell_type": "code",
   "execution_count": 36,
   "id": "732db27c",
   "metadata": {},
   "outputs": [],
   "source": [
    "wordcloud = WordCloud().generate(all_dishes)"
   ]
  },
  {
   "cell_type": "code",
   "execution_count": 37,
   "id": "df968c41",
   "metadata": {},
   "outputs": [
    {
     "data": {
      "text/plain": [
       "(-0.5, 399.5, 199.5, -0.5)"
      ]
     },
     "execution_count": 37,
     "metadata": {},
     "output_type": "execute_result"
    },
    {
     "data": {
      "image/png": "[encoded data removed]",
      "text/plain": [
       "<Figure size 640x480 with 1 Axes>"
      ]
     },
     "metadata": {},
     "output_type": "display_data"
    }
   ],
   "source": [
    "plt.imshow(wordcloud)\n",
    "plt.axis('off')"
   ]
  },
  {
   "cell_type": "code",
   "execution_count": null,
   "id": "4a4dbe4e",
   "metadata": {},
   "outputs": [],
   "source": [
    "'''\n",
    "\n",
    "Insights/Conclusions : Bengaluru people loves Masala dosa(South Indian dish) , Biryani , Chicken , Burger  , Paratha !\n",
    "\n",
    "'''"
   ]
  },
  {
   "cell_type": "code",
   "execution_count": null,
   "id": "16bee11f",
   "metadata": {},
   "outputs": [],
   "source": []
  },
  {
   "cell_type": "code",
   "execution_count": null,
   "id": "c0564a1a",
   "metadata": {},
   "outputs": [],
   "source": []
  },
  {
   "cell_type": "code",
   "execution_count": null,
   "id": "6ba48c31",
   "metadata": {},
   "outputs": [],
   "source": []
  },
  {
   "cell_type": "code",
   "execution_count": null,
   "id": "dea94f6a",
   "metadata": {},
   "outputs": [],
   "source": []
  },
  {
   "cell_type": "markdown",
   "id": "85f367a2",
   "metadata": {},
   "source": [
    "## 4.. Handling Missing Values "
   ]
  },
  {
   "cell_type": "code",
   "execution_count": 38,
   "id": "9a3e1b0e",
   "metadata": {},
   "outputs": [
    {
     "data": {
      "text/plain": [
       "index                              0\n",
       "url                                0\n",
       "address                            0\n",
       "name                               0\n",
       "online_order                       0\n",
       "book_table                         0\n",
       "rate                           10052\n",
       "votes                              0\n",
       "phone                           1208\n",
       "location                          21\n",
       "rest_type                        227\n",
       "dish_liked                     28078\n",
       "cuisines                          45\n",
       "approx_cost(for two people)      346\n",
       "reviews_list                       0\n",
       "menu_item                          0\n",
       "listed_in(type)                    0\n",
       "listed_in(city)                    0\n",
       "dtype: int64"
      ]
     },
     "execution_count": 38,
     "metadata": {},
     "output_type": "execute_result"
    }
   ],
   "source": [
    "df.isnull().sum()"
   ]
  },
  {
   "cell_type": "markdown",
   "id": "62d45e5f",
   "metadata": {},
   "source": [
    "\n",
    "    -->> if its a ML/NLP/DL project , then filling missing values makes alot of sense..\n",
    "\n",
    "    -->> but as its is data analysis project & Imagine we do not have domain knowledge , \n",
    "    then its good to continue with existing Genuine data rather than filling missing values or deleting it..\n",
    "    \n",
    "        -->>> Bcz if we fill missing values then it can affect our real analysis  ,\n",
    "        -->>  & if we delete our missing values,then we will lose our data & hence we will end up having incomplete analysis"
   ]
  },
  {
   "cell_type": "markdown",
   "id": "1965491e",
   "metadata": {},
   "source": [
    "    Before deleting or Skipping Null values\n",
    "\n",
    "    -->> We are intersted in this analysis for the rate feature , so dropping missing values of \n",
    "         rate might affect other features for analyis.. So Lets try to save as much of our data\n",
    "\n",
    "    -->> So let's have a look on the review list column to fill missing values of \"rate\" feature .."
   ]
  },
  {
   "cell_type": "code",
   "execution_count": null,
   "id": "3fed0eca",
   "metadata": {},
   "outputs": [],
   "source": []
  },
  {
   "cell_type": "code",
   "execution_count": 39,
   "id": "792f9818",
   "metadata": {},
   "outputs": [
    {
     "data": {
      "text/plain": [
       "Index(['index', 'url', 'address', 'name', 'online_order', 'book_table', 'rate',\n",
       "       'votes', 'phone', 'location', 'rest_type', 'dish_liked', 'cuisines',\n",
       "       'approx_cost(for two people)', 'reviews_list', 'menu_item',\n",
       "       'listed_in(type)', 'listed_in(city)'],\n",
       "      dtype='object')"
      ]
     },
     "execution_count": 39,
     "metadata": {},
     "output_type": "execute_result"
    }
   ],
   "source": [
    "df.columns"
   ]
  },
  {
   "cell_type": "code",
   "execution_count": 40,
   "id": "c7719837",
   "metadata": {},
   "outputs": [
    {
     "data": {
      "text/html": [
       "<div>\n",
       "<style scoped>\n",
       "    .dataframe tbody tr th:only-of-type {\n",
       "        vertical-align: middle;\n",
       "    }\n",
       "\n",
       "    .dataframe tbody tr th {\n",
       "        vertical-align: top;\n",
       "    }\n",
       "\n",
       "    .dataframe thead th {\n",
       "        text-align: right;\n",
       "    }\n",
       "</style>\n",
       "<table border=\"1\" class=\"dataframe\">\n",
       "  <thead>\n",
       "    <tr style=\"text-align: right;\">\n",
       "      <th></th>\n",
       "      <th>rate</th>\n",
       "      <th>reviews_list</th>\n",
       "    </tr>\n",
       "  </thead>\n",
       "  <tbody>\n",
       "    <tr>\n",
       "      <th>0</th>\n",
       "      <td>4.1</td>\n",
       "      <td>[('Rated 4.0', 'RATED\\n  A beautiful place to ...</td>\n",
       "    </tr>\n",
       "    <tr>\n",
       "      <th>1</th>\n",
       "      <td>4.1</td>\n",
       "      <td>[('Rated 4.0', 'RATED\\n  Had been here for din...</td>\n",
       "    </tr>\n",
       "    <tr>\n",
       "      <th>2</th>\n",
       "      <td>3.8</td>\n",
       "      <td>[('Rated 3.0', \"RATED\\n  Ambience is not that ...</td>\n",
       "    </tr>\n",
       "    <tr>\n",
       "      <th>3</th>\n",
       "      <td>3.7</td>\n",
       "      <td>[('Rated 4.0', \"RATED\\n  Great food and proper...</td>\n",
       "    </tr>\n",
       "    <tr>\n",
       "      <th>4</th>\n",
       "      <td>3.8</td>\n",
       "      <td>[('Rated 4.0', 'RATED\\n  Very good restaurant ...</td>\n",
       "    </tr>\n",
       "    <tr>\n",
       "      <th>...</th>\n",
       "      <td>...</td>\n",
       "      <td>...</td>\n",
       "    </tr>\n",
       "    <tr>\n",
       "      <th>51712</th>\n",
       "      <td>3.6</td>\n",
       "      <td>[('Rated 5.0', \"RATED\\n  Food and service are ...</td>\n",
       "    </tr>\n",
       "    <tr>\n",
       "      <th>51713</th>\n",
       "      <td>NaN</td>\n",
       "      <td>[]</td>\n",
       "    </tr>\n",
       "    <tr>\n",
       "      <th>51714</th>\n",
       "      <td>NaN</td>\n",
       "      <td>[]</td>\n",
       "    </tr>\n",
       "    <tr>\n",
       "      <th>51715</th>\n",
       "      <td>4.3</td>\n",
       "      <td>[('Rated 4.0', 'RATED\\n  Nice and friendly pla...</td>\n",
       "    </tr>\n",
       "    <tr>\n",
       "      <th>51716</th>\n",
       "      <td>3.4</td>\n",
       "      <td>[('Rated 5.0', 'RATED\\n  Great ambience , look...</td>\n",
       "    </tr>\n",
       "  </tbody>\n",
       "</table>\n",
       "<p>51717 rows × 2 columns</p>\n",
       "</div>"
      ],
      "text/plain": [
       "       rate                                       reviews_list\n",
       "0       4.1  [('Rated 4.0', 'RATED\\n  A beautiful place to ...\n",
       "1       4.1  [('Rated 4.0', 'RATED\\n  Had been here for din...\n",
       "2       3.8  [('Rated 3.0', \"RATED\\n  Ambience is not that ...\n",
       "3       3.7  [('Rated 4.0', \"RATED\\n  Great food and proper...\n",
       "4       3.8  [('Rated 4.0', 'RATED\\n  Very good restaurant ...\n",
       "...     ...                                                ...\n",
       "51712   3.6  [('Rated 5.0', \"RATED\\n  Food and service are ...\n",
       "51713   NaN                                                 []\n",
       "51714   NaN                                                 []\n",
       "51715   4.3  [('Rated 4.0', 'RATED\\n  Nice and friendly pla...\n",
       "51716   3.4  [('Rated 5.0', 'RATED\\n  Great ambience , look...\n",
       "\n",
       "[51717 rows x 2 columns]"
      ]
     },
     "execution_count": 40,
     "metadata": {},
     "output_type": "execute_result"
    }
   ],
   "source": [
    "df[['rate' , 'reviews_list']]"
   ]
  },
  {
   "cell_type": "code",
   "execution_count": null,
   "id": "f45659c8",
   "metadata": {},
   "outputs": [],
   "source": []
  },
  {
   "cell_type": "code",
   "execution_count": 41,
   "id": "0a25641c",
   "metadata": {},
   "outputs": [
    {
     "data": {
      "text/plain": [
       "0        False\n",
       "1        False\n",
       "2        False\n",
       "3        False\n",
       "4        False\n",
       "         ...  \n",
       "51712    False\n",
       "51713     True\n",
       "51714     True\n",
       "51715    False\n",
       "51716    False\n",
       "Name: rate, Length: 51717, dtype: bool"
      ]
     },
     "execution_count": 41,
     "metadata": {},
     "output_type": "execute_result"
    }
   ],
   "source": [
    "df['rate'].isnull()"
   ]
  },
  {
   "cell_type": "code",
   "execution_count": 42,
   "id": "89f5069b",
   "metadata": {},
   "outputs": [
    {
     "data": {
      "text/html": [
       "<div>\n",
       "<style scoped>\n",
       "    .dataframe tbody tr th:only-of-type {\n",
       "        vertical-align: middle;\n",
       "    }\n",
       "\n",
       "    .dataframe tbody tr th {\n",
       "        vertical-align: top;\n",
       "    }\n",
       "\n",
       "    .dataframe thead th {\n",
       "        text-align: right;\n",
       "    }\n",
       "</style>\n",
       "<table border=\"1\" class=\"dataframe\">\n",
       "  <thead>\n",
       "    <tr style=\"text-align: right;\">\n",
       "      <th></th>\n",
       "      <th>index</th>\n",
       "      <th>url</th>\n",
       "      <th>address</th>\n",
       "      <th>name</th>\n",
       "      <th>online_order</th>\n",
       "      <th>book_table</th>\n",
       "      <th>rate</th>\n",
       "      <th>votes</th>\n",
       "      <th>phone</th>\n",
       "      <th>location</th>\n",
       "      <th>rest_type</th>\n",
       "      <th>dish_liked</th>\n",
       "      <th>cuisines</th>\n",
       "      <th>approx_cost(for two people)</th>\n",
       "      <th>reviews_list</th>\n",
       "      <th>menu_item</th>\n",
       "      <th>listed_in(type)</th>\n",
       "      <th>listed_in(city)</th>\n",
       "    </tr>\n",
       "  </thead>\n",
       "  <tbody>\n",
       "    <tr>\n",
       "      <th>72</th>\n",
       "      <td>72</td>\n",
       "      <td>https://www.zomato.com/bangalore/spicy-tandoor...</td>\n",
       "      <td>Opposite ICICi Bank, Hanuman Nagar, Banashanka...</td>\n",
       "      <td>Spicy Tandoor</td>\n",
       "      <td>No</td>\n",
       "      <td>No</td>\n",
       "      <td>NaN</td>\n",
       "      <td>0</td>\n",
       "      <td>+91 8050884222</td>\n",
       "      <td>Banashankari</td>\n",
       "      <td>Quick Bites</td>\n",
       "      <td>None</td>\n",
       "      <td>North Indian</td>\n",
       "      <td>150.0</td>\n",
       "      <td>[('Rated 4.0', 'RATED\\n  cost for chicken roll...</td>\n",
       "      <td>[]</td>\n",
       "      <td>Delivery</td>\n",
       "      <td>Banashankari</td>\n",
       "    </tr>\n",
       "    <tr>\n",
       "      <th>75</th>\n",
       "      <td>75</td>\n",
       "      <td>https://www.zomato.com/bangalore/om-sri-vinaya...</td>\n",
       "      <td>39, S B M Colony, Near-Sita Circle, 1st Stage,...</td>\n",
       "      <td>Om Sri Vinayaka Chats</td>\n",
       "      <td>No</td>\n",
       "      <td>No</td>\n",
       "      <td>NaN</td>\n",
       "      <td>0</td>\n",
       "      <td>+91 8553206035</td>\n",
       "      <td>Banashankari</td>\n",
       "      <td>Takeaway, Delivery</td>\n",
       "      <td>None</td>\n",
       "      <td>Street Food, Fast Food</td>\n",
       "      <td>500.0</td>\n",
       "      <td>[]</td>\n",
       "      <td>[]</td>\n",
       "      <td>Delivery</td>\n",
       "      <td>Banashankari</td>\n",
       "    </tr>\n",
       "    <tr>\n",
       "      <th>84</th>\n",
       "      <td>84</td>\n",
       "      <td>https://www.zomato.com/bangalore/chill-out-ban...</td>\n",
       "      <td>161/C, 6th Main, 80 Feet Road, Bhuvaneshwari N...</td>\n",
       "      <td>Chill Out</td>\n",
       "      <td>No</td>\n",
       "      <td>No</td>\n",
       "      <td>NaN</td>\n",
       "      <td>0</td>\n",
       "      <td>+91 9341215167</td>\n",
       "      <td>Banashankari</td>\n",
       "      <td>Quick Bites</td>\n",
       "      <td>None</td>\n",
       "      <td>South Indian, Chinese</td>\n",
       "      <td>100.0</td>\n",
       "      <td>[('Rated 4.0', 'RATED\\n  Good Location. Small ...</td>\n",
       "      <td>[]</td>\n",
       "      <td>Delivery</td>\n",
       "      <td>Banashankari</td>\n",
       "    </tr>\n",
       "    <tr>\n",
       "      <th>90</th>\n",
       "      <td>90</td>\n",
       "      <td>https://www.zomato.com/bangalore/me-and-my-cak...</td>\n",
       "      <td>BDA Shopping Complex, 24th Cross Road, Siddann...</td>\n",
       "      <td>Me And My Cake</td>\n",
       "      <td>No</td>\n",
       "      <td>No</td>\n",
       "      <td>NaN</td>\n",
       "      <td>0</td>\n",
       "      <td>+91 9036070410</td>\n",
       "      <td>Banashankari</td>\n",
       "      <td>Delivery</td>\n",
       "      <td>None</td>\n",
       "      <td>Bakery, Desserts</td>\n",
       "      <td>500.0</td>\n",
       "      <td>[('Rated 1.0', 'RATED\\n  Do not order anything...</td>\n",
       "      <td>[]</td>\n",
       "      <td>Delivery</td>\n",
       "      <td>Banashankari</td>\n",
       "    </tr>\n",
       "    <tr>\n",
       "      <th>91</th>\n",
       "      <td>91</td>\n",
       "      <td>https://www.zomato.com/bangalore/sunsadm-banas...</td>\n",
       "      <td>Shop 18 , 3rd cross road,Markandeya Layout, Ba...</td>\n",
       "      <td>Sunsadm</td>\n",
       "      <td>No</td>\n",
       "      <td>No</td>\n",
       "      <td>NaN</td>\n",
       "      <td>0</td>\n",
       "      <td>+91 7829290358</td>\n",
       "      <td>Banashankari</td>\n",
       "      <td>Takeaway, Delivery</td>\n",
       "      <td>None</td>\n",
       "      <td>South Indian</td>\n",
       "      <td>400.0</td>\n",
       "      <td>[]</td>\n",
       "      <td>[]</td>\n",
       "      <td>Delivery</td>\n",
       "      <td>Banashankari</td>\n",
       "    </tr>\n",
       "    <tr>\n",
       "      <th>...</th>\n",
       "      <td>...</td>\n",
       "      <td>...</td>\n",
       "      <td>...</td>\n",
       "      <td>...</td>\n",
       "      <td>...</td>\n",
       "      <td>...</td>\n",
       "      <td>...</td>\n",
       "      <td>...</td>\n",
       "      <td>...</td>\n",
       "      <td>...</td>\n",
       "      <td>...</td>\n",
       "      <td>...</td>\n",
       "      <td>...</td>\n",
       "      <td>...</td>\n",
       "      <td>...</td>\n",
       "      <td>...</td>\n",
       "      <td>...</td>\n",
       "      <td>...</td>\n",
       "    </tr>\n",
       "    <tr>\n",
       "      <th>51644</th>\n",
       "      <td>51644</td>\n",
       "      <td>https://www.zomato.com/bangalore/punjabi-thadk...</td>\n",
       "      <td>7/3, ASK Tower, Kundanahalli Gate, Next to Bat...</td>\n",
       "      <td>Punjabi Thadka</td>\n",
       "      <td>No</td>\n",
       "      <td>No</td>\n",
       "      <td>NaN</td>\n",
       "      <td>0</td>\n",
       "      <td>+91 7338330336\\n+91 9591568221</td>\n",
       "      <td>Brookefield</td>\n",
       "      <td>Quick Bites</td>\n",
       "      <td>None</td>\n",
       "      <td>North Indian</td>\n",
       "      <td>400.0</td>\n",
       "      <td>[]</td>\n",
       "      <td>[]</td>\n",
       "      <td>Dine-out</td>\n",
       "      <td>Whitefield</td>\n",
       "    </tr>\n",
       "    <tr>\n",
       "      <th>51675</th>\n",
       "      <td>51675</td>\n",
       "      <td>https://www.zomato.com/bangalore/topsy-turvey-...</td>\n",
       "      <td>2E2, 4th Cross Road, Devasandra Industrial Est...</td>\n",
       "      <td>Topsy Turvey</td>\n",
       "      <td>No</td>\n",
       "      <td>No</td>\n",
       "      <td>NaN</td>\n",
       "      <td>0</td>\n",
       "      <td>+91 9148155994</td>\n",
       "      <td>Whitefield</td>\n",
       "      <td>Bar</td>\n",
       "      <td>None</td>\n",
       "      <td>Finger Food</td>\n",
       "      <td>900.0</td>\n",
       "      <td>[('Rated 4.0', \"RATED\\n  A divine joint for Fl...</td>\n",
       "      <td>[]</td>\n",
       "      <td>Drinks &amp; nightlife</td>\n",
       "      <td>Whitefield</td>\n",
       "    </tr>\n",
       "    <tr>\n",
       "      <th>51710</th>\n",
       "      <td>51710</td>\n",
       "      <td>https://www.zomato.com/bangalore/topsy-turvey-...</td>\n",
       "      <td>2E2, 4th Cross Road, Devasandra Industrial Est...</td>\n",
       "      <td>Topsy Turvey</td>\n",
       "      <td>No</td>\n",
       "      <td>No</td>\n",
       "      <td>NaN</td>\n",
       "      <td>0</td>\n",
       "      <td>+91 9148155994</td>\n",
       "      <td>Whitefield</td>\n",
       "      <td>Bar</td>\n",
       "      <td>None</td>\n",
       "      <td>Finger Food</td>\n",
       "      <td>900.0</td>\n",
       "      <td>[('Rated 4.0', \"RATED\\n  A divine joint for Fl...</td>\n",
       "      <td>[]</td>\n",
       "      <td>Pubs and bars</td>\n",
       "      <td>Whitefield</td>\n",
       "    </tr>\n",
       "    <tr>\n",
       "      <th>51713</th>\n",
       "      <td>51713</td>\n",
       "      <td>https://www.zomato.com/bangalore/vinod-bar-and...</td>\n",
       "      <td>Number 10, Garudachar Palya, Mahadevapura, Whi...</td>\n",
       "      <td>Vinod Bar And Restaurant</td>\n",
       "      <td>No</td>\n",
       "      <td>No</td>\n",
       "      <td>NaN</td>\n",
       "      <td>0</td>\n",
       "      <td>+91 8197675843</td>\n",
       "      <td>Whitefield</td>\n",
       "      <td>Bar</td>\n",
       "      <td>None</td>\n",
       "      <td>Finger Food</td>\n",
       "      <td>600.0</td>\n",
       "      <td>[]</td>\n",
       "      <td>[]</td>\n",
       "      <td>Pubs and bars</td>\n",
       "      <td>Whitefield</td>\n",
       "    </tr>\n",
       "    <tr>\n",
       "      <th>51714</th>\n",
       "      <td>51714</td>\n",
       "      <td>https://www.zomato.com/bangalore/plunge-sherat...</td>\n",
       "      <td>Sheraton Grand Bengaluru Whitefield Hotel &amp; Co...</td>\n",
       "      <td>Plunge - Sheraton Grand Bengaluru Whitefield H...</td>\n",
       "      <td>No</td>\n",
       "      <td>No</td>\n",
       "      <td>NaN</td>\n",
       "      <td>0</td>\n",
       "      <td>None</td>\n",
       "      <td>Whitefield</td>\n",
       "      <td>Bar</td>\n",
       "      <td>None</td>\n",
       "      <td>Finger Food</td>\n",
       "      <td>2000.0</td>\n",
       "      <td>[]</td>\n",
       "      <td>[]</td>\n",
       "      <td>Pubs and bars</td>\n",
       "      <td>Whitefield</td>\n",
       "    </tr>\n",
       "  </tbody>\n",
       "</table>\n",
       "<p>10052 rows × 18 columns</p>\n",
       "</div>"
      ],
      "text/plain": [
       "       index                                                url  \\\n",
       "72        72  https://www.zomato.com/bangalore/spicy-tandoor...   \n",
       "75        75  https://www.zomato.com/bangalore/om-sri-vinaya...   \n",
       "84        84  https://www.zomato.com/bangalore/chill-out-ban...   \n",
       "90        90  https://www.zomato.com/bangalore/me-and-my-cak...   \n",
       "91        91  https://www.zomato.com/bangalore/sunsadm-banas...   \n",
       "...      ...                                                ...   \n",
       "51644  51644  https://www.zomato.com/bangalore/punjabi-thadk...   \n",
       "51675  51675  https://www.zomato.com/bangalore/topsy-turvey-...   \n",
       "51710  51710  https://www.zomato.com/bangalore/topsy-turvey-...   \n",
       "51713  51713  https://www.zomato.com/bangalore/vinod-bar-and...   \n",
       "51714  51714  https://www.zomato.com/bangalore/plunge-sherat...   \n",
       "\n",
       "                                                 address  \\\n",
       "72     Opposite ICICi Bank, Hanuman Nagar, Banashanka...   \n",
       "75     39, S B M Colony, Near-Sita Circle, 1st Stage,...   \n",
       "84     161/C, 6th Main, 80 Feet Road, Bhuvaneshwari N...   \n",
       "90     BDA Shopping Complex, 24th Cross Road, Siddann...   \n",
       "91     Shop 18 , 3rd cross road,Markandeya Layout, Ba...   \n",
       "...                                                  ...   \n",
       "51644  7/3, ASK Tower, Kundanahalli Gate, Next to Bat...   \n",
       "51675  2E2, 4th Cross Road, Devasandra Industrial Est...   \n",
       "51710  2E2, 4th Cross Road, Devasandra Industrial Est...   \n",
       "51713  Number 10, Garudachar Palya, Mahadevapura, Whi...   \n",
       "51714  Sheraton Grand Bengaluru Whitefield Hotel & Co...   \n",
       "\n",
       "                                                    name online_order  \\\n",
       "72                                         Spicy Tandoor           No   \n",
       "75                                 Om Sri Vinayaka Chats           No   \n",
       "84                                             Chill Out           No   \n",
       "90                                        Me And My Cake           No   \n",
       "91                                               Sunsadm           No   \n",
       "...                                                  ...          ...   \n",
       "51644                                     Punjabi Thadka           No   \n",
       "51675                                       Topsy Turvey           No   \n",
       "51710                                       Topsy Turvey           No   \n",
       "51713                           Vinod Bar And Restaurant           No   \n",
       "51714  Plunge - Sheraton Grand Bengaluru Whitefield H...           No   \n",
       "\n",
       "      book_table  rate  votes                           phone      location  \\\n",
       "72            No   NaN      0                  +91 8050884222  Banashankari   \n",
       "75            No   NaN      0                  +91 8553206035  Banashankari   \n",
       "84            No   NaN      0                  +91 9341215167  Banashankari   \n",
       "90            No   NaN      0                  +91 9036070410  Banashankari   \n",
       "91            No   NaN      0                  +91 7829290358  Banashankari   \n",
       "...          ...   ...    ...                             ...           ...   \n",
       "51644         No   NaN      0  +91 7338330336\\n+91 9591568221   Brookefield   \n",
       "51675         No   NaN      0                  +91 9148155994    Whitefield   \n",
       "51710         No   NaN      0                  +91 9148155994    Whitefield   \n",
       "51713         No   NaN      0                  +91 8197675843    Whitefield   \n",
       "51714         No   NaN      0                            None    Whitefield   \n",
       "\n",
       "                rest_type dish_liked                cuisines  \\\n",
       "72            Quick Bites       None            North Indian   \n",
       "75     Takeaway, Delivery       None  Street Food, Fast Food   \n",
       "84            Quick Bites       None   South Indian, Chinese   \n",
       "90               Delivery       None        Bakery, Desserts   \n",
       "91     Takeaway, Delivery       None            South Indian   \n",
       "...                   ...        ...                     ...   \n",
       "51644         Quick Bites       None            North Indian   \n",
       "51675                 Bar       None             Finger Food   \n",
       "51710                 Bar       None             Finger Food   \n",
       "51713                 Bar       None             Finger Food   \n",
       "51714                 Bar       None             Finger Food   \n",
       "\n",
       "       approx_cost(for two people)  \\\n",
       "72                           150.0   \n",
       "75                           500.0   \n",
       "84                           100.0   \n",
       "90                           500.0   \n",
       "91                           400.0   \n",
       "...                            ...   \n",
       "51644                        400.0   \n",
       "51675                        900.0   \n",
       "51710                        900.0   \n",
       "51713                        600.0   \n",
       "51714                       2000.0   \n",
       "\n",
       "                                            reviews_list menu_item  \\\n",
       "72     [('Rated 4.0', 'RATED\\n  cost for chicken roll...        []   \n",
       "75                                                    []        []   \n",
       "84     [('Rated 4.0', 'RATED\\n  Good Location. Small ...        []   \n",
       "90     [('Rated 1.0', 'RATED\\n  Do not order anything...        []   \n",
       "91                                                    []        []   \n",
       "...                                                  ...       ...   \n",
       "51644                                                 []        []   \n",
       "51675  [('Rated 4.0', \"RATED\\n  A divine joint for Fl...        []   \n",
       "51710  [('Rated 4.0', \"RATED\\n  A divine joint for Fl...        []   \n",
       "51713                                                 []        []   \n",
       "51714                                                 []        []   \n",
       "\n",
       "          listed_in(type) listed_in(city)  \n",
       "72               Delivery    Banashankari  \n",
       "75               Delivery    Banashankari  \n",
       "84               Delivery    Banashankari  \n",
       "90               Delivery    Banashankari  \n",
       "91               Delivery    Banashankari  \n",
       "...                   ...             ...  \n",
       "51644            Dine-out      Whitefield  \n",
       "51675  Drinks & nightlife      Whitefield  \n",
       "51710       Pubs and bars      Whitefield  \n",
       "51713       Pubs and bars      Whitefield  \n",
       "51714       Pubs and bars      Whitefield  \n",
       "\n",
       "[10052 rows x 18 columns]"
      ]
     },
     "execution_count": 42,
     "metadata": {},
     "output_type": "execute_result"
    }
   ],
   "source": [
    "df[df['rate'].isnull()] ## rows in which 'rate' have missing value .."
   ]
  },
  {
   "cell_type": "code",
   "execution_count": 43,
   "id": "b0df98cf",
   "metadata": {},
   "outputs": [
    {
     "data": {
      "text/plain": [
       "Int64Index([   72,    75,    84,    90,    91,    92,   107,   110,   113,\n",
       "              114,\n",
       "            ...\n",
       "            51636, 51638, 51639, 51642, 51643, 51644, 51675, 51710, 51713,\n",
       "            51714],\n",
       "           dtype='int64', length=10052)"
      ]
     },
     "execution_count": 43,
     "metadata": {},
     "output_type": "execute_result"
    }
   ],
   "source": [
    "df[df['rate'].isnull()].index ## indexes at which 'rate' have missing value .."
   ]
  },
  {
   "cell_type": "code",
   "execution_count": 44,
   "id": "bb3e06eb",
   "metadata": {},
   "outputs": [
    {
     "data": {
      "text/plain": [
       "nan"
      ]
     },
     "execution_count": 44,
     "metadata": {},
     "output_type": "execute_result"
    }
   ],
   "source": [
    "df['rate'][72] ## as at 72 index we have Nan(missing value) in 'rate'"
   ]
  },
  {
   "cell_type": "code",
   "execution_count": 45,
   "id": "dee865a4",
   "metadata": {},
   "outputs": [
    {
     "data": {
      "text/plain": [
       "\"[('Rated 4.0', 'RATED\\\\n  cost for chicken rolls is very high but fine taste by pandey and is crew. pls deduct the cost of rolls and great variety of food is been served'), ('Rated 5.0', 'RATED\\\\n  Awesome taste, feel rich taste of food, cleanness is very good, very friendly nature by the hotel person, totally awesome, all the best gud luck')]\""
      ]
     },
     "execution_count": 45,
     "metadata": {},
     "output_type": "execute_result"
    }
   ],
   "source": [
    "df['reviews_list'][72]"
   ]
  },
  {
   "cell_type": "code",
   "execution_count": 46,
   "id": "96837307",
   "metadata": {},
   "outputs": [
    {
     "data": {
      "text/plain": [
       "str"
      ]
     },
     "execution_count": 46,
     "metadata": {},
     "output_type": "execute_result"
    }
   ],
   "source": [
    "type(df['reviews_list'][72])"
   ]
  },
  {
   "cell_type": "markdown",
   "id": "8f6904bb",
   "metadata": {},
   "source": [
    "    -->> Using ast library , we will convert this string into list having separator as comma(,)\n",
    "    -->> Then from this list , we can extract our rating.."
   ]
  },
  {
   "cell_type": "code",
   "execution_count": null,
   "id": "d1832334",
   "metadata": {},
   "outputs": [],
   "source": []
  },
  {
   "cell_type": "code",
   "execution_count": 47,
   "id": "255e2ae8",
   "metadata": {},
   "outputs": [],
   "source": [
    "import ast ## inbuilt module ast (abstract syntax trees)"
   ]
  },
  {
   "cell_type": "code",
   "execution_count": 48,
   "id": "db7c6af3",
   "metadata": {},
   "outputs": [
    {
     "data": {
      "text/plain": [
       "[('Rated 4.0',\n",
       "  'RATED\\n  cost for chicken rolls is very high but fine taste by pandey and is crew. pls deduct the cost of rolls and great variety of food is been served'),\n",
       " ('Rated 5.0',\n",
       "  'RATED\\n  Awesome taste, feel rich taste of food, cleanness is very good, very friendly nature by the hotel person, totally awesome, all the best gud luck')]"
      ]
     },
     "execution_count": 48,
     "metadata": {},
     "output_type": "execute_result"
    }
   ],
   "source": [
    "# Syntax : ## ast.literal_eval(node_or_string)\n",
    "\n",
    "ast.literal_eval(df['reviews_list'][72]) # return \"a list of tuples\""
   ]
  },
  {
   "cell_type": "code",
   "execution_count": 49,
   "id": "eb4189c1",
   "metadata": {},
   "outputs": [],
   "source": [
    "# Consider first input/feedback/review \n",
    "\n",
    "first_input = ast.literal_eval(df['reviews_list'][72])[0]"
   ]
  },
  {
   "cell_type": "code",
   "execution_count": 50,
   "id": "c09ba0ec",
   "metadata": {},
   "outputs": [
    {
     "data": {
      "text/plain": [
       "('Rated 4.0',\n",
       " 'RATED\\n  cost for chicken rolls is very high but fine taste by pandey and is crew. pls deduct the cost of rolls and great variety of food is been served')"
      ]
     },
     "execution_count": 50,
     "metadata": {},
     "output_type": "execute_result"
    }
   ],
   "source": [
    "first_input"
   ]
  },
  {
   "cell_type": "code",
   "execution_count": 51,
   "id": "acec56ef",
   "metadata": {},
   "outputs": [
    {
     "data": {
      "text/plain": [
       "['4.0',\n",
       " 'RATED\\n  cost for chicken rolls is very high but fine taste by pandey and is crew. pls deduct the cost of rolls and great variety of food is been served']"
      ]
     },
     "execution_count": 51,
     "metadata": {},
     "output_type": "execute_result"
    }
   ],
   "source": [
    "[i.replace('Rated' , '').strip() for i in first_input] ## remove \"Rated\" !"
   ]
  },
  {
   "cell_type": "code",
   "execution_count": 52,
   "id": "95db8fef",
   "metadata": {},
   "outputs": [
    {
     "data": {
      "text/plain": [
       "'4.0'"
      ]
     },
     "execution_count": 52,
     "metadata": {},
     "output_type": "execute_result"
    }
   ],
   "source": [
    "[i.replace('Rated' , '').strip() for i in first_input][0]"
   ]
  },
  {
   "cell_type": "code",
   "execution_count": 53,
   "id": "fb780ada",
   "metadata": {},
   "outputs": [
    {
     "data": {
      "text/plain": [
       "str"
      ]
     },
     "execution_count": 53,
     "metadata": {},
     "output_type": "execute_result"
    }
   ],
   "source": [
    "type([i.replace('Rated' , '').strip() for i in first_input][0])"
   ]
  },
  {
   "cell_type": "code",
   "execution_count": 54,
   "id": "ef451264",
   "metadata": {},
   "outputs": [
    {
     "data": {
      "text/plain": [
       "4.0"
      ]
     },
     "execution_count": 54,
     "metadata": {},
     "output_type": "execute_result"
    }
   ],
   "source": [
    "float([i.replace('Rated' , '').strip() for i in first_input][0]) ## convert string value into float.."
   ]
  },
  {
   "cell_type": "code",
   "execution_count": null,
   "id": "cc9ad1f4",
   "metadata": {},
   "outputs": [],
   "source": []
  },
  {
   "cell_type": "code",
   "execution_count": null,
   "id": "f8ed68f7",
   "metadata": {},
   "outputs": [],
   "source": [
    "### let's make function so that we are able to apply this function on \"reviews_list\" to extract \"rating\" as much as we can !"
   ]
  },
  {
   "cell_type": "code",
   "execution_count": 55,
   "id": "1aeecd60",
   "metadata": {},
   "outputs": [],
   "source": [
    "def get_Rate(x):\n",
    "    list_of_reviews = ast.literal_eval(x)\n",
    "    \n",
    "    if list_of_reviews is None or len(list_of_reviews)<=1:\n",
    "        return None\n",
    "    else:\n",
    "        first_input = list_of_reviews[0]\n",
    "        rate = float([i.replace('Rated' , '').strip() for i in first_input][0])\n",
    "        return rate"
   ]
  },
  {
   "cell_type": "code",
   "execution_count": 56,
   "id": "029b3fc8",
   "metadata": {},
   "outputs": [],
   "source": [
    "df['rate_from_reviews_list'] = df['reviews_list'].apply(get_Rate) ## applying function"
   ]
  },
  {
   "cell_type": "code",
   "execution_count": 57,
   "id": "310692a3",
   "metadata": {},
   "outputs": [
    {
     "data": {
      "text/plain": [
       "4.0"
      ]
     },
     "execution_count": 57,
     "metadata": {},
     "output_type": "execute_result"
    }
   ],
   "source": [
    "get_Rate(df['reviews_list'][72])"
   ]
  },
  {
   "cell_type": "code",
   "execution_count": null,
   "id": "5f8a0233",
   "metadata": {},
   "outputs": [],
   "source": []
  },
  {
   "cell_type": "code",
   "execution_count": null,
   "id": "f102bd1d",
   "metadata": {},
   "outputs": [],
   "source": []
  },
  {
   "cell_type": "code",
   "execution_count": null,
   "id": "91eae704",
   "metadata": {},
   "outputs": [],
   "source": []
  },
  {
   "cell_type": "markdown",
   "id": "9442d0b2",
   "metadata": {},
   "source": [
    "## 5.. filling missing values !"
   ]
  },
  {
   "cell_type": "code",
   "execution_count": 58,
   "id": "14f38a65",
   "metadata": {},
   "outputs": [
    {
     "data": {
      "text/plain": [
       "0        4.0\n",
       "1        4.0\n",
       "2        3.0\n",
       "3        4.0\n",
       "4        4.0\n",
       "        ... \n",
       "51712    5.0\n",
       "51713    NaN\n",
       "51714    NaN\n",
       "51715    4.0\n",
       "51716    5.0\n",
       "Name: rate_from_reviews_list, Length: 51717, dtype: float64"
      ]
     },
     "execution_count": 58,
     "metadata": {},
     "output_type": "execute_result"
    }
   ],
   "source": [
    "df['rate_from_reviews_list']"
   ]
  },
  {
   "cell_type": "code",
   "execution_count": 59,
   "id": "47361d34",
   "metadata": {},
   "outputs": [
    {
     "data": {
      "text/plain": [
       "4.0"
      ]
     },
     "execution_count": 59,
     "metadata": {},
     "output_type": "execute_result"
    }
   ],
   "source": [
    "df['rate_from_reviews_list'][72]"
   ]
  },
  {
   "cell_type": "code",
   "execution_count": 60,
   "id": "849ce737",
   "metadata": {},
   "outputs": [
    {
     "data": {
      "text/plain": [
       "nan"
      ]
     },
     "execution_count": 60,
     "metadata": {},
     "output_type": "execute_result"
    }
   ],
   "source": [
    "df['rate'][72]"
   ]
  },
  {
   "cell_type": "code",
   "execution_count": 61,
   "id": "090c07cb",
   "metadata": {},
   "outputs": [
    {
     "name": "stderr",
     "output_type": "stream",
     "text": [
      "C:\\Users\\mcr\\AppData\\Local\\Temp\\ipykernel_11412\\3757822831.py:1: SettingWithCopyWarning: \n",
      "A value is trying to be set on a copy of a slice from a DataFrame\n",
      "\n",
      "See the caveats in the documentation: https://pandas.pydata.org/pandas-docs/stable/user_guide/indexing.html#returning-a-view-versus-a-copy\n",
      "  df['rate'][72] = df['rate_from_reviews_list'][72]\n"
     ]
    }
   ],
   "source": [
    "df['rate'][72] = df['rate_from_reviews_list'][72] ## lets fill \"nan\" with 4.0"
   ]
  },
  {
   "cell_type": "code",
   "execution_count": 62,
   "id": "3ba8fbba",
   "metadata": {},
   "outputs": [],
   "source": [
    "## use warnings to get rid of any warning !\n",
    "import warnings\n",
    "from warnings import filterwarnings\n",
    "filterwarnings('ignore')"
   ]
  },
  {
   "cell_type": "code",
   "execution_count": 63,
   "id": "bfb982f2",
   "metadata": {},
   "outputs": [
    {
     "data": {
      "text/plain": [
       "4.0"
      ]
     },
     "execution_count": 63,
     "metadata": {},
     "output_type": "execute_result"
    }
   ],
   "source": [
    "df['rate'][72]"
   ]
  },
  {
   "cell_type": "code",
   "execution_count": 64,
   "id": "0508d244",
   "metadata": {},
   "outputs": [
    {
     "data": {
      "text/plain": [
       "0        False\n",
       "1        False\n",
       "2        False\n",
       "3        False\n",
       "4        False\n",
       "         ...  \n",
       "51712    False\n",
       "51713     True\n",
       "51714     True\n",
       "51715    False\n",
       "51716    False\n",
       "Name: rate, Length: 51717, dtype: bool"
      ]
     },
     "execution_count": 64,
     "metadata": {},
     "output_type": "execute_result"
    }
   ],
   "source": [
    "df['rate'].isnull()"
   ]
  },
  {
   "cell_type": "code",
   "execution_count": 65,
   "id": "b5803aad",
   "metadata": {},
   "outputs": [
    {
     "data": {
      "text/html": [
       "<div>\n",
       "<style scoped>\n",
       "    .dataframe tbody tr th:only-of-type {\n",
       "        vertical-align: middle;\n",
       "    }\n",
       "\n",
       "    .dataframe tbody tr th {\n",
       "        vertical-align: top;\n",
       "    }\n",
       "\n",
       "    .dataframe thead th {\n",
       "        text-align: right;\n",
       "    }\n",
       "</style>\n",
       "<table border=\"1\" class=\"dataframe\">\n",
       "  <thead>\n",
       "    <tr style=\"text-align: right;\">\n",
       "      <th></th>\n",
       "      <th>index</th>\n",
       "      <th>url</th>\n",
       "      <th>address</th>\n",
       "      <th>name</th>\n",
       "      <th>online_order</th>\n",
       "      <th>book_table</th>\n",
       "      <th>rate</th>\n",
       "      <th>votes</th>\n",
       "      <th>phone</th>\n",
       "      <th>location</th>\n",
       "      <th>rest_type</th>\n",
       "      <th>dish_liked</th>\n",
       "      <th>cuisines</th>\n",
       "      <th>approx_cost(for two people)</th>\n",
       "      <th>reviews_list</th>\n",
       "      <th>menu_item</th>\n",
       "      <th>listed_in(type)</th>\n",
       "      <th>listed_in(city)</th>\n",
       "      <th>rate_from_reviews_list</th>\n",
       "    </tr>\n",
       "  </thead>\n",
       "  <tbody>\n",
       "    <tr>\n",
       "      <th>75</th>\n",
       "      <td>75</td>\n",
       "      <td>https://www.zomato.com/bangalore/om-sri-vinaya...</td>\n",
       "      <td>39, S B M Colony, Near-Sita Circle, 1st Stage,...</td>\n",
       "      <td>Om Sri Vinayaka Chats</td>\n",
       "      <td>No</td>\n",
       "      <td>No</td>\n",
       "      <td>NaN</td>\n",
       "      <td>0</td>\n",
       "      <td>+91 8553206035</td>\n",
       "      <td>Banashankari</td>\n",
       "      <td>Takeaway, Delivery</td>\n",
       "      <td>None</td>\n",
       "      <td>Street Food, Fast Food</td>\n",
       "      <td>500.0</td>\n",
       "      <td>[]</td>\n",
       "      <td>[]</td>\n",
       "      <td>Delivery</td>\n",
       "      <td>Banashankari</td>\n",
       "      <td>NaN</td>\n",
       "    </tr>\n",
       "    <tr>\n",
       "      <th>84</th>\n",
       "      <td>84</td>\n",
       "      <td>https://www.zomato.com/bangalore/chill-out-ban...</td>\n",
       "      <td>161/C, 6th Main, 80 Feet Road, Bhuvaneshwari N...</td>\n",
       "      <td>Chill Out</td>\n",
       "      <td>No</td>\n",
       "      <td>No</td>\n",
       "      <td>NaN</td>\n",
       "      <td>0</td>\n",
       "      <td>+91 9341215167</td>\n",
       "      <td>Banashankari</td>\n",
       "      <td>Quick Bites</td>\n",
       "      <td>None</td>\n",
       "      <td>South Indian, Chinese</td>\n",
       "      <td>100.0</td>\n",
       "      <td>[('Rated 4.0', 'RATED\\n  Good Location. Small ...</td>\n",
       "      <td>[]</td>\n",
       "      <td>Delivery</td>\n",
       "      <td>Banashankari</td>\n",
       "      <td>NaN</td>\n",
       "    </tr>\n",
       "    <tr>\n",
       "      <th>90</th>\n",
       "      <td>90</td>\n",
       "      <td>https://www.zomato.com/bangalore/me-and-my-cak...</td>\n",
       "      <td>BDA Shopping Complex, 24th Cross Road, Siddann...</td>\n",
       "      <td>Me And My Cake</td>\n",
       "      <td>No</td>\n",
       "      <td>No</td>\n",
       "      <td>NaN</td>\n",
       "      <td>0</td>\n",
       "      <td>+91 9036070410</td>\n",
       "      <td>Banashankari</td>\n",
       "      <td>Delivery</td>\n",
       "      <td>None</td>\n",
       "      <td>Bakery, Desserts</td>\n",
       "      <td>500.0</td>\n",
       "      <td>[('Rated 1.0', 'RATED\\n  Do not order anything...</td>\n",
       "      <td>[]</td>\n",
       "      <td>Delivery</td>\n",
       "      <td>Banashankari</td>\n",
       "      <td>1.0</td>\n",
       "    </tr>\n",
       "    <tr>\n",
       "      <th>91</th>\n",
       "      <td>91</td>\n",
       "      <td>https://www.zomato.com/bangalore/sunsadm-banas...</td>\n",
       "      <td>Shop 18 , 3rd cross road,Markandeya Layout, Ba...</td>\n",
       "      <td>Sunsadm</td>\n",
       "      <td>No</td>\n",
       "      <td>No</td>\n",
       "      <td>NaN</td>\n",
       "      <td>0</td>\n",
       "      <td>+91 7829290358</td>\n",
       "      <td>Banashankari</td>\n",
       "      <td>Takeaway, Delivery</td>\n",
       "      <td>None</td>\n",
       "      <td>South Indian</td>\n",
       "      <td>400.0</td>\n",
       "      <td>[]</td>\n",
       "      <td>[]</td>\n",
       "      <td>Delivery</td>\n",
       "      <td>Banashankari</td>\n",
       "      <td>NaN</td>\n",
       "    </tr>\n",
       "    <tr>\n",
       "      <th>92</th>\n",
       "      <td>92</td>\n",
       "      <td>https://www.zomato.com/bangalore/annapooranesh...</td>\n",
       "      <td>625, 5th Cross Road, Hanumanthnagar, Banashank...</td>\n",
       "      <td>Annapooraneshwari Mess</td>\n",
       "      <td>No</td>\n",
       "      <td>No</td>\n",
       "      <td>NaN</td>\n",
       "      <td>0</td>\n",
       "      <td>+91 9742009518</td>\n",
       "      <td>Banashankari</td>\n",
       "      <td>Mess</td>\n",
       "      <td>None</td>\n",
       "      <td>South Indian</td>\n",
       "      <td>200.0</td>\n",
       "      <td>[]</td>\n",
       "      <td>[]</td>\n",
       "      <td>Delivery</td>\n",
       "      <td>Banashankari</td>\n",
       "      <td>NaN</td>\n",
       "    </tr>\n",
       "    <tr>\n",
       "      <th>...</th>\n",
       "      <td>...</td>\n",
       "      <td>...</td>\n",
       "      <td>...</td>\n",
       "      <td>...</td>\n",
       "      <td>...</td>\n",
       "      <td>...</td>\n",
       "      <td>...</td>\n",
       "      <td>...</td>\n",
       "      <td>...</td>\n",
       "      <td>...</td>\n",
       "      <td>...</td>\n",
       "      <td>...</td>\n",
       "      <td>...</td>\n",
       "      <td>...</td>\n",
       "      <td>...</td>\n",
       "      <td>...</td>\n",
       "      <td>...</td>\n",
       "      <td>...</td>\n",
       "      <td>...</td>\n",
       "    </tr>\n",
       "    <tr>\n",
       "      <th>51644</th>\n",
       "      <td>51644</td>\n",
       "      <td>https://www.zomato.com/bangalore/punjabi-thadk...</td>\n",
       "      <td>7/3, ASK Tower, Kundanahalli Gate, Next to Bat...</td>\n",
       "      <td>Punjabi Thadka</td>\n",
       "      <td>No</td>\n",
       "      <td>No</td>\n",
       "      <td>NaN</td>\n",
       "      <td>0</td>\n",
       "      <td>+91 7338330336\\n+91 9591568221</td>\n",
       "      <td>Brookefield</td>\n",
       "      <td>Quick Bites</td>\n",
       "      <td>None</td>\n",
       "      <td>North Indian</td>\n",
       "      <td>400.0</td>\n",
       "      <td>[]</td>\n",
       "      <td>[]</td>\n",
       "      <td>Dine-out</td>\n",
       "      <td>Whitefield</td>\n",
       "      <td>NaN</td>\n",
       "    </tr>\n",
       "    <tr>\n",
       "      <th>51675</th>\n",
       "      <td>51675</td>\n",
       "      <td>https://www.zomato.com/bangalore/topsy-turvey-...</td>\n",
       "      <td>2E2, 4th Cross Road, Devasandra Industrial Est...</td>\n",
       "      <td>Topsy Turvey</td>\n",
       "      <td>No</td>\n",
       "      <td>No</td>\n",
       "      <td>NaN</td>\n",
       "      <td>0</td>\n",
       "      <td>+91 9148155994</td>\n",
       "      <td>Whitefield</td>\n",
       "      <td>Bar</td>\n",
       "      <td>None</td>\n",
       "      <td>Finger Food</td>\n",
       "      <td>900.0</td>\n",
       "      <td>[('Rated 4.0', \"RATED\\n  A divine joint for Fl...</td>\n",
       "      <td>[]</td>\n",
       "      <td>Drinks &amp; nightlife</td>\n",
       "      <td>Whitefield</td>\n",
       "      <td>NaN</td>\n",
       "    </tr>\n",
       "    <tr>\n",
       "      <th>51710</th>\n",
       "      <td>51710</td>\n",
       "      <td>https://www.zomato.com/bangalore/topsy-turvey-...</td>\n",
       "      <td>2E2, 4th Cross Road, Devasandra Industrial Est...</td>\n",
       "      <td>Topsy Turvey</td>\n",
       "      <td>No</td>\n",
       "      <td>No</td>\n",
       "      <td>NaN</td>\n",
       "      <td>0</td>\n",
       "      <td>+91 9148155994</td>\n",
       "      <td>Whitefield</td>\n",
       "      <td>Bar</td>\n",
       "      <td>None</td>\n",
       "      <td>Finger Food</td>\n",
       "      <td>900.0</td>\n",
       "      <td>[('Rated 4.0', \"RATED\\n  A divine joint for Fl...</td>\n",
       "      <td>[]</td>\n",
       "      <td>Pubs and bars</td>\n",
       "      <td>Whitefield</td>\n",
       "      <td>NaN</td>\n",
       "    </tr>\n",
       "    <tr>\n",
       "      <th>51713</th>\n",
       "      <td>51713</td>\n",
       "      <td>https://www.zomato.com/bangalore/vinod-bar-and...</td>\n",
       "      <td>Number 10, Garudachar Palya, Mahadevapura, Whi...</td>\n",
       "      <td>Vinod Bar And Restaurant</td>\n",
       "      <td>No</td>\n",
       "      <td>No</td>\n",
       "      <td>NaN</td>\n",
       "      <td>0</td>\n",
       "      <td>+91 8197675843</td>\n",
       "      <td>Whitefield</td>\n",
       "      <td>Bar</td>\n",
       "      <td>None</td>\n",
       "      <td>Finger Food</td>\n",
       "      <td>600.0</td>\n",
       "      <td>[]</td>\n",
       "      <td>[]</td>\n",
       "      <td>Pubs and bars</td>\n",
       "      <td>Whitefield</td>\n",
       "      <td>NaN</td>\n",
       "    </tr>\n",
       "    <tr>\n",
       "      <th>51714</th>\n",
       "      <td>51714</td>\n",
       "      <td>https://www.zomato.com/bangalore/plunge-sherat...</td>\n",
       "      <td>Sheraton Grand Bengaluru Whitefield Hotel &amp; Co...</td>\n",
       "      <td>Plunge - Sheraton Grand Bengaluru Whitefield H...</td>\n",
       "      <td>No</td>\n",
       "      <td>No</td>\n",
       "      <td>NaN</td>\n",
       "      <td>0</td>\n",
       "      <td>None</td>\n",
       "      <td>Whitefield</td>\n",
       "      <td>Bar</td>\n",
       "      <td>None</td>\n",
       "      <td>Finger Food</td>\n",
       "      <td>2000.0</td>\n",
       "      <td>[]</td>\n",
       "      <td>[]</td>\n",
       "      <td>Pubs and bars</td>\n",
       "      <td>Whitefield</td>\n",
       "      <td>NaN</td>\n",
       "    </tr>\n",
       "  </tbody>\n",
       "</table>\n",
       "<p>10051 rows × 19 columns</p>\n",
       "</div>"
      ],
      "text/plain": [
       "       index                                                url  \\\n",
       "75        75  https://www.zomato.com/bangalore/om-sri-vinaya...   \n",
       "84        84  https://www.zomato.com/bangalore/chill-out-ban...   \n",
       "90        90  https://www.zomato.com/bangalore/me-and-my-cak...   \n",
       "91        91  https://www.zomato.com/bangalore/sunsadm-banas...   \n",
       "92        92  https://www.zomato.com/bangalore/annapooranesh...   \n",
       "...      ...                                                ...   \n",
       "51644  51644  https://www.zomato.com/bangalore/punjabi-thadk...   \n",
       "51675  51675  https://www.zomato.com/bangalore/topsy-turvey-...   \n",
       "51710  51710  https://www.zomato.com/bangalore/topsy-turvey-...   \n",
       "51713  51713  https://www.zomato.com/bangalore/vinod-bar-and...   \n",
       "51714  51714  https://www.zomato.com/bangalore/plunge-sherat...   \n",
       "\n",
       "                                                 address  \\\n",
       "75     39, S B M Colony, Near-Sita Circle, 1st Stage,...   \n",
       "84     161/C, 6th Main, 80 Feet Road, Bhuvaneshwari N...   \n",
       "90     BDA Shopping Complex, 24th Cross Road, Siddann...   \n",
       "91     Shop 18 , 3rd cross road,Markandeya Layout, Ba...   \n",
       "92     625, 5th Cross Road, Hanumanthnagar, Banashank...   \n",
       "...                                                  ...   \n",
       "51644  7/3, ASK Tower, Kundanahalli Gate, Next to Bat...   \n",
       "51675  2E2, 4th Cross Road, Devasandra Industrial Est...   \n",
       "51710  2E2, 4th Cross Road, Devasandra Industrial Est...   \n",
       "51713  Number 10, Garudachar Palya, Mahadevapura, Whi...   \n",
       "51714  Sheraton Grand Bengaluru Whitefield Hotel & Co...   \n",
       "\n",
       "                                                    name online_order  \\\n",
       "75                                 Om Sri Vinayaka Chats           No   \n",
       "84                                             Chill Out           No   \n",
       "90                                        Me And My Cake           No   \n",
       "91                                               Sunsadm           No   \n",
       "92                                Annapooraneshwari Mess           No   \n",
       "...                                                  ...          ...   \n",
       "51644                                     Punjabi Thadka           No   \n",
       "51675                                       Topsy Turvey           No   \n",
       "51710                                       Topsy Turvey           No   \n",
       "51713                           Vinod Bar And Restaurant           No   \n",
       "51714  Plunge - Sheraton Grand Bengaluru Whitefield H...           No   \n",
       "\n",
       "      book_table  rate  votes                           phone      location  \\\n",
       "75            No   NaN      0                  +91 8553206035  Banashankari   \n",
       "84            No   NaN      0                  +91 9341215167  Banashankari   \n",
       "90            No   NaN      0                  +91 9036070410  Banashankari   \n",
       "91            No   NaN      0                  +91 7829290358  Banashankari   \n",
       "92            No   NaN      0                  +91 9742009518  Banashankari   \n",
       "...          ...   ...    ...                             ...           ...   \n",
       "51644         No   NaN      0  +91 7338330336\\n+91 9591568221   Brookefield   \n",
       "51675         No   NaN      0                  +91 9148155994    Whitefield   \n",
       "51710         No   NaN      0                  +91 9148155994    Whitefield   \n",
       "51713         No   NaN      0                  +91 8197675843    Whitefield   \n",
       "51714         No   NaN      0                            None    Whitefield   \n",
       "\n",
       "                rest_type dish_liked                cuisines  \\\n",
       "75     Takeaway, Delivery       None  Street Food, Fast Food   \n",
       "84            Quick Bites       None   South Indian, Chinese   \n",
       "90               Delivery       None        Bakery, Desserts   \n",
       "91     Takeaway, Delivery       None            South Indian   \n",
       "92                   Mess       None            South Indian   \n",
       "...                   ...        ...                     ...   \n",
       "51644         Quick Bites       None            North Indian   \n",
       "51675                 Bar       None             Finger Food   \n",
       "51710                 Bar       None             Finger Food   \n",
       "51713                 Bar       None             Finger Food   \n",
       "51714                 Bar       None             Finger Food   \n",
       "\n",
       "       approx_cost(for two people)  \\\n",
       "75                           500.0   \n",
       "84                           100.0   \n",
       "90                           500.0   \n",
       "91                           400.0   \n",
       "92                           200.0   \n",
       "...                            ...   \n",
       "51644                        400.0   \n",
       "51675                        900.0   \n",
       "51710                        900.0   \n",
       "51713                        600.0   \n",
       "51714                       2000.0   \n",
       "\n",
       "                                            reviews_list menu_item  \\\n",
       "75                                                    []        []   \n",
       "84     [('Rated 4.0', 'RATED\\n  Good Location. Small ...        []   \n",
       "90     [('Rated 1.0', 'RATED\\n  Do not order anything...        []   \n",
       "91                                                    []        []   \n",
       "92                                                    []        []   \n",
       "...                                                  ...       ...   \n",
       "51644                                                 []        []   \n",
       "51675  [('Rated 4.0', \"RATED\\n  A divine joint for Fl...        []   \n",
       "51710  [('Rated 4.0', \"RATED\\n  A divine joint for Fl...        []   \n",
       "51713                                                 []        []   \n",
       "51714                                                 []        []   \n",
       "\n",
       "          listed_in(type) listed_in(city)  rate_from_reviews_list  \n",
       "75               Delivery    Banashankari                     NaN  \n",
       "84               Delivery    Banashankari                     NaN  \n",
       "90               Delivery    Banashankari                     1.0  \n",
       "91               Delivery    Banashankari                     NaN  \n",
       "92               Delivery    Banashankari                     NaN  \n",
       "...                   ...             ...                     ...  \n",
       "51644            Dine-out      Whitefield                     NaN  \n",
       "51675  Drinks & nightlife      Whitefield                     NaN  \n",
       "51710       Pubs and bars      Whitefield                     NaN  \n",
       "51713       Pubs and bars      Whitefield                     NaN  \n",
       "51714       Pubs and bars      Whitefield                     NaN  \n",
       "\n",
       "[10051 rows x 19 columns]"
      ]
     },
     "execution_count": 65,
     "metadata": {},
     "output_type": "execute_result"
    }
   ],
   "source": [
    "df[df['rate'].isnull()] ## getting entire dataframe where we have missing value in \"rate\" feature "
   ]
  },
  {
   "cell_type": "code",
   "execution_count": 66,
   "id": "b16125de",
   "metadata": {},
   "outputs": [],
   "source": [
    "nan_index = df[df['rate'].isnull()].index ## getting all the Nan's indexes"
   ]
  },
  {
   "cell_type": "code",
   "execution_count": 67,
   "id": "1ebfa2f3",
   "metadata": {},
   "outputs": [
    {
     "data": {
      "text/plain": [
       "Int64Index([   75,    84,    90,    91,    92,   107,   110,   113,   114,\n",
       "              115,\n",
       "            ...\n",
       "            51636, 51638, 51639, 51642, 51643, 51644, 51675, 51710, 51713,\n",
       "            51714],\n",
       "           dtype='int64', length=10051)"
      ]
     },
     "execution_count": 67,
     "metadata": {},
     "output_type": "execute_result"
    }
   ],
   "source": [
    "nan_index"
   ]
  },
  {
   "cell_type": "code",
   "execution_count": null,
   "id": "6c179d20",
   "metadata": {},
   "outputs": [],
   "source": []
  },
  {
   "cell_type": "code",
   "execution_count": 68,
   "id": "757d3d62",
   "metadata": {},
   "outputs": [],
   "source": [
    "###  filling the missing values of rate feature..\n",
    "\n",
    "for index in nan_index:\n",
    "    df['rate'][index] = df['rate_from_reviews_list'][index]"
   ]
  },
  {
   "cell_type": "code",
   "execution_count": 69,
   "id": "81da8ee7",
   "metadata": {},
   "outputs": [
    {
     "data": {
      "text/plain": [
       "8542"
      ]
     },
     "execution_count": 69,
     "metadata": {},
     "output_type": "execute_result"
    }
   ],
   "source": [
    "df['rate'].isnull().sum() ### ie we are able to fill approx 1500 missing values of 'rate'.."
   ]
  },
  {
   "cell_type": "code",
   "execution_count": null,
   "id": "237d109f",
   "metadata": {},
   "outputs": [],
   "source": []
  },
  {
   "cell_type": "code",
   "execution_count": 70,
   "id": "14fab55c",
   "metadata": {},
   "outputs": [
    {
     "data": {
      "text/plain": [
       "Index(['index', 'url', 'address', 'name', 'online_order', 'book_table', 'rate',\n",
       "       'votes', 'phone', 'location', 'rest_type', 'dish_liked', 'cuisines',\n",
       "       'approx_cost(for two people)', 'reviews_list', 'menu_item',\n",
       "       'listed_in(type)', 'listed_in(city)', 'rate_from_reviews_list'],\n",
       "      dtype='object')"
      ]
     },
     "execution_count": 70,
     "metadata": {},
     "output_type": "execute_result"
    }
   ],
   "source": [
    "df.columns"
   ]
  },
  {
   "cell_type": "code",
   "execution_count": 71,
   "id": "a62ed960",
   "metadata": {},
   "outputs": [
    {
     "data": {
      "text/plain": [
       "index                              0\n",
       "url                                0\n",
       "address                            0\n",
       "name                               0\n",
       "online_order                       0\n",
       "book_table                         0\n",
       "rate                            8542\n",
       "votes                              0\n",
       "phone                           1208\n",
       "location                          21\n",
       "rest_type                        227\n",
       "dish_liked                     28078\n",
       "cuisines                          45\n",
       "approx_cost(for two people)      346\n",
       "reviews_list                       0\n",
       "menu_item                          0\n",
       "listed_in(type)                    0\n",
       "listed_in(city)                    0\n",
       "rate_from_reviews_list         16120\n",
       "dtype: int64"
      ]
     },
     "execution_count": 71,
     "metadata": {},
     "output_type": "execute_result"
    }
   ],
   "source": [
    "df.isnull().sum()"
   ]
  },
  {
   "cell_type": "code",
   "execution_count": null,
   "id": "964ab75c",
   "metadata": {},
   "outputs": [],
   "source": [
    "### Since more than 50% data in dish_liked feature is vacant , lets drop this feature .."
   ]
  },
  {
   "cell_type": "code",
   "execution_count": 72,
   "id": "ec66f597",
   "metadata": {},
   "outputs": [],
   "source": [
    "dataframe = df.drop(['dish_liked' , 'rate_from_reviews_list'] , axis=1)"
   ]
  },
  {
   "cell_type": "code",
   "execution_count": 73,
   "id": "cacc41d3",
   "metadata": {},
   "outputs": [
    {
     "data": {
      "text/html": [
       "<div>\n",
       "<style scoped>\n",
       "    .dataframe tbody tr th:only-of-type {\n",
       "        vertical-align: middle;\n",
       "    }\n",
       "\n",
       "    .dataframe tbody tr th {\n",
       "        vertical-align: top;\n",
       "    }\n",
       "\n",
       "    .dataframe thead th {\n",
       "        text-align: right;\n",
       "    }\n",
       "</style>\n",
       "<table border=\"1\" class=\"dataframe\">\n",
       "  <thead>\n",
       "    <tr style=\"text-align: right;\">\n",
       "      <th></th>\n",
       "      <th>index</th>\n",
       "      <th>url</th>\n",
       "      <th>address</th>\n",
       "      <th>name</th>\n",
       "      <th>online_order</th>\n",
       "      <th>book_table</th>\n",
       "      <th>rate</th>\n",
       "      <th>votes</th>\n",
       "      <th>phone</th>\n",
       "      <th>location</th>\n",
       "      <th>rest_type</th>\n",
       "      <th>cuisines</th>\n",
       "      <th>approx_cost(for two people)</th>\n",
       "      <th>reviews_list</th>\n",
       "      <th>menu_item</th>\n",
       "      <th>listed_in(type)</th>\n",
       "      <th>listed_in(city)</th>\n",
       "    </tr>\n",
       "  </thead>\n",
       "  <tbody>\n",
       "    <tr>\n",
       "      <th>0</th>\n",
       "      <td>0</td>\n",
       "      <td>https://www.zomato.com/bangalore/jalsa-banasha...</td>\n",
       "      <td>942, 21st Main Road, 2nd Stage, Banashankari, ...</td>\n",
       "      <td>Jalsa</td>\n",
       "      <td>Yes</td>\n",
       "      <td>Yes</td>\n",
       "      <td>4.1</td>\n",
       "      <td>775</td>\n",
       "      <td>080 42297555\\r\\n+91 9743772233</td>\n",
       "      <td>Banashankari</td>\n",
       "      <td>Casual Dining</td>\n",
       "      <td>North Indian, Mughlai, Chinese</td>\n",
       "      <td>800.0</td>\n",
       "      <td>[('Rated 4.0', 'RATED\\n  A beautiful place to ...</td>\n",
       "      <td>[]</td>\n",
       "      <td>Buffet</td>\n",
       "      <td>Banashankari</td>\n",
       "    </tr>\n",
       "    <tr>\n",
       "      <th>1</th>\n",
       "      <td>1</td>\n",
       "      <td>https://www.zomato.com/bangalore/spice-elephan...</td>\n",
       "      <td>2nd Floor, 80 Feet Road, Near Big Bazaar, 6th ...</td>\n",
       "      <td>Spice Elephant</td>\n",
       "      <td>Yes</td>\n",
       "      <td>No</td>\n",
       "      <td>4.1</td>\n",
       "      <td>787</td>\n",
       "      <td>080 41714161</td>\n",
       "      <td>Banashankari</td>\n",
       "      <td>Casual Dining</td>\n",
       "      <td>Chinese, North Indian, Thai</td>\n",
       "      <td>800.0</td>\n",
       "      <td>[('Rated 4.0', 'RATED\\n  Had been here for din...</td>\n",
       "      <td>[]</td>\n",
       "      <td>Buffet</td>\n",
       "      <td>Banashankari</td>\n",
       "    </tr>\n",
       "    <tr>\n",
       "      <th>2</th>\n",
       "      <td>2</td>\n",
       "      <td>https://www.zomato.com/SanchurroBangalore?cont...</td>\n",
       "      <td>1112, Next to KIMS Medical College, 17th Cross...</td>\n",
       "      <td>San Churro Cafe</td>\n",
       "      <td>Yes</td>\n",
       "      <td>No</td>\n",
       "      <td>3.8</td>\n",
       "      <td>918</td>\n",
       "      <td>+91 9663487993</td>\n",
       "      <td>Banashankari</td>\n",
       "      <td>Cafe, Casual Dining</td>\n",
       "      <td>Cafe, Mexican, Italian</td>\n",
       "      <td>800.0</td>\n",
       "      <td>[('Rated 3.0', \"RATED\\n  Ambience is not that ...</td>\n",
       "      <td>[]</td>\n",
       "      <td>Buffet</td>\n",
       "      <td>Banashankari</td>\n",
       "    </tr>\n",
       "  </tbody>\n",
       "</table>\n",
       "</div>"
      ],
      "text/plain": [
       "   index                                                url  \\\n",
       "0      0  https://www.zomato.com/bangalore/jalsa-banasha...   \n",
       "1      1  https://www.zomato.com/bangalore/spice-elephan...   \n",
       "2      2  https://www.zomato.com/SanchurroBangalore?cont...   \n",
       "\n",
       "                                             address             name  \\\n",
       "0  942, 21st Main Road, 2nd Stage, Banashankari, ...            Jalsa   \n",
       "1  2nd Floor, 80 Feet Road, Near Big Bazaar, 6th ...   Spice Elephant   \n",
       "2  1112, Next to KIMS Medical College, 17th Cross...  San Churro Cafe   \n",
       "\n",
       "  online_order book_table  rate  votes                           phone  \\\n",
       "0          Yes        Yes   4.1    775  080 42297555\\r\\n+91 9743772233   \n",
       "1          Yes         No   4.1    787                    080 41714161   \n",
       "2          Yes         No   3.8    918                  +91 9663487993   \n",
       "\n",
       "       location            rest_type                        cuisines  \\\n",
       "0  Banashankari        Casual Dining  North Indian, Mughlai, Chinese   \n",
       "1  Banashankari        Casual Dining     Chinese, North Indian, Thai   \n",
       "2  Banashankari  Cafe, Casual Dining          Cafe, Mexican, Italian   \n",
       "\n",
       "   approx_cost(for two people)  \\\n",
       "0                        800.0   \n",
       "1                        800.0   \n",
       "2                        800.0   \n",
       "\n",
       "                                        reviews_list menu_item  \\\n",
       "0  [('Rated 4.0', 'RATED\\n  A beautiful place to ...        []   \n",
       "1  [('Rated 4.0', 'RATED\\n  Had been here for din...        []   \n",
       "2  [('Rated 3.0', \"RATED\\n  Ambience is not that ...        []   \n",
       "\n",
       "  listed_in(type) listed_in(city)  \n",
       "0          Buffet    Banashankari  \n",
       "1          Buffet    Banashankari  \n",
       "2          Buffet    Banashankari  "
      ]
     },
     "execution_count": 73,
     "metadata": {},
     "output_type": "execute_result"
    }
   ],
   "source": [
    "dataframe.head(3)"
   ]
  },
  {
   "cell_type": "code",
   "execution_count": null,
   "id": "e75f53c4",
   "metadata": {},
   "outputs": [],
   "source": []
  },
  {
   "cell_type": "code",
   "execution_count": null,
   "id": "40bcd04d",
   "metadata": {},
   "outputs": [],
   "source": []
  },
  {
   "cell_type": "code",
   "execution_count": null,
   "id": "0b564aa8",
   "metadata": {},
   "outputs": [],
   "source": []
  },
  {
   "cell_type": "code",
   "execution_count": null,
   "id": "2d541d3b",
   "metadata": {},
   "outputs": [],
   "source": []
  },
  {
   "cell_type": "markdown",
   "id": "f7b07e43",
   "metadata": {},
   "source": [
    "## 6.. Doing Feature extraction :"
   ]
  },
  {
   "cell_type": "code",
   "execution_count": 74,
   "id": "53af262c",
   "metadata": {},
   "outputs": [
    {
     "data": {
      "text/plain": [
       "0                North Indian, Mughlai, Chinese\n",
       "1                   Chinese, North Indian, Thai\n",
       "2                        Cafe, Mexican, Italian\n",
       "3                    South Indian, North Indian\n",
       "4                      North Indian, Rajasthani\n",
       "                          ...                  \n",
       "51712                               Continental\n",
       "51713                               Finger Food\n",
       "51714                               Finger Food\n",
       "51715                               Finger Food\n",
       "51716    Finger Food, North Indian, Continental\n",
       "Name: cuisines, Length: 51717, dtype: object"
      ]
     },
     "execution_count": 74,
     "metadata": {},
     "output_type": "execute_result"
    }
   ],
   "source": [
    "dataframe['cuisines']"
   ]
  },
  {
   "cell_type": "code",
   "execution_count": 75,
   "id": "3c459fc1",
   "metadata": {},
   "outputs": [
    {
     "data": {
      "text/plain": [
       "'North Indian, Mughlai, Chinese'"
      ]
     },
     "execution_count": 75,
     "metadata": {},
     "output_type": "execute_result"
    }
   ],
   "source": [
    "dataframe['cuisines'][0]"
   ]
  },
  {
   "cell_type": "code",
   "execution_count": 76,
   "id": "94f9676b",
   "metadata": {},
   "outputs": [
    {
     "data": {
      "text/plain": [
       "str"
      ]
     },
     "execution_count": 76,
     "metadata": {},
     "output_type": "execute_result"
    }
   ],
   "source": [
    "type(dataframe['cuisines'][0])"
   ]
  },
  {
   "cell_type": "code",
   "execution_count": 77,
   "id": "c0c93337",
   "metadata": {},
   "outputs": [
    {
     "data": {
      "text/plain": [
       "['North Indian', ' Mughlai', ' Chinese']"
      ]
     },
     "execution_count": 77,
     "metadata": {},
     "output_type": "execute_result"
    }
   ],
   "source": [
    "dataframe['cuisines'][0].split(',')"
   ]
  },
  {
   "cell_type": "code",
   "execution_count": 78,
   "id": "ae470ebd",
   "metadata": {},
   "outputs": [
    {
     "data": {
      "text/plain": [
       "3"
      ]
     },
     "execution_count": 78,
     "metadata": {},
     "output_type": "execute_result"
    }
   ],
   "source": [
    "len(dataframe['cuisines'][0].split(',')) ## ie we have total 3 cuisines at 0th index.."
   ]
  },
  {
   "cell_type": "code",
   "execution_count": null,
   "id": "121ece22",
   "metadata": {},
   "outputs": [],
   "source": []
  },
  {
   "cell_type": "code",
   "execution_count": 79,
   "id": "2173baf0",
   "metadata": {},
   "outputs": [],
   "source": [
    "def count(row):\n",
    "    return len(row.split(','))"
   ]
  },
  {
   "cell_type": "code",
   "execution_count": 80,
   "id": "781c7020",
   "metadata": {},
   "outputs": [],
   "source": [
    "dataframe['total_cuisines'] = dataframe['cuisines'].astype(str).apply(count)\n",
    "dataframe['multiple_types'] = dataframe['rest_type'].astype(str).apply(count)"
   ]
  },
  {
   "cell_type": "code",
   "execution_count": 81,
   "id": "9302b668",
   "metadata": {},
   "outputs": [
    {
     "data": {
      "text/html": [
       "<div>\n",
       "<style scoped>\n",
       "    .dataframe tbody tr th:only-of-type {\n",
       "        vertical-align: middle;\n",
       "    }\n",
       "\n",
       "    .dataframe tbody tr th {\n",
       "        vertical-align: top;\n",
       "    }\n",
       "\n",
       "    .dataframe thead th {\n",
       "        text-align: right;\n",
       "    }\n",
       "</style>\n",
       "<table border=\"1\" class=\"dataframe\">\n",
       "  <thead>\n",
       "    <tr style=\"text-align: right;\">\n",
       "      <th></th>\n",
       "      <th>index</th>\n",
       "      <th>url</th>\n",
       "      <th>address</th>\n",
       "      <th>name</th>\n",
       "      <th>online_order</th>\n",
       "      <th>book_table</th>\n",
       "      <th>rate</th>\n",
       "      <th>votes</th>\n",
       "      <th>phone</th>\n",
       "      <th>location</th>\n",
       "      <th>rest_type</th>\n",
       "      <th>cuisines</th>\n",
       "      <th>approx_cost(for two people)</th>\n",
       "      <th>reviews_list</th>\n",
       "      <th>menu_item</th>\n",
       "      <th>listed_in(type)</th>\n",
       "      <th>listed_in(city)</th>\n",
       "      <th>total_cuisines</th>\n",
       "      <th>multiple_types</th>\n",
       "    </tr>\n",
       "  </thead>\n",
       "  <tbody>\n",
       "    <tr>\n",
       "      <th>0</th>\n",
       "      <td>0</td>\n",
       "      <td>https://www.zomato.com/bangalore/jalsa-banasha...</td>\n",
       "      <td>942, 21st Main Road, 2nd Stage, Banashankari, ...</td>\n",
       "      <td>Jalsa</td>\n",
       "      <td>Yes</td>\n",
       "      <td>Yes</td>\n",
       "      <td>4.1</td>\n",
       "      <td>775</td>\n",
       "      <td>080 42297555\\r\\n+91 9743772233</td>\n",
       "      <td>Banashankari</td>\n",
       "      <td>Casual Dining</td>\n",
       "      <td>North Indian, Mughlai, Chinese</td>\n",
       "      <td>800.0</td>\n",
       "      <td>[('Rated 4.0', 'RATED\\n  A beautiful place to ...</td>\n",
       "      <td>[]</td>\n",
       "      <td>Buffet</td>\n",
       "      <td>Banashankari</td>\n",
       "      <td>3</td>\n",
       "      <td>1</td>\n",
       "    </tr>\n",
       "    <tr>\n",
       "      <th>1</th>\n",
       "      <td>1</td>\n",
       "      <td>https://www.zomato.com/bangalore/spice-elephan...</td>\n",
       "      <td>2nd Floor, 80 Feet Road, Near Big Bazaar, 6th ...</td>\n",
       "      <td>Spice Elephant</td>\n",
       "      <td>Yes</td>\n",
       "      <td>No</td>\n",
       "      <td>4.1</td>\n",
       "      <td>787</td>\n",
       "      <td>080 41714161</td>\n",
       "      <td>Banashankari</td>\n",
       "      <td>Casual Dining</td>\n",
       "      <td>Chinese, North Indian, Thai</td>\n",
       "      <td>800.0</td>\n",
       "      <td>[('Rated 4.0', 'RATED\\n  Had been here for din...</td>\n",
       "      <td>[]</td>\n",
       "      <td>Buffet</td>\n",
       "      <td>Banashankari</td>\n",
       "      <td>3</td>\n",
       "      <td>1</td>\n",
       "    </tr>\n",
       "  </tbody>\n",
       "</table>\n",
       "</div>"
      ],
      "text/plain": [
       "   index                                                url  \\\n",
       "0      0  https://www.zomato.com/bangalore/jalsa-banasha...   \n",
       "1      1  https://www.zomato.com/bangalore/spice-elephan...   \n",
       "\n",
       "                                             address            name  \\\n",
       "0  942, 21st Main Road, 2nd Stage, Banashankari, ...           Jalsa   \n",
       "1  2nd Floor, 80 Feet Road, Near Big Bazaar, 6th ...  Spice Elephant   \n",
       "\n",
       "  online_order book_table  rate  votes                           phone  \\\n",
       "0          Yes        Yes   4.1    775  080 42297555\\r\\n+91 9743772233   \n",
       "1          Yes         No   4.1    787                    080 41714161   \n",
       "\n",
       "       location      rest_type                        cuisines  \\\n",
       "0  Banashankari  Casual Dining  North Indian, Mughlai, Chinese   \n",
       "1  Banashankari  Casual Dining     Chinese, North Indian, Thai   \n",
       "\n",
       "   approx_cost(for two people)  \\\n",
       "0                        800.0   \n",
       "1                        800.0   \n",
       "\n",
       "                                        reviews_list menu_item  \\\n",
       "0  [('Rated 4.0', 'RATED\\n  A beautiful place to ...        []   \n",
       "1  [('Rated 4.0', 'RATED\\n  Had been here for din...        []   \n",
       "\n",
       "  listed_in(type) listed_in(city)  total_cuisines  multiple_types  \n",
       "0          Buffet    Banashankari               3               1  \n",
       "1          Buffet    Banashankari               3               1  "
      ]
     },
     "execution_count": 81,
     "metadata": {},
     "output_type": "execute_result"
    }
   ],
   "source": [
    "dataframe.head(2)"
   ]
  },
  {
   "cell_type": "code",
   "execution_count": 82,
   "id": "f94b8cf4",
   "metadata": {},
   "outputs": [],
   "source": [
    "# Defining a custom threshold for splitting restaurants into good and bad\n",
    "\n",
    "threshold = 3.80\n",
    "dataframe['target'] = dataframe['rate'].apply(lambda x : 1 if x >= threshold else 0 )"
   ]
  },
  {
   "cell_type": "code",
   "execution_count": 83,
   "id": "2f75d56b",
   "metadata": {},
   "outputs": [
    {
     "data": {
      "text/html": [
       "<div>\n",
       "<style scoped>\n",
       "    .dataframe tbody tr th:only-of-type {\n",
       "        vertical-align: middle;\n",
       "    }\n",
       "\n",
       "    .dataframe tbody tr th {\n",
       "        vertical-align: top;\n",
       "    }\n",
       "\n",
       "    .dataframe thead th {\n",
       "        text-align: right;\n",
       "    }\n",
       "</style>\n",
       "<table border=\"1\" class=\"dataframe\">\n",
       "  <thead>\n",
       "    <tr style=\"text-align: right;\">\n",
       "      <th></th>\n",
       "      <th>index</th>\n",
       "      <th>url</th>\n",
       "      <th>address</th>\n",
       "      <th>name</th>\n",
       "      <th>online_order</th>\n",
       "      <th>book_table</th>\n",
       "      <th>rate</th>\n",
       "      <th>votes</th>\n",
       "      <th>phone</th>\n",
       "      <th>location</th>\n",
       "      <th>rest_type</th>\n",
       "      <th>cuisines</th>\n",
       "      <th>approx_cost(for two people)</th>\n",
       "      <th>reviews_list</th>\n",
       "      <th>menu_item</th>\n",
       "      <th>listed_in(type)</th>\n",
       "      <th>listed_in(city)</th>\n",
       "      <th>total_cuisines</th>\n",
       "      <th>multiple_types</th>\n",
       "      <th>target</th>\n",
       "    </tr>\n",
       "  </thead>\n",
       "  <tbody>\n",
       "    <tr>\n",
       "      <th>0</th>\n",
       "      <td>0</td>\n",
       "      <td>https://www.zomato.com/bangalore/jalsa-banasha...</td>\n",
       "      <td>942, 21st Main Road, 2nd Stage, Banashankari, ...</td>\n",
       "      <td>Jalsa</td>\n",
       "      <td>Yes</td>\n",
       "      <td>Yes</td>\n",
       "      <td>4.1</td>\n",
       "      <td>775</td>\n",
       "      <td>080 42297555\\r\\n+91 9743772233</td>\n",
       "      <td>Banashankari</td>\n",
       "      <td>Casual Dining</td>\n",
       "      <td>North Indian, Mughlai, Chinese</td>\n",
       "      <td>800.0</td>\n",
       "      <td>[('Rated 4.0', 'RATED\\n  A beautiful place to ...</td>\n",
       "      <td>[]</td>\n",
       "      <td>Buffet</td>\n",
       "      <td>Banashankari</td>\n",
       "      <td>3</td>\n",
       "      <td>1</td>\n",
       "      <td>1</td>\n",
       "    </tr>\n",
       "    <tr>\n",
       "      <th>1</th>\n",
       "      <td>1</td>\n",
       "      <td>https://www.zomato.com/bangalore/spice-elephan...</td>\n",
       "      <td>2nd Floor, 80 Feet Road, Near Big Bazaar, 6th ...</td>\n",
       "      <td>Spice Elephant</td>\n",
       "      <td>Yes</td>\n",
       "      <td>No</td>\n",
       "      <td>4.1</td>\n",
       "      <td>787</td>\n",
       "      <td>080 41714161</td>\n",
       "      <td>Banashankari</td>\n",
       "      <td>Casual Dining</td>\n",
       "      <td>Chinese, North Indian, Thai</td>\n",
       "      <td>800.0</td>\n",
       "      <td>[('Rated 4.0', 'RATED\\n  Had been here for din...</td>\n",
       "      <td>[]</td>\n",
       "      <td>Buffet</td>\n",
       "      <td>Banashankari</td>\n",
       "      <td>3</td>\n",
       "      <td>1</td>\n",
       "      <td>1</td>\n",
       "    </tr>\n",
       "    <tr>\n",
       "      <th>2</th>\n",
       "      <td>2</td>\n",
       "      <td>https://www.zomato.com/SanchurroBangalore?cont...</td>\n",
       "      <td>1112, Next to KIMS Medical College, 17th Cross...</td>\n",
       "      <td>San Churro Cafe</td>\n",
       "      <td>Yes</td>\n",
       "      <td>No</td>\n",
       "      <td>3.8</td>\n",
       "      <td>918</td>\n",
       "      <td>+91 9663487993</td>\n",
       "      <td>Banashankari</td>\n",
       "      <td>Cafe, Casual Dining</td>\n",
       "      <td>Cafe, Mexican, Italian</td>\n",
       "      <td>800.0</td>\n",
       "      <td>[('Rated 3.0', \"RATED\\n  Ambience is not that ...</td>\n",
       "      <td>[]</td>\n",
       "      <td>Buffet</td>\n",
       "      <td>Banashankari</td>\n",
       "      <td>3</td>\n",
       "      <td>2</td>\n",
       "      <td>1</td>\n",
       "    </tr>\n",
       "    <tr>\n",
       "      <th>3</th>\n",
       "      <td>3</td>\n",
       "      <td>https://www.zomato.com/bangalore/addhuri-udupi...</td>\n",
       "      <td>1st Floor, Annakuteera, 3rd Stage, Banashankar...</td>\n",
       "      <td>Addhuri Udupi Bhojana</td>\n",
       "      <td>No</td>\n",
       "      <td>No</td>\n",
       "      <td>3.7</td>\n",
       "      <td>88</td>\n",
       "      <td>+91 9620009302</td>\n",
       "      <td>Banashankari</td>\n",
       "      <td>Quick Bites</td>\n",
       "      <td>South Indian, North Indian</td>\n",
       "      <td>300.0</td>\n",
       "      <td>[('Rated 4.0', \"RATED\\n  Great food and proper...</td>\n",
       "      <td>[]</td>\n",
       "      <td>Buffet</td>\n",
       "      <td>Banashankari</td>\n",
       "      <td>2</td>\n",
       "      <td>1</td>\n",
       "      <td>0</td>\n",
       "    </tr>\n",
       "  </tbody>\n",
       "</table>\n",
       "</div>"
      ],
      "text/plain": [
       "   index                                                url  \\\n",
       "0      0  https://www.zomato.com/bangalore/jalsa-banasha...   \n",
       "1      1  https://www.zomato.com/bangalore/spice-elephan...   \n",
       "2      2  https://www.zomato.com/SanchurroBangalore?cont...   \n",
       "3      3  https://www.zomato.com/bangalore/addhuri-udupi...   \n",
       "\n",
       "                                             address                   name  \\\n",
       "0  942, 21st Main Road, 2nd Stage, Banashankari, ...                  Jalsa   \n",
       "1  2nd Floor, 80 Feet Road, Near Big Bazaar, 6th ...         Spice Elephant   \n",
       "2  1112, Next to KIMS Medical College, 17th Cross...        San Churro Cafe   \n",
       "3  1st Floor, Annakuteera, 3rd Stage, Banashankar...  Addhuri Udupi Bhojana   \n",
       "\n",
       "  online_order book_table  rate  votes                           phone  \\\n",
       "0          Yes        Yes   4.1    775  080 42297555\\r\\n+91 9743772233   \n",
       "1          Yes         No   4.1    787                    080 41714161   \n",
       "2          Yes         No   3.8    918                  +91 9663487993   \n",
       "3           No         No   3.7     88                  +91 9620009302   \n",
       "\n",
       "       location            rest_type                        cuisines  \\\n",
       "0  Banashankari        Casual Dining  North Indian, Mughlai, Chinese   \n",
       "1  Banashankari        Casual Dining     Chinese, North Indian, Thai   \n",
       "2  Banashankari  Cafe, Casual Dining          Cafe, Mexican, Italian   \n",
       "3  Banashankari          Quick Bites      South Indian, North Indian   \n",
       "\n",
       "   approx_cost(for two people)  \\\n",
       "0                        800.0   \n",
       "1                        800.0   \n",
       "2                        800.0   \n",
       "3                        300.0   \n",
       "\n",
       "                                        reviews_list menu_item  \\\n",
       "0  [('Rated 4.0', 'RATED\\n  A beautiful place to ...        []   \n",
       "1  [('Rated 4.0', 'RATED\\n  Had been here for din...        []   \n",
       "2  [('Rated 3.0', \"RATED\\n  Ambience is not that ...        []   \n",
       "3  [('Rated 4.0', \"RATED\\n  Great food and proper...        []   \n",
       "\n",
       "  listed_in(type) listed_in(city)  total_cuisines  multiple_types  target  \n",
       "0          Buffet    Banashankari               3               1       1  \n",
       "1          Buffet    Banashankari               3               1       1  \n",
       "2          Buffet    Banashankari               3               2       1  \n",
       "3          Buffet    Banashankari               2               1       0  "
      ]
     },
     "execution_count": 83,
     "metadata": {},
     "output_type": "execute_result"
    }
   ],
   "source": [
    "dataframe.head(4)"
   ]
  },
  {
   "cell_type": "code",
   "execution_count": null,
   "id": "cd88d403",
   "metadata": {},
   "outputs": [],
   "source": []
  },
  {
   "cell_type": "code",
   "execution_count": null,
   "id": "3b3cc2dd",
   "metadata": {},
   "outputs": [],
   "source": []
  },
  {
   "cell_type": "code",
   "execution_count": null,
   "id": "56edc971",
   "metadata": {},
   "outputs": [],
   "source": []
  },
  {
   "cell_type": "markdown",
   "id": "f1f0be62",
   "metadata": {},
   "source": [
    "## 7.. Feature importance !"
   ]
  },
  {
   "cell_type": "code",
   "execution_count": 84,
   "id": "e533dabe",
   "metadata": {},
   "outputs": [
    {
     "data": {
      "text/plain": [
       "0        False\n",
       "1        False\n",
       "2        False\n",
       "3         True\n",
       "4        False\n",
       "         ...  \n",
       "51712     True\n",
       "51713     True\n",
       "51714     True\n",
       "51715    False\n",
       "51716     True\n",
       "Name: target, Length: 51717, dtype: bool"
      ]
     },
     "execution_count": 84,
     "metadata": {},
     "output_type": "execute_result"
    }
   ],
   "source": [
    "dataframe['target']==0"
   ]
  },
  {
   "cell_type": "code",
   "execution_count": 85,
   "id": "a858dbba",
   "metadata": {},
   "outputs": [
    {
     "data": {
      "text/plain": [
       "Index(['index', 'url', 'address', 'name', 'online_order', 'book_table', 'rate',\n",
       "       'votes', 'phone', 'location', 'rest_type', 'cuisines',\n",
       "       'approx_cost(for two people)', 'reviews_list', 'menu_item',\n",
       "       'listed_in(type)', 'listed_in(city)', 'total_cuisines',\n",
       "       'multiple_types', 'target'],\n",
       "      dtype='object')"
      ]
     },
     "execution_count": 85,
     "metadata": {},
     "output_type": "execute_result"
    }
   ],
   "source": [
    "dataframe.columns"
   ]
  },
  {
   "cell_type": "code",
   "execution_count": 86,
   "id": "87531d28",
   "metadata": {},
   "outputs": [
    {
     "data": {
      "text/plain": [
       "<matplotlib.legend.Legend at 0x1d335f9ed90>"
      ]
     },
     "execution_count": 86,
     "metadata": {},
     "output_type": "execute_result"
    },
    {
     "data": {
      "image/png": "[encoded data removed]",
      "text/plain": [
       "<Figure size 640x480 with 1 Axes>"
      ]
     },
     "metadata": {},
     "output_type": "display_data"
    }
   ],
   "source": [
    "sns.distplot(dataframe[dataframe['target']==0]['total_cuisines'] , hist=False , label='0')\n",
    "sns.distplot(dataframe[dataframe['target']==1]['total_cuisines'] , hist=False , label='1')\n",
    "plt.legend()"
   ]
  },
  {
   "cell_type": "code",
   "execution_count": null,
   "id": "3c011c89",
   "metadata": {},
   "outputs": [],
   "source": [
    "### As we have complete overlappping region in distribution plot \n",
    "### when class is 0 , we have higher count of 'total_cuisines' than class 1 \n",
    "\n",
    "## it means 'total_cuisines' is not an interesting feature in predicting whether rest will be success or not \n",
    "## as we have very less overlapping region"
   ]
  },
  {
   "cell_type": "code",
   "execution_count": null,
   "id": "6e6fedd2",
   "metadata": {},
   "outputs": [],
   "source": []
  },
  {
   "cell_type": "code",
   "execution_count": 87,
   "id": "b4d19ea2",
   "metadata": {},
   "outputs": [
    {
     "data": {
      "text/plain": [
       "Index(['index', 'url', 'address', 'name', 'online_order', 'book_table', 'rate',\n",
       "       'votes', 'phone', 'location', 'rest_type', 'cuisines',\n",
       "       'approx_cost(for two people)', 'reviews_list', 'menu_item',\n",
       "       'listed_in(type)', 'listed_in(city)', 'total_cuisines',\n",
       "       'multiple_types', 'target'],\n",
       "      dtype='object')"
      ]
     },
     "execution_count": 87,
     "metadata": {},
     "output_type": "execute_result"
    }
   ],
   "source": [
    "dataframe.columns"
   ]
  },
  {
   "cell_type": "code",
   "execution_count": 88,
   "id": "049538f5",
   "metadata": {},
   "outputs": [
    {
     "data": {
      "text/plain": [
       "<matplotlib.legend.Legend at 0x1d335ef3880>"
      ]
     },
     "execution_count": 88,
     "metadata": {},
     "output_type": "execute_result"
    },
    {
     "data": {
      "image/png": "[encoded data removed]",
      "text/plain": [
       "<Figure size 640x480 with 1 Axes>"
      ]
     },
     "metadata": {},
     "output_type": "display_data"
    }
   ],
   "source": [
    "sns.distplot(dataframe[dataframe['target']==0]['multiple_types'] , hist=False , label='0')\n",
    "sns.distplot(dataframe[dataframe['target']==1]['multiple_types'] , hist=False , label='1')\n",
    "plt.legend()"
   ]
  },
  {
   "cell_type": "code",
   "execution_count": null,
   "id": "3f0719ef",
   "metadata": {},
   "outputs": [],
   "source": [
    "'''\n",
    "\n",
    "Similarly 'multiple_types' is not an interesting feature in predicting whether rest will be success or not \n",
    "as we have very less overlapping region\n",
    "\n",
    "\n",
    "'''"
   ]
  },
  {
   "cell_type": "code",
   "execution_count": null,
   "id": "0316e4ae",
   "metadata": {},
   "outputs": [],
   "source": []
  },
  {
   "cell_type": "code",
   "execution_count": 89,
   "id": "9b58010c",
   "metadata": {},
   "outputs": [
    {
     "data": {
      "text/plain": [
       "<matplotlib.legend.Legend at 0x1d35ad78040>"
      ]
     },
     "execution_count": 89,
     "metadata": {},
     "output_type": "execute_result"
    },
    {
     "data": {
      "image/png": "[encoded data removed]",
      "text/plain": [
       "<Figure size 640x480 with 1 Axes>"
      ]
     },
     "metadata": {},
     "output_type": "display_data"
    }
   ],
   "source": [
    "sns.distplot(dataframe[dataframe['target']==0]['approx_cost(for two people)'] , hist=False , label='0')\n",
    "sns.distplot(dataframe[dataframe['target']==1]['approx_cost(for two people)'] , hist=False , label='1')\n",
    "plt.legend()"
   ]
  },
  {
   "cell_type": "code",
   "execution_count": null,
   "id": "51f6f91b",
   "metadata": {},
   "outputs": [],
   "source": [
    "### ie upto some extent , \"approx_cost(for two people)\" feature is useful .."
   ]
  },
  {
   "cell_type": "code",
   "execution_count": null,
   "id": "c9eab660",
   "metadata": {},
   "outputs": [],
   "source": []
  },
  {
   "cell_type": "code",
   "execution_count": 90,
   "id": "77c8def1",
   "metadata": {},
   "outputs": [
    {
     "data": {
      "text/plain": [
       "<matplotlib.legend.Legend at 0x1d352e0d5e0>"
      ]
     },
     "execution_count": 90,
     "metadata": {},
     "output_type": "execute_result"
    },
    {
     "data": {
      "image/png": "[encoded data removed]",
      "text/plain": [
       "<Figure size 640x480 with 1 Axes>"
      ]
     },
     "metadata": {},
     "output_type": "display_data"
    }
   ],
   "source": [
    "sns.distplot(dataframe[dataframe['target']==0]['votes'] , hist=False , label='0')\n",
    "sns.distplot(dataframe[dataframe['target']==1]['votes'] , hist=False , label='1')\n",
    "plt.legend()"
   ]
  },
  {
   "cell_type": "code",
   "execution_count": null,
   "id": "33577f8c",
   "metadata": {},
   "outputs": [],
   "source": [
    "### ie upto some extent , 'votes' feature is useful .."
   ]
  },
  {
   "cell_type": "code",
   "execution_count": null,
   "id": "cdf2b011",
   "metadata": {},
   "outputs": [],
   "source": []
  },
  {
   "cell_type": "code",
   "execution_count": null,
   "id": "4da89a0e",
   "metadata": {},
   "outputs": [],
   "source": []
  },
  {
   "cell_type": "code",
   "execution_count": null,
   "id": "af6ecb64",
   "metadata": {},
   "outputs": [],
   "source": []
  },
  {
   "cell_type": "markdown",
   "id": "38332673",
   "metadata": {},
   "source": [
    "## 8.. How to select best Feature Encoding Technique !"
   ]
  },
  {
   "cell_type": "code",
   "execution_count": 91,
   "id": "ee3604ff",
   "metadata": {},
   "outputs": [
    {
     "data": {
      "text/html": [
       "<div>\n",
       "<style scoped>\n",
       "    .dataframe tbody tr th:only-of-type {\n",
       "        vertical-align: middle;\n",
       "    }\n",
       "\n",
       "    .dataframe tbody tr th {\n",
       "        vertical-align: top;\n",
       "    }\n",
       "\n",
       "    .dataframe thead th {\n",
       "        text-align: right;\n",
       "    }\n",
       "</style>\n",
       "<table border=\"1\" class=\"dataframe\">\n",
       "  <thead>\n",
       "    <tr style=\"text-align: right;\">\n",
       "      <th></th>\n",
       "      <th>index</th>\n",
       "      <th>url</th>\n",
       "      <th>address</th>\n",
       "      <th>name</th>\n",
       "      <th>online_order</th>\n",
       "      <th>book_table</th>\n",
       "      <th>rate</th>\n",
       "      <th>votes</th>\n",
       "      <th>phone</th>\n",
       "      <th>location</th>\n",
       "      <th>rest_type</th>\n",
       "      <th>cuisines</th>\n",
       "      <th>approx_cost(for two people)</th>\n",
       "      <th>reviews_list</th>\n",
       "      <th>menu_item</th>\n",
       "      <th>listed_in(type)</th>\n",
       "      <th>listed_in(city)</th>\n",
       "      <th>total_cuisines</th>\n",
       "      <th>multiple_types</th>\n",
       "      <th>target</th>\n",
       "    </tr>\n",
       "  </thead>\n",
       "  <tbody>\n",
       "    <tr>\n",
       "      <th>0</th>\n",
       "      <td>0</td>\n",
       "      <td>https://www.zomato.com/bangalore/jalsa-banasha...</td>\n",
       "      <td>942, 21st Main Road, 2nd Stage, Banashankari, ...</td>\n",
       "      <td>Jalsa</td>\n",
       "      <td>Yes</td>\n",
       "      <td>Yes</td>\n",
       "      <td>4.1</td>\n",
       "      <td>775</td>\n",
       "      <td>080 42297555\\r\\n+91 9743772233</td>\n",
       "      <td>Banashankari</td>\n",
       "      <td>Casual Dining</td>\n",
       "      <td>North Indian, Mughlai, Chinese</td>\n",
       "      <td>800.0</td>\n",
       "      <td>[('Rated 4.0', 'RATED\\n  A beautiful place to ...</td>\n",
       "      <td>[]</td>\n",
       "      <td>Buffet</td>\n",
       "      <td>Banashankari</td>\n",
       "      <td>3</td>\n",
       "      <td>1</td>\n",
       "      <td>1</td>\n",
       "    </tr>\n",
       "    <tr>\n",
       "      <th>1</th>\n",
       "      <td>1</td>\n",
       "      <td>https://www.zomato.com/bangalore/spice-elephan...</td>\n",
       "      <td>2nd Floor, 80 Feet Road, Near Big Bazaar, 6th ...</td>\n",
       "      <td>Spice Elephant</td>\n",
       "      <td>Yes</td>\n",
       "      <td>No</td>\n",
       "      <td>4.1</td>\n",
       "      <td>787</td>\n",
       "      <td>080 41714161</td>\n",
       "      <td>Banashankari</td>\n",
       "      <td>Casual Dining</td>\n",
       "      <td>Chinese, North Indian, Thai</td>\n",
       "      <td>800.0</td>\n",
       "      <td>[('Rated 4.0', 'RATED\\n  Had been here for din...</td>\n",
       "      <td>[]</td>\n",
       "      <td>Buffet</td>\n",
       "      <td>Banashankari</td>\n",
       "      <td>3</td>\n",
       "      <td>1</td>\n",
       "      <td>1</td>\n",
       "    </tr>\n",
       "    <tr>\n",
       "      <th>2</th>\n",
       "      <td>2</td>\n",
       "      <td>https://www.zomato.com/SanchurroBangalore?cont...</td>\n",
       "      <td>1112, Next to KIMS Medical College, 17th Cross...</td>\n",
       "      <td>San Churro Cafe</td>\n",
       "      <td>Yes</td>\n",
       "      <td>No</td>\n",
       "      <td>3.8</td>\n",
       "      <td>918</td>\n",
       "      <td>+91 9663487993</td>\n",
       "      <td>Banashankari</td>\n",
       "      <td>Cafe, Casual Dining</td>\n",
       "      <td>Cafe, Mexican, Italian</td>\n",
       "      <td>800.0</td>\n",
       "      <td>[('Rated 3.0', \"RATED\\n  Ambience is not that ...</td>\n",
       "      <td>[]</td>\n",
       "      <td>Buffet</td>\n",
       "      <td>Banashankari</td>\n",
       "      <td>3</td>\n",
       "      <td>2</td>\n",
       "      <td>1</td>\n",
       "    </tr>\n",
       "  </tbody>\n",
       "</table>\n",
       "</div>"
      ],
      "text/plain": [
       "   index                                                url  \\\n",
       "0      0  https://www.zomato.com/bangalore/jalsa-banasha...   \n",
       "1      1  https://www.zomato.com/bangalore/spice-elephan...   \n",
       "2      2  https://www.zomato.com/SanchurroBangalore?cont...   \n",
       "\n",
       "                                             address             name  \\\n",
       "0  942, 21st Main Road, 2nd Stage, Banashankari, ...            Jalsa   \n",
       "1  2nd Floor, 80 Feet Road, Near Big Bazaar, 6th ...   Spice Elephant   \n",
       "2  1112, Next to KIMS Medical College, 17th Cross...  San Churro Cafe   \n",
       "\n",
       "  online_order book_table  rate  votes                           phone  \\\n",
       "0          Yes        Yes   4.1    775  080 42297555\\r\\n+91 9743772233   \n",
       "1          Yes         No   4.1    787                    080 41714161   \n",
       "2          Yes         No   3.8    918                  +91 9663487993   \n",
       "\n",
       "       location            rest_type                        cuisines  \\\n",
       "0  Banashankari        Casual Dining  North Indian, Mughlai, Chinese   \n",
       "1  Banashankari        Casual Dining     Chinese, North Indian, Thai   \n",
       "2  Banashankari  Cafe, Casual Dining          Cafe, Mexican, Italian   \n",
       "\n",
       "   approx_cost(for two people)  \\\n",
       "0                        800.0   \n",
       "1                        800.0   \n",
       "2                        800.0   \n",
       "\n",
       "                                        reviews_list menu_item  \\\n",
       "0  [('Rated 4.0', 'RATED\\n  A beautiful place to ...        []   \n",
       "1  [('Rated 4.0', 'RATED\\n  Had been here for din...        []   \n",
       "2  [('Rated 3.0', \"RATED\\n  Ambience is not that ...        []   \n",
       "\n",
       "  listed_in(type) listed_in(city)  total_cuisines  multiple_types  target  \n",
       "0          Buffet    Banashankari               3               1       1  \n",
       "1          Buffet    Banashankari               3               1       1  \n",
       "2          Buffet    Banashankari               3               2       1  "
      ]
     },
     "execution_count": 91,
     "metadata": {},
     "output_type": "execute_result"
    }
   ],
   "source": [
    "dataframe.head(3)"
   ]
  },
  {
   "cell_type": "code",
   "execution_count": null,
   "id": "c4cdc0ff",
   "metadata": {},
   "outputs": [],
   "source": []
  },
  {
   "cell_type": "code",
   "execution_count": 92,
   "id": "9ffd4c9f",
   "metadata": {},
   "outputs": [
    {
     "data": {
      "text/plain": [
       "0        Yes\n",
       "1        Yes\n",
       "2        Yes\n",
       "3         No\n",
       "4         No\n",
       "        ... \n",
       "51712     No\n",
       "51713     No\n",
       "51714     No\n",
       "51715     No\n",
       "51716     No\n",
       "Name: online_order, Length: 51717, dtype: object"
      ]
     },
     "execution_count": 92,
     "metadata": {},
     "output_type": "execute_result"
    }
   ],
   "source": [
    "dataframe['online_order']"
   ]
  },
  {
   "cell_type": "code",
   "execution_count": null,
   "id": "a59dac8a",
   "metadata": {},
   "outputs": [],
   "source": []
  },
  {
   "cell_type": "code",
   "execution_count": null,
   "id": "f223d086",
   "metadata": {},
   "outputs": [],
   "source": []
  },
  {
   "cell_type": "code",
   "execution_count": null,
   "id": "4c75ae22",
   "metadata": {},
   "outputs": [],
   "source": []
  },
  {
   "cell_type": "code",
   "execution_count": 93,
   "id": "07f6baaa",
   "metadata": {},
   "outputs": [
    {
     "data": {
      "text/plain": [
       "Index(['index', 'url', 'address', 'name', 'online_order', 'book_table', 'rate',\n",
       "       'votes', 'phone', 'location', 'rest_type', 'cuisines',\n",
       "       'approx_cost(for two people)', 'reviews_list', 'menu_item',\n",
       "       'listed_in(type)', 'listed_in(city)', 'total_cuisines',\n",
       "       'multiple_types', 'target'],\n",
       "      dtype='object')"
      ]
     },
     "execution_count": 93,
     "metadata": {},
     "output_type": "execute_result"
    }
   ],
   "source": [
    "dataframe.columns"
   ]
  },
  {
   "cell_type": "code",
   "execution_count": 94,
   "id": "a463e244",
   "metadata": {},
   "outputs": [],
   "source": [
    "dataframe = dataframe.dropna()"
   ]
  },
  {
   "cell_type": "code",
   "execution_count": 95,
   "id": "6b2726aa",
   "metadata": {},
   "outputs": [
    {
     "data": {
      "text/plain": [
       "Index(['index', 'url', 'address', 'name', 'online_order', 'book_table', 'rate',\n",
       "       'votes', 'phone', 'location', 'rest_type', 'cuisines',\n",
       "       'approx_cost(for two people)', 'reviews_list', 'menu_item',\n",
       "       'listed_in(type)', 'listed_in(city)', 'total_cuisines',\n",
       "       'multiple_types', 'target'],\n",
       "      dtype='object')"
      ]
     },
     "execution_count": 95,
     "metadata": {},
     "output_type": "execute_result"
    }
   ],
   "source": [
    "dataframe.columns"
   ]
  },
  {
   "cell_type": "code",
   "execution_count": null,
   "id": "ab958cda",
   "metadata": {},
   "outputs": [],
   "source": []
  },
  {
   "cell_type": "code",
   "execution_count": 96,
   "id": "9ad4f0b4",
   "metadata": {},
   "outputs": [],
   "source": [
    "imp_features = ['online_order', 'book_table',\n",
    "       'votes',  'location', 'rest_type', \n",
    "       'approx_cost(for two people)', \n",
    "       'listed_in(type)', 'listed_in(city)', 'target']"
   ]
  },
  {
   "cell_type": "code",
   "execution_count": 97,
   "id": "06acc57b",
   "metadata": {},
   "outputs": [],
   "source": [
    "data = dataframe[imp_features]"
   ]
  },
  {
   "cell_type": "code",
   "execution_count": 98,
   "id": "fcc8fa50",
   "metadata": {},
   "outputs": [
    {
     "data": {
      "text/plain": [
       "(42144, 9)"
      ]
     },
     "execution_count": 98,
     "metadata": {},
     "output_type": "execute_result"
    }
   ],
   "source": [
    "data.shape"
   ]
  },
  {
   "cell_type": "code",
   "execution_count": null,
   "id": "cfeaa95b",
   "metadata": {},
   "outputs": [],
   "source": []
  },
  {
   "cell_type": "code",
   "execution_count": null,
   "id": "a93f43d4",
   "metadata": {},
   "outputs": [],
   "source": [
    "# Splitting features by data type"
   ]
  },
  {
   "cell_type": "code",
   "execution_count": 99,
   "id": "9371244f",
   "metadata": {},
   "outputs": [],
   "source": [
    "cat_features = [col for col in data.columns if data[col].dtype=='O']"
   ]
  },
  {
   "cell_type": "code",
   "execution_count": 100,
   "id": "50c16d1f",
   "metadata": {},
   "outputs": [],
   "source": [
    "num_features = [col for col in data.columns if data[col].dtype!='O']"
   ]
  },
  {
   "cell_type": "code",
   "execution_count": null,
   "id": "87b8c7a2",
   "metadata": {},
   "outputs": [],
   "source": []
  },
  {
   "cell_type": "code",
   "execution_count": null,
   "id": "7071749a",
   "metadata": {},
   "outputs": [],
   "source": []
  },
  {
   "cell_type": "code",
   "execution_count": null,
   "id": "abe08211",
   "metadata": {},
   "outputs": [],
   "source": []
  },
  {
   "cell_type": "code",
   "execution_count": null,
   "id": "9469b8f7",
   "metadata": {},
   "outputs": [],
   "source": []
  },
  {
   "cell_type": "markdown",
   "id": "721d3805",
   "metadata": {},
   "source": [
    "## 9.. Performing One-hot encoding on data !"
   ]
  },
  {
   "cell_type": "code",
   "execution_count": 101,
   "id": "799219b2",
   "metadata": {},
   "outputs": [
    {
     "data": {
      "text/plain": [
       "2"
      ]
     },
     "execution_count": 101,
     "metadata": {},
     "output_type": "execute_result"
    }
   ],
   "source": [
    "data['online_order'].nunique()"
   ]
  },
  {
   "cell_type": "code",
   "execution_count": 102,
   "id": "991ed39b",
   "metadata": {},
   "outputs": [
    {
     "name": "stdout",
     "output_type": "stream",
     "text": [
      "online_order has total 2 unique features\n",
      "book_table has total 2 unique features\n",
      "location has total 92 unique features\n",
      "rest_type has total 87 unique features\n",
      "listed_in(type) has total 7 unique features\n",
      "listed_in(city) has total 30 unique features\n"
     ]
    }
   ],
   "source": [
    "for feature in cat_features:\n",
    "    print('{} has total {} unique features'.format(feature , data[feature].nunique()))"
   ]
  },
  {
   "cell_type": "code",
   "execution_count": null,
   "id": "f62875fa",
   "metadata": {},
   "outputs": [],
   "source": [
    "'''\n",
    "\n",
    "Regarding One-hot encoding which is the most used & basic one as well , \n",
    "So if we will observe over here,we have many categories in 'rest_type' ,'location' , 'listed_in(city)' , \n",
    "thus if we encode it using onne-hot encoding, it will consume more memory in our system & will create un-necessarily 209\n",
    "more features as 92 + 87 + 30 = 209 features\n",
    "\n",
    "'''"
   ]
  },
  {
   "cell_type": "code",
   "execution_count": null,
   "id": "599f506f",
   "metadata": {},
   "outputs": [],
   "source": []
  },
  {
   "cell_type": "code",
   "execution_count": 103,
   "id": "66cbfd6d",
   "metadata": {},
   "outputs": [
    {
     "data": {
      "text/plain": [
       "0              Casual Dining\n",
       "1              Casual Dining\n",
       "2        Cafe, Casual Dining\n",
       "3                Quick Bites\n",
       "4              Casual Dining\n",
       "                ...         \n",
       "51709     Casual Dining, Bar\n",
       "51711     Casual Dining, Bar\n",
       "51712                    Bar\n",
       "51715                    Bar\n",
       "51716     Bar, Casual Dining\n",
       "Name: rest_type, Length: 42144, dtype: object"
      ]
     },
     "execution_count": 103,
     "metadata": {},
     "output_type": "execute_result"
    }
   ],
   "source": [
    "data['rest_type']"
   ]
  },
  {
   "cell_type": "code",
   "execution_count": null,
   "id": "b8a96314",
   "metadata": {},
   "outputs": [],
   "source": []
  },
  {
   "cell_type": "code",
   "execution_count": 104,
   "id": "93549c9c",
   "metadata": {},
   "outputs": [],
   "source": [
    "freq_cat = data['rest_type'].value_counts()[0:5]/len(data)*100"
   ]
  },
  {
   "cell_type": "code",
   "execution_count": 105,
   "id": "a5654935",
   "metadata": {},
   "outputs": [
    {
     "data": {
      "text/plain": [
       "Quick Bites       33.857726\n",
       "Casual Dining     23.156321\n",
       "Cafe               7.984529\n",
       "Dessert Parlor     4.477506\n",
       "Delivery           4.057517\n",
       "Name: rest_type, dtype: float64"
      ]
     },
     "execution_count": 105,
     "metadata": {},
     "output_type": "execute_result"
    }
   ],
   "source": [
    "freq_cat"
   ]
  },
  {
   "cell_type": "code",
   "execution_count": 106,
   "id": "2e27f2f6",
   "metadata": {},
   "outputs": [
    {
     "data": {
      "text/plain": [
       "Index(['Quick Bites', 'Casual Dining', 'Cafe', 'Dessert Parlor', 'Delivery'], dtype='object')"
      ]
     },
     "execution_count": 106,
     "metadata": {},
     "output_type": "execute_result"
    }
   ],
   "source": [
    "freq_cat.index ## these are most frequent values in 'rest_type' feature.."
   ]
  },
  {
   "cell_type": "code",
   "execution_count": null,
   "id": "32126009",
   "metadata": {},
   "outputs": [],
   "source": []
  },
  {
   "cell_type": "code",
   "execution_count": 107,
   "id": "8834a8d4",
   "metadata": {},
   "outputs": [
    {
     "data": {
      "text/plain": [
       "0         True\n",
       "1         True\n",
       "2        False\n",
       "3         True\n",
       "4         True\n",
       "         ...  \n",
       "51709    False\n",
       "51711    False\n",
       "51712    False\n",
       "51715    False\n",
       "51716    False\n",
       "Name: rest_type, Length: 42144, dtype: bool"
      ]
     },
     "execution_count": 107,
     "metadata": {},
     "output_type": "execute_result"
    }
   ],
   "source": [
    "data['rest_type'].isin(freq_cat.index)"
   ]
  },
  {
   "cell_type": "code",
   "execution_count": 108,
   "id": "dbbc3124",
   "metadata": {},
   "outputs": [
    {
     "data": {
      "text/html": [
       "<div>\n",
       "<style scoped>\n",
       "    .dataframe tbody tr th:only-of-type {\n",
       "        vertical-align: middle;\n",
       "    }\n",
       "\n",
       "    .dataframe tbody tr th {\n",
       "        vertical-align: top;\n",
       "    }\n",
       "\n",
       "    .dataframe thead th {\n",
       "        text-align: right;\n",
       "    }\n",
       "</style>\n",
       "<table border=\"1\" class=\"dataframe\">\n",
       "  <thead>\n",
       "    <tr style=\"text-align: right;\">\n",
       "      <th></th>\n",
       "      <th>online_order</th>\n",
       "      <th>book_table</th>\n",
       "      <th>votes</th>\n",
       "      <th>location</th>\n",
       "      <th>rest_type</th>\n",
       "      <th>approx_cost(for two people)</th>\n",
       "      <th>listed_in(type)</th>\n",
       "      <th>listed_in(city)</th>\n",
       "      <th>target</th>\n",
       "    </tr>\n",
       "  </thead>\n",
       "  <tbody>\n",
       "    <tr>\n",
       "      <th>0</th>\n",
       "      <td>Yes</td>\n",
       "      <td>Yes</td>\n",
       "      <td>775</td>\n",
       "      <td>Banashankari</td>\n",
       "      <td>Casual Dining</td>\n",
       "      <td>800.0</td>\n",
       "      <td>Buffet</td>\n",
       "      <td>Banashankari</td>\n",
       "      <td>1</td>\n",
       "    </tr>\n",
       "    <tr>\n",
       "      <th>1</th>\n",
       "      <td>Yes</td>\n",
       "      <td>No</td>\n",
       "      <td>787</td>\n",
       "      <td>Banashankari</td>\n",
       "      <td>Casual Dining</td>\n",
       "      <td>800.0</td>\n",
       "      <td>Buffet</td>\n",
       "      <td>Banashankari</td>\n",
       "      <td>1</td>\n",
       "    </tr>\n",
       "    <tr>\n",
       "      <th>3</th>\n",
       "      <td>No</td>\n",
       "      <td>No</td>\n",
       "      <td>88</td>\n",
       "      <td>Banashankari</td>\n",
       "      <td>Quick Bites</td>\n",
       "      <td>300.0</td>\n",
       "      <td>Buffet</td>\n",
       "      <td>Banashankari</td>\n",
       "      <td>0</td>\n",
       "    </tr>\n",
       "    <tr>\n",
       "      <th>4</th>\n",
       "      <td>No</td>\n",
       "      <td>No</td>\n",
       "      <td>166</td>\n",
       "      <td>Basavanagudi</td>\n",
       "      <td>Casual Dining</td>\n",
       "      <td>600.0</td>\n",
       "      <td>Buffet</td>\n",
       "      <td>Banashankari</td>\n",
       "      <td>1</td>\n",
       "    </tr>\n",
       "    <tr>\n",
       "      <th>5</th>\n",
       "      <td>Yes</td>\n",
       "      <td>No</td>\n",
       "      <td>286</td>\n",
       "      <td>Basavanagudi</td>\n",
       "      <td>Casual Dining</td>\n",
       "      <td>600.0</td>\n",
       "      <td>Buffet</td>\n",
       "      <td>Banashankari</td>\n",
       "      <td>1</td>\n",
       "    </tr>\n",
       "    <tr>\n",
       "      <th>...</th>\n",
       "      <td>...</td>\n",
       "      <td>...</td>\n",
       "      <td>...</td>\n",
       "      <td>...</td>\n",
       "      <td>...</td>\n",
       "      <td>...</td>\n",
       "      <td>...</td>\n",
       "      <td>...</td>\n",
       "      <td>...</td>\n",
       "    </tr>\n",
       "    <tr>\n",
       "      <th>51632</th>\n",
       "      <td>No</td>\n",
       "      <td>No</td>\n",
       "      <td>4</td>\n",
       "      <td>KR Puram</td>\n",
       "      <td>Quick Bites</td>\n",
       "      <td>350.0</td>\n",
       "      <td>Dine-out</td>\n",
       "      <td>Whitefield</td>\n",
       "      <td>0</td>\n",
       "    </tr>\n",
       "    <tr>\n",
       "      <th>51634</th>\n",
       "      <td>No</td>\n",
       "      <td>No</td>\n",
       "      <td>34</td>\n",
       "      <td>Brookefield</td>\n",
       "      <td>Quick Bites</td>\n",
       "      <td>200.0</td>\n",
       "      <td>Dine-out</td>\n",
       "      <td>Whitefield</td>\n",
       "      <td>0</td>\n",
       "    </tr>\n",
       "    <tr>\n",
       "      <th>51635</th>\n",
       "      <td>No</td>\n",
       "      <td>No</td>\n",
       "      <td>7</td>\n",
       "      <td>KR Puram</td>\n",
       "      <td>Quick Bites</td>\n",
       "      <td>400.0</td>\n",
       "      <td>Dine-out</td>\n",
       "      <td>Whitefield</td>\n",
       "      <td>0</td>\n",
       "    </tr>\n",
       "    <tr>\n",
       "      <th>51640</th>\n",
       "      <td>No</td>\n",
       "      <td>No</td>\n",
       "      <td>31</td>\n",
       "      <td>KR Puram</td>\n",
       "      <td>Quick Bites</td>\n",
       "      <td>400.0</td>\n",
       "      <td>Dine-out</td>\n",
       "      <td>Whitefield</td>\n",
       "      <td>0</td>\n",
       "    </tr>\n",
       "    <tr>\n",
       "      <th>51645</th>\n",
       "      <td>Yes</td>\n",
       "      <td>No</td>\n",
       "      <td>49</td>\n",
       "      <td>Brookefield</td>\n",
       "      <td>Quick Bites</td>\n",
       "      <td>300.0</td>\n",
       "      <td>Dine-out</td>\n",
       "      <td>Whitefield</td>\n",
       "      <td>0</td>\n",
       "    </tr>\n",
       "  </tbody>\n",
       "</table>\n",
       "<p>30990 rows × 9 columns</p>\n",
       "</div>"
      ],
      "text/plain": [
       "      online_order book_table  votes      location      rest_type  \\\n",
       "0              Yes        Yes    775  Banashankari  Casual Dining   \n",
       "1              Yes         No    787  Banashankari  Casual Dining   \n",
       "3               No         No     88  Banashankari    Quick Bites   \n",
       "4               No         No    166  Basavanagudi  Casual Dining   \n",
       "5              Yes         No    286  Basavanagudi  Casual Dining   \n",
       "...            ...        ...    ...           ...            ...   \n",
       "51632           No         No      4      KR Puram    Quick Bites   \n",
       "51634           No         No     34   Brookefield    Quick Bites   \n",
       "51635           No         No      7      KR Puram    Quick Bites   \n",
       "51640           No         No     31      KR Puram    Quick Bites   \n",
       "51645          Yes         No     49   Brookefield    Quick Bites   \n",
       "\n",
       "       approx_cost(for two people) listed_in(type) listed_in(city)  target  \n",
       "0                            800.0          Buffet    Banashankari       1  \n",
       "1                            800.0          Buffet    Banashankari       1  \n",
       "3                            300.0          Buffet    Banashankari       0  \n",
       "4                            600.0          Buffet    Banashankari       1  \n",
       "5                            600.0          Buffet    Banashankari       1  \n",
       "...                            ...             ...             ...     ...  \n",
       "51632                        350.0        Dine-out      Whitefield       0  \n",
       "51634                        200.0        Dine-out      Whitefield       0  \n",
       "51635                        400.0        Dine-out      Whitefield       0  \n",
       "51640                        400.0        Dine-out      Whitefield       0  \n",
       "51645                        300.0        Dine-out      Whitefield       0  \n",
       "\n",
       "[30990 rows x 9 columns]"
      ]
     },
     "execution_count": 108,
     "metadata": {},
     "output_type": "execute_result"
    }
   ],
   "source": [
    "data[data['rest_type'].isin(freq_cat.index)]"
   ]
  },
  {
   "cell_type": "code",
   "execution_count": null,
   "id": "afc64f1c",
   "metadata": {},
   "outputs": [],
   "source": []
  },
  {
   "cell_type": "code",
   "execution_count": 109,
   "id": "ae28050d",
   "metadata": {},
   "outputs": [],
   "source": [
    "data['rest_type'] = data['rest_type'].apply(lambda x : 'other' if x not in freq_cat.index else x)\n",
    "\n",
    "## ie, if rest_type doesn't belong to index of freq_cat , we will assign 'other' category to rest_type otherwise remain as it is ! "
   ]
  },
  {
   "cell_type": "code",
   "execution_count": 110,
   "id": "3b78f1ef",
   "metadata": {},
   "outputs": [
    {
     "data": {
      "text/plain": [
       "0        Casual Dining\n",
       "1        Casual Dining\n",
       "2                other\n",
       "3          Quick Bites\n",
       "4        Casual Dining\n",
       "             ...      \n",
       "51709            other\n",
       "51711            other\n",
       "51712            other\n",
       "51715            other\n",
       "51716            other\n",
       "Name: rest_type, Length: 42144, dtype: object"
      ]
     },
     "execution_count": 110,
     "metadata": {},
     "output_type": "execute_result"
    }
   ],
   "source": [
    "data['rest_type']"
   ]
  },
  {
   "cell_type": "code",
   "execution_count": null,
   "id": "6dce1ad1",
   "metadata": {},
   "outputs": [],
   "source": []
  },
  {
   "cell_type": "code",
   "execution_count": null,
   "id": "e26abdb7",
   "metadata": {},
   "outputs": [],
   "source": []
  },
  {
   "cell_type": "code",
   "execution_count": null,
   "id": "0b0bfa2b",
   "metadata": {},
   "outputs": [],
   "source": []
  },
  {
   "cell_type": "code",
   "execution_count": 111,
   "id": "94bedef1",
   "metadata": {},
   "outputs": [
    {
     "data": {
      "text/plain": [
       "BTM                      6.304575\n",
       "Koramangala 7th Block    5.682897\n",
       "Koramangala 5th Block    5.464598\n",
       "Koramangala 4th Block    5.455106\n",
       "Koramangala 6th Block    5.108675\n",
       "Jayanagar                4.683941\n",
       "JP Nagar                 4.002942\n",
       "Indiranagar              3.734814\n",
       "Church Street            3.673121\n",
       "MG Road                  3.644647\n",
       "Brigade Road             3.571090\n",
       "Lavelle Road             3.485668\n",
       "HSR                      3.246014\n",
       "Residency Road           3.219913\n",
       "Marathahalli             3.113136\n",
       "Bannerghatta Road        2.987377\n",
       "Whitefield               2.920938\n",
       "Old Airport Road         2.821279\n",
       "Brookefield              2.783314\n",
       "Basavanagudi             2.565015\n",
       "Kammanahalli             2.484339\n",
       "Sarjapur Road            2.446374\n",
       "Kalyan Nagar             2.432137\n",
       "Bellandur                2.337225\n",
       "Frazer Town              2.318242\n",
       "Malleshwaram             2.242312\n",
       "Electronic City          2.080961\n",
       "Rajajinagar              2.078588\n",
       "Banashankari             1.744021\n",
       "New BEL Road             1.366743\n",
       "Name: listed_in(city), dtype: float64"
      ]
     },
     "execution_count": 111,
     "metadata": {},
     "output_type": "execute_result"
    }
   ],
   "source": [
    "data['listed_in(city)'].value_counts()/len(data)*100\n",
    "\n",
    "## One-hot will not be good here as Top 5 or Top 10 categories doesnt have 80-90% of data points "
   ]
  },
  {
   "cell_type": "code",
   "execution_count": null,
   "id": "23bf8cf7",
   "metadata": {},
   "outputs": [],
   "source": []
  },
  {
   "cell_type": "code",
   "execution_count": 112,
   "id": "fb11c06e",
   "metadata": {},
   "outputs": [
    {
     "data": {
      "text/plain": [
       "BTM                      9.586181\n",
       "Koramangala 5th Block    5.457479\n",
       "HSR                      4.857156\n",
       "Indiranagar              4.325645\n",
       "JP Nagar                 4.235478\n",
       "                           ...   \n",
       "Yelahanka                0.009491\n",
       "West Bangalore           0.009491\n",
       "Rajarajeshwari Nagar     0.004746\n",
       "Nagarbhavi               0.002373\n",
       "Peenya                   0.002373\n",
       "Name: location, Length: 92, dtype: float64"
      ]
     },
     "execution_count": 112,
     "metadata": {},
     "output_type": "execute_result"
    }
   ],
   "source": [
    "data['location'].value_counts()/len(data)*100 \n",
    "\n",
    "## One-hot will not be good here as Top 5 or Top 10 categories doesnt have 80-90% of data points "
   ]
  },
  {
   "cell_type": "code",
   "execution_count": null,
   "id": "6999bf4f",
   "metadata": {},
   "outputs": [],
   "source": []
  },
  {
   "cell_type": "code",
   "execution_count": null,
   "id": "3f14dc17",
   "metadata": {},
   "outputs": [],
   "source": []
  },
  {
   "cell_type": "code",
   "execution_count": 113,
   "id": "481f81e4",
   "metadata": {},
   "outputs": [
    {
     "data": {
      "text/plain": [
       "['online_order',\n",
       " 'book_table',\n",
       " 'location',\n",
       " 'rest_type',\n",
       " 'listed_in(type)',\n",
       " 'listed_in(city)']"
      ]
     },
     "execution_count": 113,
     "metadata": {},
     "output_type": "execute_result"
    }
   ],
   "source": [
    "cat_features"
   ]
  },
  {
   "cell_type": "code",
   "execution_count": null,
   "id": "8aae79f4",
   "metadata": {},
   "outputs": [],
   "source": []
  },
  {
   "cell_type": "code",
   "execution_count": null,
   "id": "4aed227c",
   "metadata": {},
   "outputs": [],
   "source": []
  },
  {
   "cell_type": "code",
   "execution_count": 114,
   "id": "271a64f0",
   "metadata": {},
   "outputs": [
    {
     "data": {
      "text/html": [
       "<div>\n",
       "<style scoped>\n",
       "    .dataframe tbody tr th:only-of-type {\n",
       "        vertical-align: middle;\n",
       "    }\n",
       "\n",
       "    .dataframe tbody tr th {\n",
       "        vertical-align: top;\n",
       "    }\n",
       "\n",
       "    .dataframe thead th {\n",
       "        text-align: right;\n",
       "    }\n",
       "</style>\n",
       "<table border=\"1\" class=\"dataframe\">\n",
       "  <thead>\n",
       "    <tr style=\"text-align: right;\">\n",
       "      <th></th>\n",
       "      <th>online_order_Yes</th>\n",
       "    </tr>\n",
       "  </thead>\n",
       "  <tbody>\n",
       "    <tr>\n",
       "      <th>0</th>\n",
       "      <td>1</td>\n",
       "    </tr>\n",
       "    <tr>\n",
       "      <th>1</th>\n",
       "      <td>1</td>\n",
       "    </tr>\n",
       "    <tr>\n",
       "      <th>2</th>\n",
       "      <td>1</td>\n",
       "    </tr>\n",
       "    <tr>\n",
       "      <th>3</th>\n",
       "      <td>0</td>\n",
       "    </tr>\n",
       "    <tr>\n",
       "      <th>4</th>\n",
       "      <td>0</td>\n",
       "    </tr>\n",
       "    <tr>\n",
       "      <th>...</th>\n",
       "      <td>...</td>\n",
       "    </tr>\n",
       "    <tr>\n",
       "      <th>51709</th>\n",
       "      <td>0</td>\n",
       "    </tr>\n",
       "    <tr>\n",
       "      <th>51711</th>\n",
       "      <td>0</td>\n",
       "    </tr>\n",
       "    <tr>\n",
       "      <th>51712</th>\n",
       "      <td>0</td>\n",
       "    </tr>\n",
       "    <tr>\n",
       "      <th>51715</th>\n",
       "      <td>0</td>\n",
       "    </tr>\n",
       "    <tr>\n",
       "      <th>51716</th>\n",
       "      <td>0</td>\n",
       "    </tr>\n",
       "  </tbody>\n",
       "</table>\n",
       "<p>42144 rows × 1 columns</p>\n",
       "</div>"
      ],
      "text/plain": [
       "       online_order_Yes\n",
       "0                     1\n",
       "1                     1\n",
       "2                     1\n",
       "3                     0\n",
       "4                     0\n",
       "...                 ...\n",
       "51709                 0\n",
       "51711                 0\n",
       "51712                 0\n",
       "51715                 0\n",
       "51716                 0\n",
       "\n",
       "[42144 rows x 1 columns]"
      ]
     },
     "execution_count": 114,
     "metadata": {},
     "output_type": "execute_result"
    }
   ],
   "source": [
    "pd.get_dummies(data['online_order'] , prefix='online_order' , drop_first=True) ## Applying one-hot on \"online_order\" feature"
   ]
  },
  {
   "cell_type": "code",
   "execution_count": 115,
   "id": "79564297",
   "metadata": {},
   "outputs": [],
   "source": [
    "## Applying one-hot on ['online_order', 'book_table', 'rest_type', 'listed_in(type)']\n",
    "\n",
    "for col in ['online_order', 'book_table', 'rest_type', 'listed_in(type)']:\n",
    "    col_encoded = pd.get_dummies(data[col] , prefix=col , drop_first=True)\n",
    "    data = pd.concat([data , col_encoded] , axis=1)"
   ]
  },
  {
   "cell_type": "code",
   "execution_count": 116,
   "id": "5a9ffb83",
   "metadata": {},
   "outputs": [
    {
     "data": {
      "text/html": [
       "<div>\n",
       "<style scoped>\n",
       "    .dataframe tbody tr th:only-of-type {\n",
       "        vertical-align: middle;\n",
       "    }\n",
       "\n",
       "    .dataframe tbody tr th {\n",
       "        vertical-align: top;\n",
       "    }\n",
       "\n",
       "    .dataframe thead th {\n",
       "        text-align: right;\n",
       "    }\n",
       "</style>\n",
       "<table border=\"1\" class=\"dataframe\">\n",
       "  <thead>\n",
       "    <tr style=\"text-align: right;\">\n",
       "      <th></th>\n",
       "      <th>online_order</th>\n",
       "      <th>book_table</th>\n",
       "      <th>votes</th>\n",
       "      <th>location</th>\n",
       "      <th>rest_type</th>\n",
       "      <th>approx_cost(for two people)</th>\n",
       "      <th>listed_in(type)</th>\n",
       "      <th>listed_in(city)</th>\n",
       "      <th>target</th>\n",
       "      <th>online_order_Yes</th>\n",
       "      <th>...</th>\n",
       "      <th>rest_type_Delivery</th>\n",
       "      <th>rest_type_Dessert Parlor</th>\n",
       "      <th>rest_type_Quick Bites</th>\n",
       "      <th>rest_type_other</th>\n",
       "      <th>listed_in(type)_Cafes</th>\n",
       "      <th>listed_in(type)_Delivery</th>\n",
       "      <th>listed_in(type)_Desserts</th>\n",
       "      <th>listed_in(type)_Dine-out</th>\n",
       "      <th>listed_in(type)_Drinks &amp; nightlife</th>\n",
       "      <th>listed_in(type)_Pubs and bars</th>\n",
       "    </tr>\n",
       "  </thead>\n",
       "  <tbody>\n",
       "    <tr>\n",
       "      <th>0</th>\n",
       "      <td>Yes</td>\n",
       "      <td>Yes</td>\n",
       "      <td>775</td>\n",
       "      <td>Banashankari</td>\n",
       "      <td>Casual Dining</td>\n",
       "      <td>800.0</td>\n",
       "      <td>Buffet</td>\n",
       "      <td>Banashankari</td>\n",
       "      <td>1</td>\n",
       "      <td>1</td>\n",
       "      <td>...</td>\n",
       "      <td>0</td>\n",
       "      <td>0</td>\n",
       "      <td>0</td>\n",
       "      <td>0</td>\n",
       "      <td>0</td>\n",
       "      <td>0</td>\n",
       "      <td>0</td>\n",
       "      <td>0</td>\n",
       "      <td>0</td>\n",
       "      <td>0</td>\n",
       "    </tr>\n",
       "    <tr>\n",
       "      <th>1</th>\n",
       "      <td>Yes</td>\n",
       "      <td>No</td>\n",
       "      <td>787</td>\n",
       "      <td>Banashankari</td>\n",
       "      <td>Casual Dining</td>\n",
       "      <td>800.0</td>\n",
       "      <td>Buffet</td>\n",
       "      <td>Banashankari</td>\n",
       "      <td>1</td>\n",
       "      <td>1</td>\n",
       "      <td>...</td>\n",
       "      <td>0</td>\n",
       "      <td>0</td>\n",
       "      <td>0</td>\n",
       "      <td>0</td>\n",
       "      <td>0</td>\n",
       "      <td>0</td>\n",
       "      <td>0</td>\n",
       "      <td>0</td>\n",
       "      <td>0</td>\n",
       "      <td>0</td>\n",
       "    </tr>\n",
       "    <tr>\n",
       "      <th>2</th>\n",
       "      <td>Yes</td>\n",
       "      <td>No</td>\n",
       "      <td>918</td>\n",
       "      <td>Banashankari</td>\n",
       "      <td>other</td>\n",
       "      <td>800.0</td>\n",
       "      <td>Buffet</td>\n",
       "      <td>Banashankari</td>\n",
       "      <td>1</td>\n",
       "      <td>1</td>\n",
       "      <td>...</td>\n",
       "      <td>0</td>\n",
       "      <td>0</td>\n",
       "      <td>0</td>\n",
       "      <td>1</td>\n",
       "      <td>0</td>\n",
       "      <td>0</td>\n",
       "      <td>0</td>\n",
       "      <td>0</td>\n",
       "      <td>0</td>\n",
       "      <td>0</td>\n",
       "    </tr>\n",
       "    <tr>\n",
       "      <th>3</th>\n",
       "      <td>No</td>\n",
       "      <td>No</td>\n",
       "      <td>88</td>\n",
       "      <td>Banashankari</td>\n",
       "      <td>Quick Bites</td>\n",
       "      <td>300.0</td>\n",
       "      <td>Buffet</td>\n",
       "      <td>Banashankari</td>\n",
       "      <td>0</td>\n",
       "      <td>0</td>\n",
       "      <td>...</td>\n",
       "      <td>0</td>\n",
       "      <td>0</td>\n",
       "      <td>1</td>\n",
       "      <td>0</td>\n",
       "      <td>0</td>\n",
       "      <td>0</td>\n",
       "      <td>0</td>\n",
       "      <td>0</td>\n",
       "      <td>0</td>\n",
       "      <td>0</td>\n",
       "    </tr>\n",
       "  </tbody>\n",
       "</table>\n",
       "<p>4 rows × 22 columns</p>\n",
       "</div>"
      ],
      "text/plain": [
       "  online_order book_table  votes      location      rest_type  \\\n",
       "0          Yes        Yes    775  Banashankari  Casual Dining   \n",
       "1          Yes         No    787  Banashankari  Casual Dining   \n",
       "2          Yes         No    918  Banashankari          other   \n",
       "3           No         No     88  Banashankari    Quick Bites   \n",
       "\n",
       "   approx_cost(for two people) listed_in(type) listed_in(city)  target  \\\n",
       "0                        800.0          Buffet    Banashankari       1   \n",
       "1                        800.0          Buffet    Banashankari       1   \n",
       "2                        800.0          Buffet    Banashankari       1   \n",
       "3                        300.0          Buffet    Banashankari       0   \n",
       "\n",
       "   online_order_Yes  ...  rest_type_Delivery  rest_type_Dessert Parlor  \\\n",
       "0                 1  ...                   0                         0   \n",
       "1                 1  ...                   0                         0   \n",
       "2                 1  ...                   0                         0   \n",
       "3                 0  ...                   0                         0   \n",
       "\n",
       "   rest_type_Quick Bites  rest_type_other  listed_in(type)_Cafes  \\\n",
       "0                      0                0                      0   \n",
       "1                      0                0                      0   \n",
       "2                      0                1                      0   \n",
       "3                      1                0                      0   \n",
       "\n",
       "   listed_in(type)_Delivery  listed_in(type)_Desserts  \\\n",
       "0                         0                         0   \n",
       "1                         0                         0   \n",
       "2                         0                         0   \n",
       "3                         0                         0   \n",
       "\n",
       "   listed_in(type)_Dine-out  listed_in(type)_Drinks & nightlife  \\\n",
       "0                         0                                   0   \n",
       "1                         0                                   0   \n",
       "2                         0                                   0   \n",
       "3                         0                                   0   \n",
       "\n",
       "   listed_in(type)_Pubs and bars  \n",
       "0                              0  \n",
       "1                              0  \n",
       "2                              0  \n",
       "3                              0  \n",
       "\n",
       "[4 rows x 22 columns]"
      ]
     },
     "execution_count": 116,
     "metadata": {},
     "output_type": "execute_result"
    }
   ],
   "source": [
    "data.head(4)"
   ]
  },
  {
   "cell_type": "code",
   "execution_count": null,
   "id": "37be15d6",
   "metadata": {},
   "outputs": [],
   "source": []
  },
  {
   "cell_type": "code",
   "execution_count": null,
   "id": "39874679",
   "metadata": {},
   "outputs": [],
   "source": []
  },
  {
   "cell_type": "code",
   "execution_count": null,
   "id": "3ce65793",
   "metadata": {},
   "outputs": [],
   "source": []
  },
  {
   "cell_type": "code",
   "execution_count": null,
   "id": "107098e6",
   "metadata": {},
   "outputs": [],
   "source": []
  },
  {
   "cell_type": "markdown",
   "id": "868f1d1e",
   "metadata": {},
   "source": [
    "## 10.. Performing Mean Encoding on data !"
   ]
  },
  {
   "cell_type": "code",
   "execution_count": 117,
   "id": "d367f0f6",
   "metadata": {},
   "outputs": [
    {
     "data": {
      "text/plain": [
       "['online_order',\n",
       " 'book_table',\n",
       " 'location',\n",
       " 'rest_type',\n",
       " 'listed_in(type)',\n",
       " 'listed_in(city)']"
      ]
     },
     "execution_count": 117,
     "metadata": {},
     "output_type": "execute_result"
    }
   ],
   "source": [
    "cat_features"
   ]
  },
  {
   "cell_type": "code",
   "execution_count": 118,
   "id": "e2ab2833",
   "metadata": {},
   "outputs": [
    {
     "data": {
      "text/html": [
       "<div>\n",
       "<style scoped>\n",
       "    .dataframe tbody tr th:only-of-type {\n",
       "        vertical-align: middle;\n",
       "    }\n",
       "\n",
       "    .dataframe tbody tr th {\n",
       "        vertical-align: top;\n",
       "    }\n",
       "\n",
       "    .dataframe thead th {\n",
       "        text-align: right;\n",
       "    }\n",
       "</style>\n",
       "<table border=\"1\" class=\"dataframe\">\n",
       "  <thead>\n",
       "    <tr style=\"text-align: right;\">\n",
       "      <th></th>\n",
       "      <th>location</th>\n",
       "      <th>listed_in(city)</th>\n",
       "    </tr>\n",
       "  </thead>\n",
       "  <tbody>\n",
       "    <tr>\n",
       "      <th>0</th>\n",
       "      <td>Banashankari</td>\n",
       "      <td>Banashankari</td>\n",
       "    </tr>\n",
       "    <tr>\n",
       "      <th>1</th>\n",
       "      <td>Banashankari</td>\n",
       "      <td>Banashankari</td>\n",
       "    </tr>\n",
       "    <tr>\n",
       "      <th>2</th>\n",
       "      <td>Banashankari</td>\n",
       "      <td>Banashankari</td>\n",
       "    </tr>\n",
       "    <tr>\n",
       "      <th>3</th>\n",
       "      <td>Banashankari</td>\n",
       "      <td>Banashankari</td>\n",
       "    </tr>\n",
       "    <tr>\n",
       "      <th>4</th>\n",
       "      <td>Basavanagudi</td>\n",
       "      <td>Banashankari</td>\n",
       "    </tr>\n",
       "    <tr>\n",
       "      <th>...</th>\n",
       "      <td>...</td>\n",
       "      <td>...</td>\n",
       "    </tr>\n",
       "    <tr>\n",
       "      <th>51709</th>\n",
       "      <td>Whitefield</td>\n",
       "      <td>Whitefield</td>\n",
       "    </tr>\n",
       "    <tr>\n",
       "      <th>51711</th>\n",
       "      <td>Whitefield</td>\n",
       "      <td>Whitefield</td>\n",
       "    </tr>\n",
       "    <tr>\n",
       "      <th>51712</th>\n",
       "      <td>Whitefield</td>\n",
       "      <td>Whitefield</td>\n",
       "    </tr>\n",
       "    <tr>\n",
       "      <th>51715</th>\n",
       "      <td>ITPL Main Road, Whitefield</td>\n",
       "      <td>Whitefield</td>\n",
       "    </tr>\n",
       "    <tr>\n",
       "      <th>51716</th>\n",
       "      <td>ITPL Main Road, Whitefield</td>\n",
       "      <td>Whitefield</td>\n",
       "    </tr>\n",
       "  </tbody>\n",
       "</table>\n",
       "<p>42144 rows × 2 columns</p>\n",
       "</div>"
      ],
      "text/plain": [
       "                         location listed_in(city)\n",
       "0                    Banashankari    Banashankari\n",
       "1                    Banashankari    Banashankari\n",
       "2                    Banashankari    Banashankari\n",
       "3                    Banashankari    Banashankari\n",
       "4                    Basavanagudi    Banashankari\n",
       "...                           ...             ...\n",
       "51709                  Whitefield      Whitefield\n",
       "51711                  Whitefield      Whitefield\n",
       "51712                  Whitefield      Whitefield\n",
       "51715  ITPL Main Road, Whitefield      Whitefield\n",
       "51716  ITPL Main Road, Whitefield      Whitefield\n",
       "\n",
       "[42144 rows x 2 columns]"
      ]
     },
     "execution_count": 118,
     "metadata": {},
     "output_type": "execute_result"
    }
   ],
   "source": [
    "data[['location' , 'listed_in(city)']]"
   ]
  },
  {
   "cell_type": "code",
   "execution_count": null,
   "id": "4d06af8e",
   "metadata": {},
   "outputs": [],
   "source": []
  },
  {
   "cell_type": "code",
   "execution_count": 119,
   "id": "b9880206",
   "metadata": {},
   "outputs": [
    {
     "data": {
      "text/plain": [
       "location\n",
       "BTM                  0.329703\n",
       "Banashankari         0.477124\n",
       "Banaswadi            0.259494\n",
       "Bannerghatta Road    0.305071\n",
       "Basavanagudi         0.523333\n",
       "                       ...   \n",
       "West Bangalore       0.250000\n",
       "Whitefield           0.404599\n",
       "Wilson Garden        0.286458\n",
       "Yelahanka            0.500000\n",
       "Yeshwantpur          0.223214\n",
       "Name: target, Length: 92, dtype: float64"
      ]
     },
     "execution_count": 119,
     "metadata": {},
     "output_type": "execute_result"
    }
   ],
   "source": [
    "data.groupby(['location'])['target'].mean()"
   ]
  },
  {
   "cell_type": "code",
   "execution_count": 120,
   "id": "dd13c002",
   "metadata": {},
   "outputs": [],
   "source": [
    "dict_mean_location  = data.groupby(['location'])['target'].mean().to_dict()"
   ]
  },
  {
   "cell_type": "code",
   "execution_count": 121,
   "id": "c9cb9b11",
   "metadata": {},
   "outputs": [
    {
     "data": {
      "text/plain": [
       "0                      Banashankari\n",
       "1                      Banashankari\n",
       "2                      Banashankari\n",
       "3                      Banashankari\n",
       "4                      Basavanagudi\n",
       "                    ...            \n",
       "51709                    Whitefield\n",
       "51711                    Whitefield\n",
       "51712                    Whitefield\n",
       "51715    ITPL Main Road, Whitefield\n",
       "51716    ITPL Main Road, Whitefield\n",
       "Name: location, Length: 42144, dtype: object"
      ]
     },
     "execution_count": 121,
     "metadata": {},
     "output_type": "execute_result"
    }
   ],
   "source": [
    "data['location']"
   ]
  },
  {
   "cell_type": "code",
   "execution_count": 122,
   "id": "19677bc0",
   "metadata": {},
   "outputs": [],
   "source": [
    "data['location'] = data['location'].map(dict_mean_location) ## lets map \"dict_mean_location\" on top of \"location\" feature"
   ]
  },
  {
   "cell_type": "code",
   "execution_count": 123,
   "id": "ea7e984d",
   "metadata": {},
   "outputs": [
    {
     "data": {
      "text/plain": [
       "0        0.477124\n",
       "1        0.477124\n",
       "2        0.477124\n",
       "3        0.477124\n",
       "4        0.523333\n",
       "           ...   \n",
       "51709    0.404599\n",
       "51711    0.404599\n",
       "51712    0.404599\n",
       "51715    0.329670\n",
       "51716    0.329670\n",
       "Name: location, Length: 42144, dtype: float64"
      ]
     },
     "execution_count": 123,
     "metadata": {},
     "output_type": "execute_result"
    }
   ],
   "source": [
    "data['location']"
   ]
  },
  {
   "cell_type": "code",
   "execution_count": null,
   "id": "7ab965e7",
   "metadata": {},
   "outputs": [],
   "source": []
  },
  {
   "cell_type": "code",
   "execution_count": 124,
   "id": "1b29ffed",
   "metadata": {},
   "outputs": [],
   "source": [
    "dict_mean_city = data.groupby(['listed_in(city)'])['target'].mean().to_dict()"
   ]
  },
  {
   "cell_type": "code",
   "execution_count": 125,
   "id": "ef7ac9c0",
   "metadata": {},
   "outputs": [],
   "source": [
    "data['listed_in(city)'] = data['listed_in(city)'].map(dict_mean_location)"
   ]
  },
  {
   "cell_type": "code",
   "execution_count": 126,
   "id": "3e96180a",
   "metadata": {},
   "outputs": [
    {
     "data": {
      "text/plain": [
       "0        0.477124\n",
       "1        0.477124\n",
       "2        0.477124\n",
       "3        0.477124\n",
       "4        0.477124\n",
       "           ...   \n",
       "51709    0.404599\n",
       "51711    0.404599\n",
       "51712    0.404599\n",
       "51715    0.404599\n",
       "51716    0.404599\n",
       "Name: listed_in(city), Length: 42144, dtype: float64"
      ]
     },
     "execution_count": 126,
     "metadata": {},
     "output_type": "execute_result"
    }
   ],
   "source": [
    "data['listed_in(city)']"
   ]
  },
  {
   "cell_type": "code",
   "execution_count": null,
   "id": "bf9e79e1",
   "metadata": {},
   "outputs": [],
   "source": []
  },
  {
   "cell_type": "code",
   "execution_count": 127,
   "id": "b294b1f6",
   "metadata": {},
   "outputs": [
    {
     "data": {
      "text/plain": [
       "['online_order',\n",
       " 'book_table',\n",
       " 'location',\n",
       " 'rest_type',\n",
       " 'listed_in(type)',\n",
       " 'listed_in(city)']"
      ]
     },
     "execution_count": 127,
     "metadata": {},
     "output_type": "execute_result"
    }
   ],
   "source": [
    "cat_features"
   ]
  },
  {
   "cell_type": "code",
   "execution_count": 128,
   "id": "4488f1cd",
   "metadata": {},
   "outputs": [
    {
     "data": {
      "text/html": [
       "<div>\n",
       "<style scoped>\n",
       "    .dataframe tbody tr th:only-of-type {\n",
       "        vertical-align: middle;\n",
       "    }\n",
       "\n",
       "    .dataframe tbody tr th {\n",
       "        vertical-align: top;\n",
       "    }\n",
       "\n",
       "    .dataframe thead th {\n",
       "        text-align: right;\n",
       "    }\n",
       "</style>\n",
       "<table border=\"1\" class=\"dataframe\">\n",
       "  <thead>\n",
       "    <tr style=\"text-align: right;\">\n",
       "      <th></th>\n",
       "      <th>online_order</th>\n",
       "      <th>book_table</th>\n",
       "      <th>votes</th>\n",
       "      <th>location</th>\n",
       "      <th>rest_type</th>\n",
       "      <th>approx_cost(for two people)</th>\n",
       "      <th>listed_in(type)</th>\n",
       "      <th>listed_in(city)</th>\n",
       "      <th>target</th>\n",
       "      <th>online_order_Yes</th>\n",
       "      <th>...</th>\n",
       "      <th>rest_type_Delivery</th>\n",
       "      <th>rest_type_Dessert Parlor</th>\n",
       "      <th>rest_type_Quick Bites</th>\n",
       "      <th>rest_type_other</th>\n",
       "      <th>listed_in(type)_Cafes</th>\n",
       "      <th>listed_in(type)_Delivery</th>\n",
       "      <th>listed_in(type)_Desserts</th>\n",
       "      <th>listed_in(type)_Dine-out</th>\n",
       "      <th>listed_in(type)_Drinks &amp; nightlife</th>\n",
       "      <th>listed_in(type)_Pubs and bars</th>\n",
       "    </tr>\n",
       "  </thead>\n",
       "  <tbody>\n",
       "    <tr>\n",
       "      <th>0</th>\n",
       "      <td>Yes</td>\n",
       "      <td>Yes</td>\n",
       "      <td>775</td>\n",
       "      <td>0.477124</td>\n",
       "      <td>Casual Dining</td>\n",
       "      <td>800.0</td>\n",
       "      <td>Buffet</td>\n",
       "      <td>0.477124</td>\n",
       "      <td>1</td>\n",
       "      <td>1</td>\n",
       "      <td>...</td>\n",
       "      <td>0</td>\n",
       "      <td>0</td>\n",
       "      <td>0</td>\n",
       "      <td>0</td>\n",
       "      <td>0</td>\n",
       "      <td>0</td>\n",
       "      <td>0</td>\n",
       "      <td>0</td>\n",
       "      <td>0</td>\n",
       "      <td>0</td>\n",
       "    </tr>\n",
       "    <tr>\n",
       "      <th>1</th>\n",
       "      <td>Yes</td>\n",
       "      <td>No</td>\n",
       "      <td>787</td>\n",
       "      <td>0.477124</td>\n",
       "      <td>Casual Dining</td>\n",
       "      <td>800.0</td>\n",
       "      <td>Buffet</td>\n",
       "      <td>0.477124</td>\n",
       "      <td>1</td>\n",
       "      <td>1</td>\n",
       "      <td>...</td>\n",
       "      <td>0</td>\n",
       "      <td>0</td>\n",
       "      <td>0</td>\n",
       "      <td>0</td>\n",
       "      <td>0</td>\n",
       "      <td>0</td>\n",
       "      <td>0</td>\n",
       "      <td>0</td>\n",
       "      <td>0</td>\n",
       "      <td>0</td>\n",
       "    </tr>\n",
       "    <tr>\n",
       "      <th>2</th>\n",
       "      <td>Yes</td>\n",
       "      <td>No</td>\n",
       "      <td>918</td>\n",
       "      <td>0.477124</td>\n",
       "      <td>other</td>\n",
       "      <td>800.0</td>\n",
       "      <td>Buffet</td>\n",
       "      <td>0.477124</td>\n",
       "      <td>1</td>\n",
       "      <td>1</td>\n",
       "      <td>...</td>\n",
       "      <td>0</td>\n",
       "      <td>0</td>\n",
       "      <td>0</td>\n",
       "      <td>1</td>\n",
       "      <td>0</td>\n",
       "      <td>0</td>\n",
       "      <td>0</td>\n",
       "      <td>0</td>\n",
       "      <td>0</td>\n",
       "      <td>0</td>\n",
       "    </tr>\n",
       "  </tbody>\n",
       "</table>\n",
       "<p>3 rows × 22 columns</p>\n",
       "</div>"
      ],
      "text/plain": [
       "  online_order book_table  votes  location      rest_type  \\\n",
       "0          Yes        Yes    775  0.477124  Casual Dining   \n",
       "1          Yes         No    787  0.477124  Casual Dining   \n",
       "2          Yes         No    918  0.477124          other   \n",
       "\n",
       "   approx_cost(for two people) listed_in(type)  listed_in(city)  target  \\\n",
       "0                        800.0          Buffet         0.477124       1   \n",
       "1                        800.0          Buffet         0.477124       1   \n",
       "2                        800.0          Buffet         0.477124       1   \n",
       "\n",
       "   online_order_Yes  ...  rest_type_Delivery  rest_type_Dessert Parlor  \\\n",
       "0                 1  ...                   0                         0   \n",
       "1                 1  ...                   0                         0   \n",
       "2                 1  ...                   0                         0   \n",
       "\n",
       "   rest_type_Quick Bites  rest_type_other  listed_in(type)_Cafes  \\\n",
       "0                      0                0                      0   \n",
       "1                      0                0                      0   \n",
       "2                      0                1                      0   \n",
       "\n",
       "   listed_in(type)_Delivery  listed_in(type)_Desserts  \\\n",
       "0                         0                         0   \n",
       "1                         0                         0   \n",
       "2                         0                         0   \n",
       "\n",
       "   listed_in(type)_Dine-out  listed_in(type)_Drinks & nightlife  \\\n",
       "0                         0                                   0   \n",
       "1                         0                                   0   \n",
       "2                         0                                   0   \n",
       "\n",
       "   listed_in(type)_Pubs and bars  \n",
       "0                              0  \n",
       "1                              0  \n",
       "2                              0  \n",
       "\n",
       "[3 rows x 22 columns]"
      ]
     },
     "execution_count": 128,
     "metadata": {},
     "output_type": "execute_result"
    }
   ],
   "source": [
    "data.head(3)"
   ]
  },
  {
   "cell_type": "code",
   "execution_count": 129,
   "id": "4720105d",
   "metadata": {},
   "outputs": [
    {
     "data": {
      "text/plain": [
       "Index(['online_order', 'book_table', 'votes', 'location', 'rest_type',\n",
       "       'approx_cost(for two people)', 'listed_in(type)', 'listed_in(city)',\n",
       "       'target', 'online_order_Yes', 'book_table_Yes',\n",
       "       'rest_type_Casual Dining', 'rest_type_Delivery',\n",
       "       'rest_type_Dessert Parlor', 'rest_type_Quick Bites', 'rest_type_other',\n",
       "       'listed_in(type)_Cafes', 'listed_in(type)_Delivery',\n",
       "       'listed_in(type)_Desserts', 'listed_in(type)_Dine-out',\n",
       "       'listed_in(type)_Drinks & nightlife', 'listed_in(type)_Pubs and bars'],\n",
       "      dtype='object')"
      ]
     },
     "execution_count": 129,
     "metadata": {},
     "output_type": "execute_result"
    }
   ],
   "source": [
    "data.columns"
   ]
  },
  {
   "cell_type": "code",
   "execution_count": null,
   "id": "9e4a23e6",
   "metadata": {},
   "outputs": [],
   "source": []
  },
  {
   "cell_type": "code",
   "execution_count": 130,
   "id": "3ccfad3c",
   "metadata": {},
   "outputs": [],
   "source": [
    "data.drop(['online_order', 'book_table' , 'rest_type' , 'listed_in(type)'] , axis=1 , inplace=True)\n",
    "\n",
    "## lets drop these features as we have already encoded it !"
   ]
  },
  {
   "cell_type": "code",
   "execution_count": 131,
   "id": "c2883b17",
   "metadata": {},
   "outputs": [
    {
     "data": {
      "text/html": [
       "<div>\n",
       "<style scoped>\n",
       "    .dataframe tbody tr th:only-of-type {\n",
       "        vertical-align: middle;\n",
       "    }\n",
       "\n",
       "    .dataframe tbody tr th {\n",
       "        vertical-align: top;\n",
       "    }\n",
       "\n",
       "    .dataframe thead th {\n",
       "        text-align: right;\n",
       "    }\n",
       "</style>\n",
       "<table border=\"1\" class=\"dataframe\">\n",
       "  <thead>\n",
       "    <tr style=\"text-align: right;\">\n",
       "      <th></th>\n",
       "      <th>votes</th>\n",
       "      <th>location</th>\n",
       "      <th>approx_cost(for two people)</th>\n",
       "      <th>listed_in(city)</th>\n",
       "      <th>target</th>\n",
       "      <th>online_order_Yes</th>\n",
       "      <th>book_table_Yes</th>\n",
       "      <th>rest_type_Casual Dining</th>\n",
       "      <th>rest_type_Delivery</th>\n",
       "      <th>rest_type_Dessert Parlor</th>\n",
       "      <th>rest_type_Quick Bites</th>\n",
       "      <th>rest_type_other</th>\n",
       "      <th>listed_in(type)_Cafes</th>\n",
       "      <th>listed_in(type)_Delivery</th>\n",
       "      <th>listed_in(type)_Desserts</th>\n",
       "      <th>listed_in(type)_Dine-out</th>\n",
       "      <th>listed_in(type)_Drinks &amp; nightlife</th>\n",
       "      <th>listed_in(type)_Pubs and bars</th>\n",
       "    </tr>\n",
       "  </thead>\n",
       "  <tbody>\n",
       "    <tr>\n",
       "      <th>0</th>\n",
       "      <td>775</td>\n",
       "      <td>0.477124</td>\n",
       "      <td>800.0</td>\n",
       "      <td>0.477124</td>\n",
       "      <td>1</td>\n",
       "      <td>1</td>\n",
       "      <td>1</td>\n",
       "      <td>1</td>\n",
       "      <td>0</td>\n",
       "      <td>0</td>\n",
       "      <td>0</td>\n",
       "      <td>0</td>\n",
       "      <td>0</td>\n",
       "      <td>0</td>\n",
       "      <td>0</td>\n",
       "      <td>0</td>\n",
       "      <td>0</td>\n",
       "      <td>0</td>\n",
       "    </tr>\n",
       "    <tr>\n",
       "      <th>1</th>\n",
       "      <td>787</td>\n",
       "      <td>0.477124</td>\n",
       "      <td>800.0</td>\n",
       "      <td>0.477124</td>\n",
       "      <td>1</td>\n",
       "      <td>1</td>\n",
       "      <td>0</td>\n",
       "      <td>1</td>\n",
       "      <td>0</td>\n",
       "      <td>0</td>\n",
       "      <td>0</td>\n",
       "      <td>0</td>\n",
       "      <td>0</td>\n",
       "      <td>0</td>\n",
       "      <td>0</td>\n",
       "      <td>0</td>\n",
       "      <td>0</td>\n",
       "      <td>0</td>\n",
       "    </tr>\n",
       "  </tbody>\n",
       "</table>\n",
       "</div>"
      ],
      "text/plain": [
       "   votes  location  approx_cost(for two people)  listed_in(city)  target  \\\n",
       "0    775  0.477124                        800.0         0.477124       1   \n",
       "1    787  0.477124                        800.0         0.477124       1   \n",
       "\n",
       "   online_order_Yes  book_table_Yes  rest_type_Casual Dining  \\\n",
       "0                 1               1                        1   \n",
       "1                 1               0                        1   \n",
       "\n",
       "   rest_type_Delivery  rest_type_Dessert Parlor  rest_type_Quick Bites  \\\n",
       "0                   0                         0                      0   \n",
       "1                   0                         0                      0   \n",
       "\n",
       "   rest_type_other  listed_in(type)_Cafes  listed_in(type)_Delivery  \\\n",
       "0                0                      0                         0   \n",
       "1                0                      0                         0   \n",
       "\n",
       "   listed_in(type)_Desserts  listed_in(type)_Dine-out  \\\n",
       "0                         0                         0   \n",
       "1                         0                         0   \n",
       "\n",
       "   listed_in(type)_Drinks & nightlife  listed_in(type)_Pubs and bars  \n",
       "0                                   0                              0  \n",
       "1                                   0                              0  "
      ]
     },
     "execution_count": 131,
     "metadata": {},
     "output_type": "execute_result"
    }
   ],
   "source": [
    "data.head(2)"
   ]
  },
  {
   "cell_type": "code",
   "execution_count": null,
   "id": "baaecc09",
   "metadata": {},
   "outputs": [],
   "source": []
  },
  {
   "cell_type": "code",
   "execution_count": null,
   "id": "52804a11",
   "metadata": {},
   "outputs": [],
   "source": []
  },
  {
   "cell_type": "code",
   "execution_count": null,
   "id": "1b1e94e4",
   "metadata": {},
   "outputs": [],
   "source": []
  },
  {
   "cell_type": "code",
   "execution_count": null,
   "id": "80c3c6f6",
   "metadata": {},
   "outputs": [],
   "source": []
  },
  {
   "cell_type": "markdown",
   "id": "d192ea30",
   "metadata": {},
   "source": [
    "## 11.. Detecting Outliers :"
   ]
  },
  {
   "cell_type": "markdown",
   "id": "0d0911b5",
   "metadata": {},
   "source": [
    "    >> Outliers badly affect mean and standard deviation of the dataset..\n",
    "    \n",
    "    >> Most machine learning algorithms do not work well in the presence of outlier. So it is desirable to detect and \n",
    "       remove outliers..\n",
    "       \n",
    "    >> With all these reasons we must be careful about outlier and treat them before build a ML model..\n",
    "    \n",
    "    >> There are some techniques used to deal with outliers.\n",
    "        1. Deleting observations.\n",
    "        2. Transforming values.\n",
    "        3. Imputation.\n",
    "        4. Separately treating"
   ]
  },
  {
   "cell_type": "code",
   "execution_count": 132,
   "id": "026a295e",
   "metadata": {},
   "outputs": [
    {
     "data": {
      "text/plain": [
       "0"
      ]
     },
     "execution_count": 132,
     "metadata": {},
     "output_type": "execute_result"
    }
   ],
   "source": [
    "data['votes'].min()"
   ]
  },
  {
   "cell_type": "code",
   "execution_count": null,
   "id": "3d691d65",
   "metadata": {},
   "outputs": [],
   "source": []
  },
  {
   "cell_type": "code",
   "execution_count": 133,
   "id": "96bece5c",
   "metadata": {},
   "outputs": [
    {
     "data": {
      "text/plain": [
       "16832"
      ]
     },
     "execution_count": 133,
     "metadata": {},
     "output_type": "execute_result"
    }
   ],
   "source": [
    "data['votes'].max()"
   ]
  },
  {
   "cell_type": "markdown",
   "id": "e8d405d6",
   "metadata": {},
   "source": [
    "#### list of data visualization plots to spot the outliers.\n",
    "    1. Box and whisker plot (box plot).\n",
    "    2. Histogram.\n",
    "    3. Distribution Plot.\n",
    "    4. QQ plot."
   ]
  },
  {
   "cell_type": "code",
   "execution_count": null,
   "id": "6286a049",
   "metadata": {},
   "outputs": [],
   "source": [
    "'''\n",
    "\n",
    "boxplot basically gives us 25th percentile,50th percentile(median) ,75th percentile & whiskers \n",
    "## whiskers may be defined in different ways in different tools & packages..\n",
    "\n",
    "## sometimes it shows 99th percentile & 1 percentile value for different package \n",
    "## sometimes it shows min & max value for different package ...\n",
    "\n",
    "\n",
    "'''"
   ]
  },
  {
   "cell_type": "code",
   "execution_count": null,
   "id": "59e0795b",
   "metadata": {},
   "outputs": [],
   "source": [
    "'''\n",
    "\n",
    "Distribution plot : \n",
    "\n",
    "we can achieve distribution plot by smoothening our histogram using KDE ie PDF is a smoothen form of your histogram !\n",
    "ie histogram -->> apply KDE -->> we will get distribution plot \n",
    "\n",
    "This is called density plot bcz here height represents how many pts exists at each of these intervals or how dense \n",
    "each of the region is !\n",
    "\n",
    "\n",
    "density(distribution) plot : at a point , what is a density of a data pt. ?\n",
    "                or\n",
    "how many percentage of data pts available at some particular pt .. ?\n",
    "                or \n",
    "What is the % of data points that I will encounter at any point ? \n",
    "                or\n",
    "what is the probability of certain data pt in whole data ?\n",
    "                or \n",
    "prob that my data has value has some specific value \n",
    "\n",
    "\n",
    "'''"
   ]
  },
  {
   "cell_type": "code",
   "execution_count": null,
   "id": "76f14880",
   "metadata": {},
   "outputs": [],
   "source": []
  },
  {
   "cell_type": "code",
   "execution_count": null,
   "id": "5d44f456",
   "metadata": {},
   "outputs": [],
   "source": [
    "## Lets first understand normal distribution to get an idea about \"QQ-Plot\""
   ]
  },
  {
   "cell_type": "code",
   "execution_count": 2,
   "id": "92590d55",
   "metadata": {},
   "outputs": [
    {
     "data": {
      "image/png": "[encoded data removed]",
      "text/plain": [
       "<IPython.core.display.Image object>"
      ]
     },
     "execution_count": 2,
     "metadata": {},
     "output_type": "execute_result"
    }
   ],
   "source": [
    "from IPython.display import Image\n",
    "Image(filename=r'C:\\Users\\mcr\\Entire Data Science\\3.. Feature_Engineering\\Outliers Detection/Z-score.PNG') "
   ]
  },
  {
   "cell_type": "markdown",
   "id": "f2d147b5",
   "metadata": {},
   "source": [
    "    Above Figure shows area under normal curve and how much area that standard deviation covers.\n",
    "    * 68% of the data points lie between mu(mean) +- 1 standard deviation, ie between 1 std, we have 68 % of data point\n",
    "    * 95% of the data points lie between mu(mean)+- 2 standard deviation, ie between 2 std, we have 95 % of data point\n",
    "    * 99.7% of the data points lie between mu(mean)+- 3 standard deviation ie between 3 std dev,we have 99.7 % of data point\n"
   ]
  },
  {
   "cell_type": "code",
   "execution_count": null,
   "id": "959aedf2",
   "metadata": {},
   "outputs": [],
   "source": [
    "'''\n",
    "\n",
    "ie if Any feature follows normal distribution , which is best suited for ML Algo \n",
    "   then their 99 percent of data pts or their 99% values lie between 3 std dev .\n",
    "\n",
    "\n",
    "'''"
   ]
  },
  {
   "cell_type": "code",
   "execution_count": null,
   "id": "f9b97668",
   "metadata": {},
   "outputs": [],
   "source": [
    "'''\n",
    "\n",
    "QQ-Plot : \n",
    "\n",
    "In the Q-Q pLots, if the variable is normally distributed, u will see a straight line\n",
    "ie the values of the variable should fall in a 45 degree line \n",
    "\n",
    "QQ-plot : It Compares the sample quantiles(on y-axis) and theoretical quantiles(on x-axis)\n",
    "\n",
    "\n",
    "On x-axis , we have the theoretical quantiles(what we have on x-axis : Normal distribution graph)\n",
    "ie theoritical quantiles are those values which are the quantiles of the normal distribution :\n",
    "So if I plot a normal distribution & if I fit these quantiles like Q1 , Q2 , Q3\n",
    "\n",
    "'''"
   ]
  },
  {
   "cell_type": "code",
   "execution_count": 1,
   "id": "26add571",
   "metadata": {},
   "outputs": [
    {
     "data": {
      "image/png": "[encoded data removed]",
      "text/plain": [
       "<IPython.core.display.Image object>"
      ]
     },
     "execution_count": 1,
     "metadata": {},
     "output_type": "execute_result"
    }
   ],
   "source": [
    "from IPython.display import Image\n",
    "Image(filename=r'C:\\Users\\mcr\\Entire Data Science\\3.. Feature_Engineering\\Outliers Detection/qqplot.png') "
   ]
  },
  {
   "cell_type": "code",
   "execution_count": null,
   "id": "ce308f97",
   "metadata": {},
   "outputs": [],
   "source": []
  },
  {
   "cell_type": "code",
   "execution_count": 134,
   "id": "8b5fd6c0",
   "metadata": {},
   "outputs": [],
   "source": [
    "from scipy import stats"
   ]
  },
  {
   "cell_type": "code",
   "execution_count": 135,
   "id": "e17ab064",
   "metadata": {},
   "outputs": [
    {
     "data": {
      "image/png": "[encoded data removed]",
      "text/plain": [
       "<Figure size 1200x800 with 4 Axes>"
      ]
     },
     "metadata": {},
     "output_type": "display_data"
    }
   ],
   "source": [
    "plt.figure(figsize=(12,8))\n",
    "\n",
    "plt.subplot(411)\n",
    "sns.histplot(data['approx_cost(for two people)'])\n",
    "\n",
    "plt.subplot(412)\n",
    "sns.boxplot(data['approx_cost(for two people)'])\n",
    "\n",
    "plt.subplot(413)\n",
    "sns.distplot(data['approx_cost(for two people)'])\n",
    "\n",
    "\n",
    "plt.subplot(414)\n",
    "stats.probplot(data['approx_cost(for two people)'] , plot=plt)\n",
    "\n",
    "plt.show()"
   ]
  },
  {
   "cell_type": "code",
   "execution_count": null,
   "id": "e203bf45",
   "metadata": {},
   "outputs": [],
   "source": [
    "### Conclusion : ie we have a lot of Outliers in \"approx_cost(for two people)\".."
   ]
  },
  {
   "cell_type": "code",
   "execution_count": null,
   "id": "4496ec84",
   "metadata": {},
   "outputs": [],
   "source": []
  },
  {
   "cell_type": "code",
   "execution_count": null,
   "id": "49937bdd",
   "metadata": {},
   "outputs": [],
   "source": []
  },
  {
   "cell_type": "code",
   "execution_count": null,
   "id": "6a65085e",
   "metadata": {},
   "outputs": [],
   "source": []
  },
  {
   "cell_type": "markdown",
   "id": "3fa13f7b",
   "metadata": {},
   "source": [
    "## 12.. Handling Outliers !"
   ]
  },
  {
   "cell_type": "code",
   "execution_count": 136,
   "id": "9919d6f3",
   "metadata": {},
   "outputs": [
    {
     "data": {
      "text/plain": [
       "<AxesSubplot:xlabel='approx_cost(for two people)', ylabel='Density'>"
      ]
     },
     "execution_count": 136,
     "metadata": {},
     "output_type": "execute_result"
    },
    {
     "data": {
      "image/png": "[encoded data removed]",
      "text/plain": [
       "<Figure size 640x480 with 1 Axes>"
      ]
     },
     "metadata": {},
     "output_type": "display_data"
    }
   ],
   "source": [
    "sns.distplot(data['approx_cost(for two people)'])\n",
    "\n",
    "### there is skewness in data .."
   ]
  },
  {
   "cell_type": "code",
   "execution_count": null,
   "id": "5b19a35a",
   "metadata": {},
   "outputs": [],
   "source": []
  },
  {
   "cell_type": "code",
   "execution_count": null,
   "id": "9d6b293b",
   "metadata": {},
   "outputs": [],
   "source": []
  },
  {
   "cell_type": "code",
   "execution_count": null,
   "id": "8a5963fa",
   "metadata": {},
   "outputs": [],
   "source": [
    "### lets do Log transformation  , since we have skewness ..."
   ]
  },
  {
   "cell_type": "code",
   "execution_count": null,
   "id": "0d27145a",
   "metadata": {},
   "outputs": [],
   "source": [
    "'''\n",
    "Logarithmic functions in numpy:\n",
    "\n",
    "log10() : Return the base 10 logarithm of the input array, element-wise.\n",
    "log2() :  Base-2 logarithm of x.\n",
    "log1p():  Return the natural logarithm of one plus the input array, element-wise having base e... ie log base-e(x+1) or log(x+1)\n",
    "log() :   Natural logarithm, element-wise having Base 'e'\n",
    "\n",
    "\n",
    "Our data could have value as 0 on account of some typo so lets use log1p, \n",
    "ie log1p = log(x+1) , bcz log(0) is undefined ..\n",
    "\n",
    "\n",
    "'''"
   ]
  },
  {
   "cell_type": "code",
   "execution_count": 138,
   "id": "448699ab",
   "metadata": {},
   "outputs": [
    {
     "data": {
      "text/plain": [
       "0        6.685861\n",
       "1        6.685861\n",
       "2        6.685861\n",
       "3        5.707110\n",
       "4        6.398595\n",
       "           ...   \n",
       "51709    6.685861\n",
       "51711    6.685861\n",
       "51712    7.313887\n",
       "51715    7.824446\n",
       "51716    7.313887\n",
       "Name: approx_cost(for two people), Length: 42144, dtype: float64"
      ]
     },
     "execution_count": 138,
     "metadata": {},
     "output_type": "execute_result"
    }
   ],
   "source": [
    "np.log1p(data['approx_cost(for two people)'])"
   ]
  },
  {
   "cell_type": "code",
   "execution_count": 139,
   "id": "97df4cd0",
   "metadata": {},
   "outputs": [
    {
     "data": {
      "text/plain": [
       "<AxesSubplot:xlabel='approx_cost(for two people)', ylabel='Density'>"
      ]
     },
     "execution_count": 139,
     "metadata": {},
     "output_type": "execute_result"
    },
    {
     "data": {
      "image/png": "[encoded data removed]",
      "text/plain": [
       "<Figure size 640x480 with 1 Axes>"
      ]
     },
     "metadata": {},
     "output_type": "display_data"
    }
   ],
   "source": [
    "sns.distplot(np.log1p(data['approx_cost(for two people)']))"
   ]
  },
  {
   "cell_type": "code",
   "execution_count": null,
   "id": "3aedb709",
   "metadata": {},
   "outputs": [],
   "source": []
  },
  {
   "cell_type": "code",
   "execution_count": 141,
   "id": "e64a05bc",
   "metadata": {},
   "outputs": [],
   "source": [
    "data['approx_cost(for two people)'] = np.log1p(data['approx_cost(for two people)'])"
   ]
  },
  {
   "cell_type": "code",
   "execution_count": 142,
   "id": "5fdd0ef5",
   "metadata": {},
   "outputs": [
    {
     "data": {
      "text/plain": [
       "0        6.685861\n",
       "1        6.685861\n",
       "2        6.685861\n",
       "3        5.707110\n",
       "4        6.398595\n",
       "           ...   \n",
       "51709    6.685861\n",
       "51711    6.685861\n",
       "51712    7.313887\n",
       "51715    7.824446\n",
       "51716    7.313887\n",
       "Name: approx_cost(for two people), Length: 42144, dtype: float64"
      ]
     },
     "execution_count": 142,
     "metadata": {},
     "output_type": "execute_result"
    }
   ],
   "source": [
    "data['approx_cost(for two people)']"
   ]
  },
  {
   "cell_type": "code",
   "execution_count": null,
   "id": "8cfdca92",
   "metadata": {},
   "outputs": [],
   "source": []
  },
  {
   "cell_type": "code",
   "execution_count": 143,
   "id": "e40ed001",
   "metadata": {},
   "outputs": [
    {
     "data": {
      "image/png": "[encoded data removed]",
      "text/plain": [
       "<Figure size 1200x800 with 4 Axes>"
      ]
     },
     "metadata": {},
     "output_type": "display_data"
    }
   ],
   "source": [
    "plt.figure(figsize=(12,8))\n",
    "\n",
    "plt.subplot(411)\n",
    "sns.histplot(data['approx_cost(for two people)'])\n",
    "\n",
    "plt.subplot(412)\n",
    "sns.boxplot(data['approx_cost(for two people)'])\n",
    "\n",
    "plt.subplot(413)\n",
    "sns.distplot(data['approx_cost(for two people)'])\n",
    "\n",
    "\n",
    "plt.subplot(414)\n",
    "stats.probplot(data['approx_cost(for two people)'] , plot=plt)\n",
    "\n",
    "plt.show()"
   ]
  },
  {
   "cell_type": "code",
   "execution_count": null,
   "id": "94a87902",
   "metadata": {},
   "outputs": [],
   "source": []
  },
  {
   "cell_type": "code",
   "execution_count": null,
   "id": "314b10f8",
   "metadata": {},
   "outputs": [],
   "source": []
  },
  {
   "cell_type": "code",
   "execution_count": null,
   "id": "e3618a9d",
   "metadata": {},
   "outputs": [],
   "source": []
  },
  {
   "cell_type": "code",
   "execution_count": 144,
   "id": "bebc093c",
   "metadata": {},
   "outputs": [
    {
     "data": {
      "text/plain": [
       "Index(['votes', 'location', 'approx_cost(for two people)', 'listed_in(city)',\n",
       "       'target', 'online_order_Yes', 'book_table_Yes',\n",
       "       'rest_type_Casual Dining', 'rest_type_Delivery',\n",
       "       'rest_type_Dessert Parlor', 'rest_type_Quick Bites', 'rest_type_other',\n",
       "       'listed_in(type)_Cafes', 'listed_in(type)_Delivery',\n",
       "       'listed_in(type)_Desserts', 'listed_in(type)_Dine-out',\n",
       "       'listed_in(type)_Drinks & nightlife', 'listed_in(type)_Pubs and bars'],\n",
       "      dtype='object')"
      ]
     },
     "execution_count": 144,
     "metadata": {},
     "output_type": "execute_result"
    }
   ],
   "source": [
    "data.columns"
   ]
  },
  {
   "cell_type": "code",
   "execution_count": 145,
   "id": "07487d74",
   "metadata": {},
   "outputs": [
    {
     "data": {
      "image/png": "[encoded data removed]",
      "text/plain": [
       "<Figure size 1200x800 with 4 Axes>"
      ]
     },
     "metadata": {},
     "output_type": "display_data"
    }
   ],
   "source": [
    "plt.figure(figsize=(12,8))\n",
    "\n",
    "plt.subplot(411)\n",
    "sns.histplot(data['votes'])\n",
    "\n",
    "plt.subplot(412)\n",
    "sns.boxplot(data['votes'])\n",
    "\n",
    "plt.subplot(413)\n",
    "sns.distplot(data['votes'])\n",
    "\n",
    "\n",
    "plt.subplot(414)\n",
    "stats.probplot(data['votes'] , plot=plt)\n",
    "\n",
    "plt.show()"
   ]
  },
  {
   "cell_type": "code",
   "execution_count": null,
   "id": "1e3868f4",
   "metadata": {},
   "outputs": [],
   "source": []
  },
  {
   "cell_type": "code",
   "execution_count": null,
   "id": "b4922425",
   "metadata": {},
   "outputs": [],
   "source": []
  },
  {
   "cell_type": "code",
   "execution_count": 147,
   "id": "53de2d90",
   "metadata": {},
   "outputs": [],
   "source": [
    "data['votes'] = np.log1p(data['votes'])"
   ]
  },
  {
   "cell_type": "code",
   "execution_count": 148,
   "id": "7a3adf5e",
   "metadata": {},
   "outputs": [
    {
     "data": {
      "image/png": "[encoded data removed]",
      "text/plain": [
       "<Figure size 1200x800 with 4 Axes>"
      ]
     },
     "metadata": {},
     "output_type": "display_data"
    }
   ],
   "source": [
    "plt.figure(figsize=(12,8))\n",
    "\n",
    "plt.subplot(411)\n",
    "sns.histplot(data['votes'])\n",
    "\n",
    "plt.subplot(412)\n",
    "sns.boxplot(data['votes'])\n",
    "\n",
    "plt.subplot(413)\n",
    "sns.distplot(data['votes'])\n",
    "\n",
    "\n",
    "plt.subplot(414)\n",
    "stats.probplot(data['votes'] , plot=plt)\n",
    "\n",
    "plt.show()"
   ]
  },
  {
   "cell_type": "code",
   "execution_count": null,
   "id": "d0b3f2d4",
   "metadata": {},
   "outputs": [],
   "source": []
  },
  {
   "cell_type": "code",
   "execution_count": null,
   "id": "52aa3cb0",
   "metadata": {},
   "outputs": [],
   "source": []
  },
  {
   "cell_type": "code",
   "execution_count": null,
   "id": "97759083",
   "metadata": {},
   "outputs": [],
   "source": []
  },
  {
   "cell_type": "code",
   "execution_count": null,
   "id": "4b3d2379",
   "metadata": {},
   "outputs": [],
   "source": []
  },
  {
   "cell_type": "markdown",
   "id": "8c323bb2",
   "metadata": {},
   "source": [
    "## 13.. Model building !"
   ]
  },
  {
   "cell_type": "code",
   "execution_count": 152,
   "id": "73e0f98a",
   "metadata": {},
   "outputs": [
    {
     "data": {
      "text/plain": [
       "votes                                 float64\n",
       "location                              float64\n",
       "approx_cost(for two people)           float64\n",
       "listed_in(city)                       float64\n",
       "target                                  int64\n",
       "online_order_Yes                        uint8\n",
       "book_table_Yes                          uint8\n",
       "rest_type_Casual Dining                 uint8\n",
       "rest_type_Delivery                      uint8\n",
       "rest_type_Dessert Parlor                uint8\n",
       "rest_type_Quick Bites                   uint8\n",
       "rest_type_other                         uint8\n",
       "listed_in(type)_Cafes                   uint8\n",
       "listed_in(type)_Delivery                uint8\n",
       "listed_in(type)_Desserts                uint8\n",
       "listed_in(type)_Dine-out                uint8\n",
       "listed_in(type)_Drinks & nightlife      uint8\n",
       "listed_in(type)_Pubs and bars           uint8\n",
       "dtype: object"
      ]
     },
     "execution_count": 152,
     "metadata": {},
     "output_type": "execute_result"
    }
   ],
   "source": [
    "data.dtypes"
   ]
  },
  {
   "cell_type": "code",
   "execution_count": null,
   "id": "882d8d82",
   "metadata": {},
   "outputs": [],
   "source": [
    "'''\n",
    "\n",
    "u : type character code for un-signed integers : \n",
    "\n",
    "Variations of unsigned integer are : ('uint64','uint32','uint16','uint8') in numpy library..\n",
    "\n",
    "\n",
    "uint8 is a 8 bit un-signed integer , it means it can store only positive values\n",
    "Range->> Integer values from (0 to 255) ie [0 to 2^8 -1]\n",
    "uint8 has a length of 8 bits (1 bytes). \n",
    "\n",
    "uint16 is a 16 bit un-signed integer , it means it can store only positive values\n",
    "Range->> Integer values from (0 to 65535) ie [0 to 2^16 -1]\n",
    "uint16 has a length of 16 bits (2 bytes).\n",
    "\n",
    "\n",
    "uint32 is a 32 bit un-signed integer , it means it can store only positive values\n",
    "Range->> Integer values from (0 to 4294967295) ie [0 to 2^32 -1]\n",
    "uint32 has a length of 32 bits (4 bytes).\n",
    "\n",
    "\n",
    "uint64 is a 64 bit un-signed integer , it means it can store only positive values\n",
    "Range->> Integer values from (0 to 18446744073709551615) ie [0 to 2^64 -1]\n",
    "uint64 has a length of 64 bits (8 bytes).\n",
    "\n",
    "\n",
    "'''"
   ]
  },
  {
   "cell_type": "code",
   "execution_count": 154,
   "id": "477ba554",
   "metadata": {},
   "outputs": [],
   "source": [
    "X = data.drop('target' , axis=1) ## independent data"
   ]
  },
  {
   "cell_type": "code",
   "execution_count": 156,
   "id": "bb10b443",
   "metadata": {},
   "outputs": [],
   "source": [
    "y = data['target'] ## Dependent or Target data "
   ]
  },
  {
   "cell_type": "code",
   "execution_count": null,
   "id": "c777ed7c",
   "metadata": {},
   "outputs": [],
   "source": []
  },
  {
   "cell_type": "code",
   "execution_count": 157,
   "id": "f8ce2ffb",
   "metadata": {},
   "outputs": [
    {
     "data": {
      "text/html": [
       "<div>\n",
       "<style scoped>\n",
       "    .dataframe tbody tr th:only-of-type {\n",
       "        vertical-align: middle;\n",
       "    }\n",
       "\n",
       "    .dataframe tbody tr th {\n",
       "        vertical-align: top;\n",
       "    }\n",
       "\n",
       "    .dataframe thead th {\n",
       "        text-align: right;\n",
       "    }\n",
       "</style>\n",
       "<table border=\"1\" class=\"dataframe\">\n",
       "  <thead>\n",
       "    <tr style=\"text-align: right;\">\n",
       "      <th></th>\n",
       "      <th>votes</th>\n",
       "      <th>location</th>\n",
       "      <th>approx_cost(for two people)</th>\n",
       "      <th>listed_in(city)</th>\n",
       "      <th>target</th>\n",
       "      <th>online_order_Yes</th>\n",
       "      <th>book_table_Yes</th>\n",
       "      <th>rest_type_Casual Dining</th>\n",
       "      <th>rest_type_Delivery</th>\n",
       "      <th>rest_type_Dessert Parlor</th>\n",
       "      <th>rest_type_Quick Bites</th>\n",
       "      <th>rest_type_other</th>\n",
       "      <th>listed_in(type)_Cafes</th>\n",
       "      <th>listed_in(type)_Delivery</th>\n",
       "      <th>listed_in(type)_Desserts</th>\n",
       "      <th>listed_in(type)_Dine-out</th>\n",
       "      <th>listed_in(type)_Drinks &amp; nightlife</th>\n",
       "      <th>listed_in(type)_Pubs and bars</th>\n",
       "    </tr>\n",
       "  </thead>\n",
       "  <tbody>\n",
       "    <tr>\n",
       "      <th>0</th>\n",
       "      <td>6.654153</td>\n",
       "      <td>0.477124</td>\n",
       "      <td>6.685861</td>\n",
       "      <td>0.477124</td>\n",
       "      <td>1</td>\n",
       "      <td>1</td>\n",
       "      <td>1</td>\n",
       "      <td>1</td>\n",
       "      <td>0</td>\n",
       "      <td>0</td>\n",
       "      <td>0</td>\n",
       "      <td>0</td>\n",
       "      <td>0</td>\n",
       "      <td>0</td>\n",
       "      <td>0</td>\n",
       "      <td>0</td>\n",
       "      <td>0</td>\n",
       "      <td>0</td>\n",
       "    </tr>\n",
       "    <tr>\n",
       "      <th>1</th>\n",
       "      <td>6.669498</td>\n",
       "      <td>0.477124</td>\n",
       "      <td>6.685861</td>\n",
       "      <td>0.477124</td>\n",
       "      <td>1</td>\n",
       "      <td>1</td>\n",
       "      <td>0</td>\n",
       "      <td>1</td>\n",
       "      <td>0</td>\n",
       "      <td>0</td>\n",
       "      <td>0</td>\n",
       "      <td>0</td>\n",
       "      <td>0</td>\n",
       "      <td>0</td>\n",
       "      <td>0</td>\n",
       "      <td>0</td>\n",
       "      <td>0</td>\n",
       "      <td>0</td>\n",
       "    </tr>\n",
       "    <tr>\n",
       "      <th>2</th>\n",
       "      <td>6.823286</td>\n",
       "      <td>0.477124</td>\n",
       "      <td>6.685861</td>\n",
       "      <td>0.477124</td>\n",
       "      <td>1</td>\n",
       "      <td>1</td>\n",
       "      <td>0</td>\n",
       "      <td>0</td>\n",
       "      <td>0</td>\n",
       "      <td>0</td>\n",
       "      <td>0</td>\n",
       "      <td>1</td>\n",
       "      <td>0</td>\n",
       "      <td>0</td>\n",
       "      <td>0</td>\n",
       "      <td>0</td>\n",
       "      <td>0</td>\n",
       "      <td>0</td>\n",
       "    </tr>\n",
       "    <tr>\n",
       "      <th>3</th>\n",
       "      <td>4.488636</td>\n",
       "      <td>0.477124</td>\n",
       "      <td>5.707110</td>\n",
       "      <td>0.477124</td>\n",
       "      <td>0</td>\n",
       "      <td>0</td>\n",
       "      <td>0</td>\n",
       "      <td>0</td>\n",
       "      <td>0</td>\n",
       "      <td>0</td>\n",
       "      <td>1</td>\n",
       "      <td>0</td>\n",
       "      <td>0</td>\n",
       "      <td>0</td>\n",
       "      <td>0</td>\n",
       "      <td>0</td>\n",
       "      <td>0</td>\n",
       "      <td>0</td>\n",
       "    </tr>\n",
       "    <tr>\n",
       "      <th>4</th>\n",
       "      <td>5.117994</td>\n",
       "      <td>0.523333</td>\n",
       "      <td>6.398595</td>\n",
       "      <td>0.477124</td>\n",
       "      <td>1</td>\n",
       "      <td>0</td>\n",
       "      <td>0</td>\n",
       "      <td>1</td>\n",
       "      <td>0</td>\n",
       "      <td>0</td>\n",
       "      <td>0</td>\n",
       "      <td>0</td>\n",
       "      <td>0</td>\n",
       "      <td>0</td>\n",
       "      <td>0</td>\n",
       "      <td>0</td>\n",
       "      <td>0</td>\n",
       "      <td>0</td>\n",
       "    </tr>\n",
       "    <tr>\n",
       "      <th>...</th>\n",
       "      <td>...</td>\n",
       "      <td>...</td>\n",
       "      <td>...</td>\n",
       "      <td>...</td>\n",
       "      <td>...</td>\n",
       "      <td>...</td>\n",
       "      <td>...</td>\n",
       "      <td>...</td>\n",
       "      <td>...</td>\n",
       "      <td>...</td>\n",
       "      <td>...</td>\n",
       "      <td>...</td>\n",
       "      <td>...</td>\n",
       "      <td>...</td>\n",
       "      <td>...</td>\n",
       "      <td>...</td>\n",
       "      <td>...</td>\n",
       "      <td>...</td>\n",
       "    </tr>\n",
       "    <tr>\n",
       "      <th>51709</th>\n",
       "      <td>3.555348</td>\n",
       "      <td>0.404599</td>\n",
       "      <td>6.685861</td>\n",
       "      <td>0.404599</td>\n",
       "      <td>0</td>\n",
       "      <td>0</td>\n",
       "      <td>0</td>\n",
       "      <td>0</td>\n",
       "      <td>0</td>\n",
       "      <td>0</td>\n",
       "      <td>0</td>\n",
       "      <td>1</td>\n",
       "      <td>0</td>\n",
       "      <td>0</td>\n",
       "      <td>0</td>\n",
       "      <td>0</td>\n",
       "      <td>0</td>\n",
       "      <td>1</td>\n",
       "    </tr>\n",
       "    <tr>\n",
       "      <th>51711</th>\n",
       "      <td>4.406719</td>\n",
       "      <td>0.404599</td>\n",
       "      <td>6.685861</td>\n",
       "      <td>0.404599</td>\n",
       "      <td>0</td>\n",
       "      <td>0</td>\n",
       "      <td>0</td>\n",
       "      <td>0</td>\n",
       "      <td>0</td>\n",
       "      <td>0</td>\n",
       "      <td>0</td>\n",
       "      <td>1</td>\n",
       "      <td>0</td>\n",
       "      <td>0</td>\n",
       "      <td>0</td>\n",
       "      <td>0</td>\n",
       "      <td>0</td>\n",
       "      <td>1</td>\n",
       "    </tr>\n",
       "    <tr>\n",
       "      <th>51712</th>\n",
       "      <td>3.332205</td>\n",
       "      <td>0.404599</td>\n",
       "      <td>7.313887</td>\n",
       "      <td>0.404599</td>\n",
       "      <td>0</td>\n",
       "      <td>0</td>\n",
       "      <td>0</td>\n",
       "      <td>0</td>\n",
       "      <td>0</td>\n",
       "      <td>0</td>\n",
       "      <td>0</td>\n",
       "      <td>1</td>\n",
       "      <td>0</td>\n",
       "      <td>0</td>\n",
       "      <td>0</td>\n",
       "      <td>0</td>\n",
       "      <td>0</td>\n",
       "      <td>1</td>\n",
       "    </tr>\n",
       "    <tr>\n",
       "      <th>51715</th>\n",
       "      <td>5.468060</td>\n",
       "      <td>0.329670</td>\n",
       "      <td>7.824446</td>\n",
       "      <td>0.404599</td>\n",
       "      <td>1</td>\n",
       "      <td>0</td>\n",
       "      <td>1</td>\n",
       "      <td>0</td>\n",
       "      <td>0</td>\n",
       "      <td>0</td>\n",
       "      <td>0</td>\n",
       "      <td>1</td>\n",
       "      <td>0</td>\n",
       "      <td>0</td>\n",
       "      <td>0</td>\n",
       "      <td>0</td>\n",
       "      <td>0</td>\n",
       "      <td>1</td>\n",
       "    </tr>\n",
       "    <tr>\n",
       "      <th>51716</th>\n",
       "      <td>2.639057</td>\n",
       "      <td>0.329670</td>\n",
       "      <td>7.313887</td>\n",
       "      <td>0.404599</td>\n",
       "      <td>0</td>\n",
       "      <td>0</td>\n",
       "      <td>0</td>\n",
       "      <td>0</td>\n",
       "      <td>0</td>\n",
       "      <td>0</td>\n",
       "      <td>0</td>\n",
       "      <td>1</td>\n",
       "      <td>0</td>\n",
       "      <td>0</td>\n",
       "      <td>0</td>\n",
       "      <td>0</td>\n",
       "      <td>0</td>\n",
       "      <td>1</td>\n",
       "    </tr>\n",
       "  </tbody>\n",
       "</table>\n",
       "<p>42144 rows × 18 columns</p>\n",
       "</div>"
      ],
      "text/plain": [
       "          votes  location  approx_cost(for two people)  listed_in(city)  \\\n",
       "0      6.654153  0.477124                     6.685861         0.477124   \n",
       "1      6.669498  0.477124                     6.685861         0.477124   \n",
       "2      6.823286  0.477124                     6.685861         0.477124   \n",
       "3      4.488636  0.477124                     5.707110         0.477124   \n",
       "4      5.117994  0.523333                     6.398595         0.477124   \n",
       "...         ...       ...                          ...              ...   \n",
       "51709  3.555348  0.404599                     6.685861         0.404599   \n",
       "51711  4.406719  0.404599                     6.685861         0.404599   \n",
       "51712  3.332205  0.404599                     7.313887         0.404599   \n",
       "51715  5.468060  0.329670                     7.824446         0.404599   \n",
       "51716  2.639057  0.329670                     7.313887         0.404599   \n",
       "\n",
       "       target  online_order_Yes  book_table_Yes  rest_type_Casual Dining  \\\n",
       "0           1                 1               1                        1   \n",
       "1           1                 1               0                        1   \n",
       "2           1                 1               0                        0   \n",
       "3           0                 0               0                        0   \n",
       "4           1                 0               0                        1   \n",
       "...       ...               ...             ...                      ...   \n",
       "51709       0                 0               0                        0   \n",
       "51711       0                 0               0                        0   \n",
       "51712       0                 0               0                        0   \n",
       "51715       1                 0               1                        0   \n",
       "51716       0                 0               0                        0   \n",
       "\n",
       "       rest_type_Delivery  rest_type_Dessert Parlor  rest_type_Quick Bites  \\\n",
       "0                       0                         0                      0   \n",
       "1                       0                         0                      0   \n",
       "2                       0                         0                      0   \n",
       "3                       0                         0                      1   \n",
       "4                       0                         0                      0   \n",
       "...                   ...                       ...                    ...   \n",
       "51709                   0                         0                      0   \n",
       "51711                   0                         0                      0   \n",
       "51712                   0                         0                      0   \n",
       "51715                   0                         0                      0   \n",
       "51716                   0                         0                      0   \n",
       "\n",
       "       rest_type_other  listed_in(type)_Cafes  listed_in(type)_Delivery  \\\n",
       "0                    0                      0                         0   \n",
       "1                    0                      0                         0   \n",
       "2                    1                      0                         0   \n",
       "3                    0                      0                         0   \n",
       "4                    0                      0                         0   \n",
       "...                ...                    ...                       ...   \n",
       "51709                1                      0                         0   \n",
       "51711                1                      0                         0   \n",
       "51712                1                      0                         0   \n",
       "51715                1                      0                         0   \n",
       "51716                1                      0                         0   \n",
       "\n",
       "       listed_in(type)_Desserts  listed_in(type)_Dine-out  \\\n",
       "0                             0                         0   \n",
       "1                             0                         0   \n",
       "2                             0                         0   \n",
       "3                             0                         0   \n",
       "4                             0                         0   \n",
       "...                         ...                       ...   \n",
       "51709                         0                         0   \n",
       "51711                         0                         0   \n",
       "51712                         0                         0   \n",
       "51715                         0                         0   \n",
       "51716                         0                         0   \n",
       "\n",
       "       listed_in(type)_Drinks & nightlife  listed_in(type)_Pubs and bars  \n",
       "0                                       0                              0  \n",
       "1                                       0                              0  \n",
       "2                                       0                              0  \n",
       "3                                       0                              0  \n",
       "4                                       0                              0  \n",
       "...                                   ...                            ...  \n",
       "51709                                   0                              1  \n",
       "51711                                   0                              1  \n",
       "51712                                   0                              1  \n",
       "51715                                   0                              1  \n",
       "51716                                   0                              1  \n",
       "\n",
       "[42144 rows x 18 columns]"
      ]
     },
     "execution_count": 157,
     "metadata": {},
     "output_type": "execute_result"
    }
   ],
   "source": [
    "data"
   ]
  },
  {
   "cell_type": "code",
   "execution_count": null,
   "id": "683be66b",
   "metadata": {},
   "outputs": [],
   "source": []
  },
  {
   "cell_type": "code",
   "execution_count": null,
   "id": "23ebca62",
   "metadata": {},
   "outputs": [],
   "source": []
  },
  {
   "cell_type": "code",
   "execution_count": 158,
   "id": "a257b5db",
   "metadata": {},
   "outputs": [],
   "source": [
    "from sklearn.model_selection import train_test_split"
   ]
  },
  {
   "cell_type": "code",
   "execution_count": 162,
   "id": "20f877a4",
   "metadata": {},
   "outputs": [],
   "source": [
    "## getting training & testing data !\n",
    "X_train, X_test, y_train, y_test = train_test_split(X, y, test_size=0.25, random_state=42)"
   ]
  },
  {
   "cell_type": "code",
   "execution_count": 163,
   "id": "8e56d8b4",
   "metadata": {},
   "outputs": [
    {
     "data": {
      "text/plain": [
       "(31608, 17)"
      ]
     },
     "execution_count": 163,
     "metadata": {},
     "output_type": "execute_result"
    }
   ],
   "source": [
    "X_train.shape"
   ]
  },
  {
   "cell_type": "code",
   "execution_count": 164,
   "id": "358a6925",
   "metadata": {},
   "outputs": [
    {
     "data": {
      "text/plain": [
       "(42144, 18)"
      ]
     },
     "execution_count": 164,
     "metadata": {},
     "output_type": "execute_result"
    }
   ],
   "source": [
    "data.shape"
   ]
  },
  {
   "cell_type": "code",
   "execution_count": 165,
   "id": "84c19f86",
   "metadata": {},
   "outputs": [],
   "source": [
    "# Import the random forest model.\n",
    "from sklearn.ensemble import RandomForestClassifier"
   ]
  },
  {
   "cell_type": "code",
   "execution_count": 166,
   "id": "0b807f15",
   "metadata": {},
   "outputs": [],
   "source": [
    "# Initialize the model with default value of parameters..\n",
    "rf_model = RandomForestClassifier()"
   ]
  },
  {
   "cell_type": "code",
   "execution_count": 167,
   "id": "2583f17e",
   "metadata": {},
   "outputs": [
    {
     "data": {
      "text/plain": [
       "RandomForestClassifier()"
      ]
     },
     "execution_count": 167,
     "metadata": {},
     "output_type": "execute_result"
    }
   ],
   "source": [
    "# Fit the model to the data...\n",
    "rf_model.fit(X_train , y_train)"
   ]
  },
  {
   "cell_type": "code",
   "execution_count": 169,
   "id": "dcfab5e1",
   "metadata": {},
   "outputs": [],
   "source": [
    "# Make predictions..\n",
    "\n",
    "predictions = rf_model.predict(X_test)"
   ]
  },
  {
   "cell_type": "code",
   "execution_count": 170,
   "id": "758c2dfa",
   "metadata": {},
   "outputs": [
    {
     "data": {
      "text/plain": [
       "array([0, 1, 1, ..., 0, 0, 1], dtype=int64)"
      ]
     },
     "execution_count": 170,
     "metadata": {},
     "output_type": "execute_result"
    }
   ],
   "source": [
    "predictions"
   ]
  },
  {
   "cell_type": "code",
   "execution_count": null,
   "id": "ce62b3c1",
   "metadata": {},
   "outputs": [],
   "source": []
  },
  {
   "cell_type": "code",
   "execution_count": 171,
   "id": "b4c5b0a7",
   "metadata": {},
   "outputs": [],
   "source": [
    "from sklearn.metrics import accuracy_score , confusion_matrix"
   ]
  },
  {
   "cell_type": "code",
   "execution_count": 172,
   "id": "d7e45609",
   "metadata": {},
   "outputs": [
    {
     "data": {
      "text/plain": [
       "0.9069855732725892"
      ]
     },
     "execution_count": 172,
     "metadata": {},
     "output_type": "execute_result"
    }
   ],
   "source": [
    "accuracy_score(predictions , y_test)"
   ]
  },
  {
   "cell_type": "code",
   "execution_count": 173,
   "id": "0d36e68d",
   "metadata": {},
   "outputs": [
    {
     "data": {
      "text/plain": [
       "array([[4926,  499],\n",
       "       [ 481, 4630]], dtype=int64)"
      ]
     },
     "execution_count": 173,
     "metadata": {},
     "output_type": "execute_result"
    }
   ],
   "source": [
    "# Compute the error.. \\\n",
    "\n",
    "confusion_matrix(predictions , y_test)"
   ]
  },
  {
   "cell_type": "code",
   "execution_count": null,
   "id": "d8d7cad3",
   "metadata": {},
   "outputs": [],
   "source": []
  },
  {
   "cell_type": "code",
   "execution_count": null,
   "id": "890d54e6",
   "metadata": {},
   "outputs": [],
   "source": []
  },
  {
   "cell_type": "code",
   "execution_count": null,
   "id": "87582322",
   "metadata": {},
   "outputs": [],
   "source": []
  },
  {
   "cell_type": "code",
   "execution_count": null,
   "id": "dacb9c06",
   "metadata": {},
   "outputs": [],
   "source": []
  },
  {
   "cell_type": "markdown",
   "id": "ff45142e",
   "metadata": {},
   "source": [
    "## 14.. model hypertuning !"
   ]
  },
  {
   "cell_type": "code",
   "execution_count": null,
   "id": "93c1b973",
   "metadata": {},
   "outputs": [],
   "source": [
    "#RandomForestClassifier()"
   ]
  },
  {
   "cell_type": "code",
   "execution_count": null,
   "id": "8825f72d",
   "metadata": {},
   "outputs": [],
   "source": []
  },
  {
   "cell_type": "code",
   "execution_count": 177,
   "id": "61f8e166",
   "metadata": {},
   "outputs": [],
   "source": [
    "# Number of trees in random forest\n",
    "n_estimators = [int(x) for x in np.linspace(100 , 1200 , num=3)] \n",
    "\n",
    "# Number of features to consider at every split\n",
    "max_features = [\"auto\", \"sqrt\"]\n",
    "\n",
    "# Maximum number of levels in tree\n",
    "max_depth = [int(x) for x in np.linspace(5 ,30 , num=3)]\n",
    "\n",
    "# Minimum number of samples required to split a node\n",
    "min_samples_split= [5 , 10 , 100]"
   ]
  },
  {
   "cell_type": "code",
   "execution_count": null,
   "id": "fe158da8",
   "metadata": {},
   "outputs": [],
   "source": []
  },
  {
   "cell_type": "code",
   "execution_count": 178,
   "id": "cb1b9ab4",
   "metadata": {},
   "outputs": [],
   "source": [
    "\n",
    "# Create the random grid or hyper-parameter space\n",
    "\n",
    "random_grid = {\n",
    "    'n_estimators':n_estimators , \n",
    "    'max_features' : max_features , \n",
    "    'max_depth' : max_depth , \n",
    "    'min_samples_split' : min_samples_split\n",
    "}"
   ]
  },
  {
   "cell_type": "code",
   "execution_count": 179,
   "id": "62c923a2",
   "metadata": {},
   "outputs": [
    {
     "data": {
      "text/plain": [
       "{'n_estimators': [100, 650, 1200],\n",
       " 'max_features': ['auto', 'sqrt'],\n",
       " 'max_depth': [5, 17, 30],\n",
       " 'min_samples_split': [5, 10, 100]}"
      ]
     },
     "execution_count": 179,
     "metadata": {},
     "output_type": "execute_result"
    }
   ],
   "source": [
    "random_grid"
   ]
  },
  {
   "cell_type": "code",
   "execution_count": 1,
   "id": "8ebf6db3",
   "metadata": {},
   "outputs": [
    {
     "data": {
      "text/plain": [
       "108"
      ]
     },
     "execution_count": 1,
     "metadata": {},
     "output_type": "execute_result"
    }
   ],
   "source": [
    "## total iterations\n",
    "3*2*3*3 *2"
   ]
  },
  {
   "cell_type": "code",
   "execution_count": null,
   "id": "fbae6109",
   "metadata": {},
   "outputs": [],
   "source": []
  },
  {
   "cell_type": "code",
   "execution_count": 180,
   "id": "c5576d24",
   "metadata": {},
   "outputs": [],
   "source": [
    "from sklearn.model_selection import RandomizedSearchCV"
   ]
  },
  {
   "cell_type": "code",
   "execution_count": 181,
   "id": "121d83da",
   "metadata": {},
   "outputs": [],
   "source": [
    "estimator = RandomForestClassifier() ### initialise your estimator"
   ]
  },
  {
   "cell_type": "code",
   "execution_count": null,
   "id": "3b6a504c",
   "metadata": {},
   "outputs": [],
   "source": [
    "## Define searching\n",
    "\n",
    "# Random search of parameters, using 2 fold cross validation\n",
    "# search across 108 different combinations"
   ]
  },
  {
   "cell_type": "code",
   "execution_count": 182,
   "id": "f546563c",
   "metadata": {},
   "outputs": [],
   "source": [
    "rf_random = RandomizedSearchCV(estimator = estimator , param_distributions= random_grid , cv=2 , verbose=2 , n_jobs=-1)"
   ]
  },
  {
   "cell_type": "code",
   "execution_count": 183,
   "id": "4f0aacef",
   "metadata": {},
   "outputs": [
    {
     "name": "stdout",
     "output_type": "stream",
     "text": [
      "Fitting 2 folds for each of 10 candidates, totalling 20 fits\n"
     ]
    },
    {
     "data": {
      "text/plain": [
       "RandomizedSearchCV(cv=2, estimator=RandomForestClassifier(), n_jobs=-1,\n",
       "                   param_distributions={'max_depth': [5, 17, 30],\n",
       "                                        'max_features': ['auto', 'sqrt'],\n",
       "                                        'min_samples_split': [5, 10, 100],\n",
       "                                        'n_estimators': [100, 650, 1200]},\n",
       "                   verbose=2)"
      ]
     },
     "execution_count": 183,
     "metadata": {},
     "output_type": "execute_result"
    }
   ],
   "source": [
    "rf_random.fit(X_train , y_train)"
   ]
  },
  {
   "cell_type": "code",
   "execution_count": 184,
   "id": "d8d19ba7",
   "metadata": {},
   "outputs": [
    {
     "data": {
      "text/plain": [
       "{'n_estimators': 650,\n",
       " 'min_samples_split': 5,\n",
       " 'max_features': 'sqrt',\n",
       " 'max_depth': 30}"
      ]
     },
     "execution_count": 184,
     "metadata": {},
     "output_type": "execute_result"
    }
   ],
   "source": [
    "rf_random.best_params_ ## getting best values of parameters"
   ]
  },
  {
   "cell_type": "code",
   "execution_count": 186,
   "id": "14075e16",
   "metadata": {},
   "outputs": [
    {
     "data": {
      "text/plain": [
       "RandomForestClassifier(max_depth=30, max_features='sqrt', min_samples_split=5,\n",
       "                       n_estimators=650)"
      ]
     },
     "execution_count": 186,
     "metadata": {},
     "output_type": "execute_result"
    }
   ],
   "source": [
    "rf_random.best_estimator_ ## getting best model(ie optimised model)"
   ]
  },
  {
   "cell_type": "code",
   "execution_count": 188,
   "id": "3559d931",
   "metadata": {},
   "outputs": [],
   "source": [
    "rf_opt = RandomForestClassifier(max_depth=30, max_features='sqrt', min_samples_split=5,\n",
    "                       n_estimators=650)"
   ]
  },
  {
   "cell_type": "code",
   "execution_count": 190,
   "id": "2d8ab266",
   "metadata": {},
   "outputs": [
    {
     "data": {
      "text/plain": [
       "RandomForestClassifier(max_depth=30, max_features='sqrt', min_samples_split=5,\n",
       "                       n_estimators=650)"
      ]
     },
     "execution_count": 190,
     "metadata": {},
     "output_type": "execute_result"
    }
   ],
   "source": [
    "rf_opt.fit(X_train , y_train)"
   ]
  },
  {
   "cell_type": "code",
   "execution_count": 191,
   "id": "4a8f2d25",
   "metadata": {},
   "outputs": [],
   "source": [
    "predictions_opt = rf_opt.predict(X_test)"
   ]
  },
  {
   "cell_type": "code",
   "execution_count": 192,
   "id": "e53c365c",
   "metadata": {},
   "outputs": [
    {
     "data": {
      "text/plain": [
       "array([0, 1, 1, ..., 0, 0, 1], dtype=int64)"
      ]
     },
     "execution_count": 192,
     "metadata": {},
     "output_type": "execute_result"
    }
   ],
   "source": [
    "predictions_opt"
   ]
  },
  {
   "cell_type": "code",
   "execution_count": 193,
   "id": "bdb9ba8a",
   "metadata": {},
   "outputs": [
    {
     "data": {
      "text/plain": [
       "0.9021450265755505"
      ]
     },
     "execution_count": 193,
     "metadata": {},
     "output_type": "execute_result"
    }
   ],
   "source": [
    "accuracy_score(predictions_opt , y_test)"
   ]
  },
  {
   "cell_type": "code",
   "execution_count": null,
   "id": "664482e1",
   "metadata": {},
   "outputs": [],
   "source": []
  },
  {
   "cell_type": "code",
   "execution_count": null,
   "id": "c74ae0ce",
   "metadata": {},
   "outputs": [],
   "source": []
  },
  {
   "cell_type": "code",
   "execution_count": null,
   "id": "21403606",
   "metadata": {},
   "outputs": [],
   "source": []
  },
  {
   "cell_type": "code",
   "execution_count": null,
   "id": "66e31a89",
   "metadata": {},
   "outputs": [],
   "source": []
  },
  {
   "cell_type": "code",
   "execution_count": null,
   "id": "922f09ae",
   "metadata": {},
   "outputs": [],
   "source": []
  }
 ],
 "metadata": {
  "kernelspec": {
   "display_name": "Python 3 (ipykernel)",
   "language": "python",
   "name": "python3"
  },
  "language_info": {
   "codemirror_mode": {
    "name": "ipython",
    "version": 3
   },
   "file_extension": ".py",
   "mimetype": "text/x-python",
   "name": "python",
   "nbconvert_exporter": "python",
   "pygments_lexer": "ipython3",
   "version": "3.11.5"
  }
 },
 "nbformat": 4,
 "nbformat_minor": 5
}
