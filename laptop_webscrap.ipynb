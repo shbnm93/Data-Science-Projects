{
  "nbformat": 4,
  "nbformat_minor": 0,
  "metadata": {
    "colab": {
      "provenance": [],
      "authorship_tag": "ABX9TyM99R8Z4N5rEcri3Izl3QQJ",
      "include_colab_link": true
    },
    "kernelspec": {
      "name": "python3",
      "display_name": "Python 3"
    },
    "language_info": {
      "name": "python"
    }
  },
  "cells": [
    {
      "cell_type": "markdown",
      "metadata": {
        "id": "view-in-github",
        "colab_type": "text"
      },
      "source": [
        "<a href=\"https://colab.research.google.com/github/shbnm93/Data-Science-Projects/blob/main/laptop_webscrap.ipynb\" target=\"_parent\"><img src=\"https://colab.research.google.com/assets/colab-badge.svg\" alt=\"Open In Colab\"/></a>"
      ]
    },
    {
      "cell_type": "code",
      "execution_count": 1,
      "metadata": {
        "id": "DOIQu5bWwyK-"
      },
      "outputs": [],
      "source": [
        "import numpy as np\n",
        "import pandas as pd\n",
        "import matplotlib.pyplot as plt\n",
        "import seaborn as sns\n",
        "from urllib.request import urlopen\n",
        "import requests\n",
        "import time\n",
        "from bs4 import BeautifulSoup as bts\n",
        "pd.set_option('display.max_rows', 2000)\n",
        "pd.set_option('display.max_columns', 100)"
      ]
    },
    {
      "cell_type": "code",
      "source": [
        "def getAndParseURL(url):\n",
        "    result = requests.get(url ,headers={\"User-Agent\":\"Chrome/96.0.4664.92\"})\n",
        "    soup = bts(result.text, 'html.parser')\n",
        "    return soup"
      ],
      "metadata": {
        "id": "3YJlju__xNXG"
      },
      "execution_count": 2,
      "outputs": []
    },
    {
      "cell_type": "code",
      "source": [
        "PAGE_LINKS = []\n",
        "def getPageLinks() :\n",
        "    html = getAndParseURL(\"https://www.hepsiburada.com/laptop-notebook-dizustu-bilgisayarlar-c-98\")\n",
        "    for i in range(1,23) :\n",
        "            PAGE_LINKS.append(\"https://www.hepsiburada.com/laptop-notebook-dizustu-bilgisayarlar-c-98\" + \"?sayfa=\" +str(i))\n",
        "    return PAGE_LINKS\n",
        "getPageLinks()"
      ],
      "metadata": {
        "colab": {
          "base_uri": "https://localhost:8080/"
        },
        "id": "QO0wbo1zxW_u",
        "outputId": "2840c37c-1922-4761-c289-5047130f824c"
      },
      "execution_count": 3,
      "outputs": [
        {
          "output_type": "execute_result",
          "data": {
            "text/plain": [
              "['https://www.hepsiburada.com/laptop-notebook-dizustu-bilgisayarlar-c-98?sayfa=1',\n",
              " 'https://www.hepsiburada.com/laptop-notebook-dizustu-bilgisayarlar-c-98?sayfa=2',\n",
              " 'https://www.hepsiburada.com/laptop-notebook-dizustu-bilgisayarlar-c-98?sayfa=3',\n",
              " 'https://www.hepsiburada.com/laptop-notebook-dizustu-bilgisayarlar-c-98?sayfa=4',\n",
              " 'https://www.hepsiburada.com/laptop-notebook-dizustu-bilgisayarlar-c-98?sayfa=5',\n",
              " 'https://www.hepsiburada.com/laptop-notebook-dizustu-bilgisayarlar-c-98?sayfa=6',\n",
              " 'https://www.hepsiburada.com/laptop-notebook-dizustu-bilgisayarlar-c-98?sayfa=7',\n",
              " 'https://www.hepsiburada.com/laptop-notebook-dizustu-bilgisayarlar-c-98?sayfa=8',\n",
              " 'https://www.hepsiburada.com/laptop-notebook-dizustu-bilgisayarlar-c-98?sayfa=9',\n",
              " 'https://www.hepsiburada.com/laptop-notebook-dizustu-bilgisayarlar-c-98?sayfa=10',\n",
              " 'https://www.hepsiburada.com/laptop-notebook-dizustu-bilgisayarlar-c-98?sayfa=11',\n",
              " 'https://www.hepsiburada.com/laptop-notebook-dizustu-bilgisayarlar-c-98?sayfa=12',\n",
              " 'https://www.hepsiburada.com/laptop-notebook-dizustu-bilgisayarlar-c-98?sayfa=13',\n",
              " 'https://www.hepsiburada.com/laptop-notebook-dizustu-bilgisayarlar-c-98?sayfa=14',\n",
              " 'https://www.hepsiburada.com/laptop-notebook-dizustu-bilgisayarlar-c-98?sayfa=15',\n",
              " 'https://www.hepsiburada.com/laptop-notebook-dizustu-bilgisayarlar-c-98?sayfa=16',\n",
              " 'https://www.hepsiburada.com/laptop-notebook-dizustu-bilgisayarlar-c-98?sayfa=17',\n",
              " 'https://www.hepsiburada.com/laptop-notebook-dizustu-bilgisayarlar-c-98?sayfa=18',\n",
              " 'https://www.hepsiburada.com/laptop-notebook-dizustu-bilgisayarlar-c-98?sayfa=19',\n",
              " 'https://www.hepsiburada.com/laptop-notebook-dizustu-bilgisayarlar-c-98?sayfa=20',\n",
              " 'https://www.hepsiburada.com/laptop-notebook-dizustu-bilgisayarlar-c-98?sayfa=21',\n",
              " 'https://www.hepsiburada.com/laptop-notebook-dizustu-bilgisayarlar-c-98?sayfa=22']"
            ]
          },
          "metadata": {},
          "execution_count": 3
        }
      ]
    },
    {
      "cell_type": "code",
      "source": [
        "PRODUCT_LINKS = []\n",
        "def getProductLinks() :\n",
        "\n",
        "    for pageLink in getPageLinks(url) :\n",
        "        html = getAndParseURL(pageLink)\n",
        "        for i in html.findAll(\"div\",{\"class\":\"s1cegxbo-1 cACjAF\"}) :\n",
        "            for b in i.findAll(\"div\",{\"class\":\"z7ntrt-0 cfoZhx s1a29zcm-11 ggOMjb\"}) :\n",
        "                for c in b.findAll(\"a\",{\"class\":\"link-detail\"}) :\n",
        "                    PRODUCT_LINKS.append(\"https://www.cimri.com\" + c[\"href\"])\n",
        "\n",
        "    return PRODUCT_LINKS"
      ],
      "metadata": {
        "id": "egzb5-Mj0SQg"
      },
      "execution_count": 4,
      "outputs": []
    }
  ]
}