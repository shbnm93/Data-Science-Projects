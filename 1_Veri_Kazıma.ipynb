{
  "nbformat": 4,
  "nbformat_minor": 0,
  "metadata": {
    "colab": {
      "provenance": [],
      "authorship_tag": "ABX9TyO40/5yHDgJWThrCPC7sT52",
      "include_colab_link": true
    },
    "kernelspec": {
      "name": "python3",
      "display_name": "Python 3"
    },
    "language_info": {
      "name": "python"
    }
  },
  "cells": [
    {
      "cell_type": "markdown",
      "metadata": {
        "id": "view-in-github",
        "colab_type": "text"
      },
      "source": [
        "<a href=\"https://colab.research.google.com/github/shbnm93/Data-Science-Projects/blob/main/1_Veri_Kaz%C4%B1ma.ipynb\" target=\"_parent\"><img src=\"https://colab.research.google.com/assets/colab-badge.svg\" alt=\"Open In Colab\"/></a>"
      ]
    },
    {
      "cell_type": "markdown",
      "source": [
        "https://finance.yahoo.com/quote/EURUSD=X/\n",
        "Verilen bir URL'den güncel döviz kuru bilgisini çeken ve verilen  USD miktarını EUR ye dönüştüren bir Python scripti.\n"
      ],
      "metadata": {
        "id": "0sSoX339xu1_"
      }
    },
    {
      "cell_type": "code",
      "execution_count": 1,
      "metadata": {
        "id": "xXrGUwmxjPa6"
      },
      "outputs": [],
      "source": [
        "import requests\n",
        "from bs4 import BeautifulSoup\n",
        "import re"
      ]
    },
    {
      "cell_type": "code",
      "source": [
        "url = 'https://finance.yahoo.com/quote/EURUSD=X/'"
      ],
      "metadata": {
        "id": "jAMdNWvzjyl5"
      },
      "execution_count": 2,
      "outputs": []
    },
    {
      "cell_type": "code",
      "source": [
        "# Fetch the html content\n",
        "response = requests.get(url)\n",
        "soup = BeautifulSoup(response.text, 'html.parser')"
      ],
      "metadata": {
        "id": "42dDzbnwj2CY"
      },
      "execution_count": 3,
      "outputs": []
    },
    {
      "cell_type": "code",
      "source": [
        "# Find the exchange rate text\n",
        "rate_text = soup.find('fin-streamer', {'class':'Fw(b) Fz(36px) Mb(-4px) D(ib)'}).text"
      ],
      "metadata": {
        "id": "a6VcNThQj3ZZ"
      },
      "execution_count": 4,
      "outputs": []
    },
    {
      "cell_type": "code",
      "source": [
        "# Extract the number using regex\n",
        "rate_match = re.search(r'\\d.\\d+', rate_text)\n",
        "rate = float(rate_match.group(0))"
      ],
      "metadata": {
        "id": "KHNIuYwSj7CA"
      },
      "execution_count": 5,
      "outputs": []
    },
    {
      "cell_type": "code",
      "source": [
        "# Input amount to convert\n",
        "usd_amount = float(input(\"Enter amount in USD: \"))"
      ],
      "metadata": {
        "colab": {
          "base_uri": "https://localhost:8080/"
        },
        "id": "ghEuMkJfj9SR",
        "outputId": "ba9d45c6-7aab-4f2e-f1c1-967525a06686"
      },
      "execution_count": 6,
      "outputs": [
        {
          "name": "stdout",
          "output_type": "stream",
          "text": [
            "Enter amount in USD: 1\n"
          ]
        }
      ]
    },
    {
      "cell_type": "code",
      "source": [
        "# Convert\n",
        "eur_amount = usd_amount * rate"
      ],
      "metadata": {
        "id": "xIDaD1kfkAEJ"
      },
      "execution_count": 7,
      "outputs": []
    },
    {
      "cell_type": "code",
      "source": [
        "print(f\"{usd_amount:.4f} USD = {eur_amount:.4f} EUR\")"
      ],
      "metadata": {
        "colab": {
          "base_uri": "https://localhost:8080/"
        },
        "id": "L0zx624_kBMJ",
        "outputId": "5d378627-05b0-4f24-ab77-1239a137c4fa"
      },
      "execution_count": 8,
      "outputs": [
        {
          "output_type": "stream",
          "name": "stdout",
          "text": [
            "1.0000 USD = 1.0832 EUR\n"
          ]
        }
      ]
    }
  ]
}